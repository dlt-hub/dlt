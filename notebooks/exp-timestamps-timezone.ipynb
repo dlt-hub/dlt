{
 "cells": [
  {
   "cell_type": "markdown",
   "id": "4c6b9a66-f843-48c5-bc97-1672b8458438",
   "metadata": {},
   "source": [
    "# Experiment: Timestamps and Timezones\n",
    "\n",
    "Timestamps behave differently across various destinations. In this experiment, we will explore how timestamps are handled in different scenarios.\n",
    "\n",
    "## 1. DuckDB to DuckDB\n",
    "\n",
    "DuckDB supports several timestamp types, but we will focus on the following:\n",
    "\n",
    "- **TIMESTAMP**: This type ignores the session's timezone setting but still converts all timestamps with timezones to UTC.\n",
    "- **TIMESTAMPTZ**: This type uses the session's timezone setting to offset the timestamps accordingly.\n",
    "\n",
    "When you store a TIMESTAMPTZ value, the timestamp is converted to and stored as an instant in time (an absolute point in time, like a Unix timestamp) using the timezone setting active in the session.\n",
    "\n",
    "## 2. DuckDB to Filesystem (PyArrow Parquet)\n",
    "\n",
    "In PyArrow Parquet, the timezone name is stored as a string separate from the timestamp value, meaning it does not affect the timestamp values themselves. \n"
   ]
  },
  {
   "cell_type": "markdown",
   "id": "274175a3-ce09-4187-8bb4-0f869e4debbc",
   "metadata": {},
   "source": [
    "## DuckDB exploration\n",
    "Before jumping to the experiments, we are going to do a DuckDB exploration.\n",
    "We will start creating a duckdb table using TIMESTAMPZ type, with the timezone session set to America/Los Angeles. We can see that DuckDB uses the TimeZone to convert and store the timestamp as an instant (without timezone)."
   ]
  },
  {
   "cell_type": "code",
   "execution_count": 47,
   "id": "1b6cae67-da82-4b6d-8027-1badae53491d",
   "metadata": {},
   "outputs": [
    {
     "name": "stdout",
     "output_type": "stream",
     "text": [
      "   event_id                     event_tstamp\n",
      "0         1 2024-07-30 10:00:00.123000-07:00\n",
      "1         2 2024-07-30 03:00:00.123456-07:00\n"
     ]
    }
   ],
   "source": [
    "import duckdb\n",
    "import pandas as pd\n",
    "\n",
    "# Connect to the DuckDB database\n",
    "conn = duckdb.connect('source.duckdb')\n",
    "\n",
    "# Create a table and insert data\n",
    "conn.execute('''\n",
    "SET TimeZone = 'America/Los_Angeles';\n",
    "CREATE TABLE IF NOT EXISTS events (\n",
    "    event_id INTEGER,\n",
    "    event_tstamp TIMESTAMPTZ\n",
    ");\n",
    "DELETE FROM events;\n",
    "INSERT INTO events (event_id, event_tstamp) VALUES\n",
    "  (1, '2024-07-30 10:00:00.123'),\n",
    "  (2, '2024-07-30 10:00:00.123456+00:00');\n",
    "''')\n",
    "\n",
    "# Fetch the results and load into a Pandas DataFrame\n",
    "results = conn.execute('SELECT * FROM events;').fetchdf()\n",
    "print(results)\n",
    "\n",
    "conn.close()"
   ]
  },
  {
   "cell_type": "markdown",
   "id": "3704b75d",
   "metadata": {},
   "source": [
    "Now we are going to change the Timezone value to UTC, and insert some new data to see what happens:"
   ]
  },
  {
   "cell_type": "code",
   "execution_count": 48,
   "id": "3c3ae510",
   "metadata": {},
   "outputs": [
    {
     "name": "stdout",
     "output_type": "stream",
     "text": [
      "   event_id                     event_tstamp\n",
      "0         1 2024-07-30 17:00:00.123000+00:00\n",
      "1         2 2024-07-30 10:00:00.123456+00:00\n",
      "2         3 2024-08-01 10:00:00.123000+00:00\n",
      "3         4 2024-08-02 06:00:00.123456+00:00\n"
     ]
    }
   ],
   "source": [
    "conn = duckdb.connect('source.duckdb')\n",
    "conn.execute('''\n",
    "SET TimeZone = 'UTC';\n",
    "INSERT INTO events (event_id, event_tstamp) VALUES\n",
    "  (3, '2024-08-01 10:00:00.123'),\n",
    "  (4, '2024-08-02 10:00:00.123456+04:00');\n",
    "''')\n",
    "\n",
    "results = conn.execute('SELECT * FROM events;').fetchdf()\n",
    "print(results)\n",
    "conn.close()"
   ]
  },
  {
   "cell_type": "markdown",
   "id": "3755caad",
   "metadata": {},
   "source": [
    "The TimeZone variable influences the storage of naive timestamps, as demonstrated in event_id=1.\n",
    "\n",
    "Next, we will examine the behavior of a table using the TIMESTAMP type. "
   ]
  },
  {
   "cell_type": "code",
   "execution_count": 50,
   "id": "a6efb96a",
   "metadata": {},
   "outputs": [
    {
     "name": "stdout",
     "output_type": "stream",
     "text": [
      "   event_id               event_tstamp\n",
      "0         1 2024-07-30 10:00:00.123000\n",
      "1         2 2024-07-30 05:00:00.123456\n",
      "2         3 2024-07-30 07:00:00.123000\n",
      "3         4 2024-07-30 03:00:00.123456\n"
     ]
    }
   ],
   "source": [
    "conn = duckdb.connect('source.duckdb')\n",
    "conn.execute('''\n",
    "SET TimeZone = 'America/Los_Angeles';\n",
    "CREATE TABLE IF NOT EXISTS events_ntz (\n",
    "    event_id INTEGER,\n",
    "    event_tstamp TIMESTAMP\n",
    ");\n",
    "DELETE FROM events_ntz;\n",
    "INSERT INTO events_ntz (event_id, event_tstamp) VALUES\n",
    "  (1, '2024-07-30 10:00:00.123'),\n",
    "  (2, '2024-07-30 10:00:00.123456+05:00'),\n",
    "  (3, '2024-07-30 07:00:00.123'),\n",
    "  (4, '2024-07-30 10:00:00.123456+07:00');\n",
    "''')\n",
    "\n",
    "results = conn.execute('SELECT * FROM events_ntz;').fetchdf()\n",
    "print(results)\n",
    "conn.close()"
   ]
  },
  {
   "cell_type": "markdown",
   "id": "01835169",
   "metadata": {},
   "source": [
    "We observe that the TimeZone variable is ignored for naive timestamps, which are stored as entered (event_id=3), while timestamps with time zones are converted to UTC."
   ]
  },
  {
   "cell_type": "markdown",
   "id": "f0d9d05d-726e-4a69-94df-bbb592452976",
   "metadata": {},
   "source": [
    "## Experiment 1 - DuckDB to DuckDB\n",
    "\n",
    "In this experiment, we will use DLT to load data from a source DuckDB instance to a new DuckDB instance. This will be performed three times under different TimeZone settings:\n",
    "\n",
    "The source table `events` contains timestamps of type TIMESTAMPTZ.\n",
    "\n",
    "- TimeZone flag set to NONE (unset)\n",
    "- TimeZone flag set to TRUE (on)\n",
    "- TimeZone flag set to FALSE (off)"
   ]
  },
  {
   "cell_type": "code",
   "execution_count": 1,
   "id": "8b32715b-b5d7-42e4-991f-59dccb5eaecb",
   "metadata": {},
   "outputs": [
    {
     "name": "stdout",
     "output_type": "stream",
     "text": [
      "Source data:\n",
      "   event_id                     event_tstamp\n",
      "0         1 2024-07-30 19:00:00.123000+02:00\n",
      "1         2 2024-07-30 12:00:00.123456+02:00\n",
      "2         3 2024-08-01 12:00:00.123000+02:00\n",
      "3         4 2024-08-02 08:00:00.123456+02:00\n",
      "\n",
      "    Results for - duckunset\n",
      "\n",
      "       event_id               event_tstamp\n",
      "0         1 2024-07-30 17:00:00.123000\n",
      "1         2 2024-07-30 10:00:00.123456\n",
      "2         3 2024-08-01 10:00:00.123000\n",
      "3         4 2024-08-02 06:00:00.123456\n",
      "\n",
      "    DESCRIBE destination table:\n",
      "    \n",
      "        column_name column_type null   key default extra\n",
      "0  event_tstamp   TIMESTAMP  YES  None    None  None\n",
      "1      event_id      BIGINT  YES  None    None  None\n",
      "2  _dlt_load_id     VARCHAR   NO  None    None  None\n",
      "3       _dlt_id     VARCHAR   NO  None    None  None\n",
      "    ----\n",
      "  \n",
      "\n",
      "    Results for - duckon\n",
      "\n",
      "       event_id                     event_tstamp\n",
      "0         1 2024-07-30 10:00:00.123000-07:00\n",
      "1         2 2024-07-30 03:00:00.123456-07:00\n",
      "2         3 2024-08-01 03:00:00.123000-07:00\n",
      "3         4 2024-08-01 23:00:00.123456-07:00\n",
      "\n",
      "    DESCRIBE destination table:\n",
      "    \n",
      "        column_name               column_type null   key default extra\n",
      "0  event_tstamp  TIMESTAMP WITH TIME ZONE  YES  None    None  None\n",
      "1      event_id                    BIGINT  YES  None    None  None\n",
      "2  _dlt_load_id                   VARCHAR   NO  None    None  None\n",
      "3       _dlt_id                   VARCHAR   NO  None    None  None\n",
      "    ----\n",
      "  \n",
      "\n",
      "    Results for - duckoff\n",
      "\n",
      "       event_id               event_tstamp\n",
      "0         1 2024-07-30 17:00:00.123000\n",
      "1         2 2024-07-30 10:00:00.123456\n",
      "2         3 2024-08-01 10:00:00.123000\n",
      "3         4 2024-08-02 06:00:00.123456\n",
      "\n",
      "    DESCRIBE destination table:\n",
      "    \n",
      "        column_name column_type null   key default extra\n",
      "0  event_tstamp   TIMESTAMP  YES  None    None  None\n",
      "1      event_id      BIGINT  YES  None    None  None\n",
      "2  _dlt_load_id     VARCHAR   NO  None    None  None\n",
      "3       _dlt_id     VARCHAR   NO  None    None  None\n",
      "    ----\n",
      "  \n"
     ]
    }
   ],
   "source": [
    "import dlt\n",
    "import duckdb\n",
    "\n",
    "# Fetch data\n",
    "conn = duckdb.connect('source.duckdb')\n",
    "source_df = conn.execute('SELECT * FROM events;').fetchdf()\n",
    "conn.close()\n",
    "\n",
    "print(\"Source data:\")\n",
    "print(source_df)\n",
    "\n",
    "pipelines = {\n",
    "    \"duckunset\": None,\n",
    "    \"duckon\": True,\n",
    "    \"duckoff\": False\n",
    "}\n",
    "\n",
    "for p in pipelines.keys():\n",
    "    \n",
    "  # run pipeline\n",
    "  pipeline = dlt.pipeline(\n",
    "    pipeline_name=p,\n",
    "    destination='duckdb',\n",
    "  )\n",
    "\n",
    "  pipeline.run(source_df.to_dict(orient=\"records\"),write_disposition=\"replace\",table_name='events',\n",
    "               columns=[{\"name\": \"event_tstamp\", \"data_type\": \"timestamp\", \"timezone\": pipelines[p]}])\n",
    "\n",
    "  # fetch results\n",
    "  conn = duckdb.connect(f'{p}.duckdb')\n",
    "  \n",
    "  result = conn.execute(f'''\n",
    "    SET TimeZone = 'America/Los_Angeles';\n",
    "    SELECT event_id,event_tstamp FROM {p}_dataset.events;\n",
    "  ''').fetchdf()\n",
    "\n",
    "  describe = conn.execute(f'DESCRIBE {p}_dataset.events').fetchdf()\n",
    "\n",
    "  conn.close()\n",
    "\n",
    "  print (f\"\"\"\n",
    "    Results for - {p}\n",
    "\n",
    "    {result}\n",
    "\n",
    "    DESCRIBE destination table:\n",
    "    \n",
    "    {describe}\n",
    "    ----\n",
    "  \"\"\")\n",
    "\n",
    "  "
   ]
  },
  {
   "cell_type": "markdown",
   "id": "5f5024d9-affb-47f3-9eea-e44e8f4c9ea6",
   "metadata": {},
   "source": [
    "We observe that the timezone column hint from dlt influences whether the destination timestamp type is TIMESTAMP or TIMESTAMP WITH TIME ZONE. "
   ]
  },
  {
   "cell_type": "markdown",
   "id": "ffac8485",
   "metadata": {},
   "source": [
    "## Experiment 2 - DuckDB to Parquet\n",
    "\n",
    "In this experiment, we will use DLT to load data from a source DuckDB instance to parquet files. This will be performed three times under different TimeZone settings:\n",
    "\n",
    "The source table `events` contains timestamps of type TIMESTAMPTZ.\n",
    "\n",
    "- TimeZone flag set to NONE (unset)\n",
    "- TimeZone flag set to TRUE (on)\n",
    "- TimeZone flag set to FALSE (off)"
   ]
  },
  {
   "cell_type": "code",
   "execution_count": 28,
   "id": "9fd70be8",
   "metadata": {},
   "outputs": [
    {
     "name": "stdout",
     "output_type": "stream",
     "text": [
      "\n",
      "Results for - parquettimezoneunset\n",
      "\n",
      "                      event_tstamp  event_id\n",
      "0 2024-07-30 17:00:00.123000+00:00         1\n",
      "1 2024-07-30 10:00:00.123456+00:00         2\n",
      "2 2024-08-01 10:00:00.123000+00:00         3\n",
      "3 2024-08-02 06:00:00.123456+00:00         4\n",
      "\n",
      "DESCRIBE destination table:\n",
      "\n",
      "event_tstamp: timestamp[us, tz=UTC]\n",
      "event_id: int64\n",
      "_dlt_load_id: string not null\n",
      "_dlt_id: string not null\n",
      "----\n",
      "        \n",
      "\n",
      "Results for - parquettimezoneon\n",
      "\n",
      "                      event_tstamp  event_id\n",
      "0 2024-07-30 17:00:00.123000+00:00         1\n",
      "1 2024-07-30 10:00:00.123456+00:00         2\n",
      "2 2024-08-01 10:00:00.123000+00:00         3\n",
      "3 2024-08-02 06:00:00.123456+00:00         4\n",
      "\n",
      "DESCRIBE destination table:\n",
      "\n",
      "event_tstamp: timestamp[us, tz=UTC]\n",
      "event_id: int64\n",
      "_dlt_load_id: string not null\n",
      "_dlt_id: string not null\n",
      "----\n",
      "        \n",
      "\n",
      "Results for - parquettimezoneoff\n",
      "\n",
      "                event_tstamp  event_id\n",
      "0 2024-07-30 17:00:00.123000         1\n",
      "1 2024-07-30 10:00:00.123456         2\n",
      "2 2024-08-01 10:00:00.123000         3\n",
      "3 2024-08-02 06:00:00.123456         4\n",
      "\n",
      "DESCRIBE destination table:\n",
      "\n",
      "event_tstamp: timestamp[us]\n",
      "event_id: int64\n",
      "_dlt_load_id: string not null\n",
      "_dlt_id: string not null\n",
      "----\n",
      "        \n"
     ]
    }
   ],
   "source": [
    "import dlt\n",
    "import duckdb\n",
    "import pyarrow.parquet as pq\n",
    "import posixpath\n",
    "import os \n",
    "\n",
    "os.environ[\"DESTINATION__FILESYSTEM__BUCKET_URL\"] = \"_storage\"\n",
    "\n",
    "# Fetch data\n",
    "conn = duckdb.connect('source.duckdb')\n",
    "source_df = conn.execute('''\n",
    "SET TimeZone = 'America/Los_Angeles';\n",
    "SELECT * FROM events;\n",
    "''').fetchdf()\n",
    "conn.close()\n",
    "\n",
    "pipelines = {\n",
    "    \"parquettimezoneunset\": None,\n",
    "    \"parquettimezoneon\": True,\n",
    "    \"parquettimezoneoff\": False\n",
    "}\n",
    "\n",
    "for p in pipelines.keys():\n",
    "\n",
    "    # run pipeline\n",
    "    pipeline = dlt.pipeline(\n",
    "        pipeline_name=p,\n",
    "        destination='filesystem',\n",
    "    )\n",
    "\n",
    "    pipeline.run(source_df.to_dict(orient=\"records\"),loader_file_format=\"parquet\",write_disposition=\"replace\",table_name='events',\n",
    "                 columns=[{\"name\": \"event_tstamp\", \"data_type\": \"timestamp\", \"timezone\": pipelines[p]}])\n",
    "\n",
    "    # fetch results\n",
    "    client = pipeline.destination_client()  # type: ignore[assignment]\n",
    "\n",
    "    events_glob = posixpath.join(client.dataset_path, f\"events/*\")\n",
    "    events_files = client.fs_client.glob(events_glob)\n",
    "\n",
    "    with open(events_files[0], \"rb\") as f:\n",
    "        table = pq.read_table(f)\n",
    "\n",
    "        df = table.to_pandas()\n",
    "\n",
    "        print(f\"\"\"\n",
    "Results for - {p}\n",
    "\n",
    "{df[[\"event_tstamp\",\"event_id\"]]}\n",
    "\n",
    "DESCRIBE destination table:\n",
    "\n",
    "{table.schema}\n",
    "----\n",
    "        \"\"\")\n"
   ]
  },
  {
   "cell_type": "markdown",
   "id": "2564a49d",
   "metadata": {},
   "source": [
    "We observe that the timezone column hint from dlt influences whether the destination schema timestamp type has the timezone (tz) set or unset."
   ]
  },
  {
   "cell_type": "markdown",
   "id": "5aba9867",
   "metadata": {},
   "source": [
    "### Conclusion\n",
    "\n",
    "The timezone column hint might be useful for changing the destination timestamp type. \n",
    "\n",
    "As the next step, I suggest testing Snowflake (TZ) to Snowflake(NTZ) replication. The Snowflake TIMESTAMP_NTZ type appears to behave differently than other databases, completely ignoring the timezone data from timestamps."
   ]
  },
  {
   "cell_type": "markdown",
   "id": "d5dd6bcd",
   "metadata": {},
   "source": []
  }
 ],
 "metadata": {
  "kernelspec": {
   "display_name": "Python 3 (ipykernel)",
   "language": "python",
   "name": "python3"
  },
  "language_info": {
   "codemirror_mode": {
    "name": "ipython",
    "version": 3
   },
   "file_extension": ".py",
   "mimetype": "text/x-python",
   "name": "python",
   "nbconvert_exporter": "python",
   "pygments_lexer": "ipython3",
   "version": "3.8.19"
  }
 },
 "nbformat": 4,
 "nbformat_minor": 5
}
