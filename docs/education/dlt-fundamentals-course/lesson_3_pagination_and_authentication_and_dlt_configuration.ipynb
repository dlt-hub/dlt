{
 "cells": [
  {
   "cell_type": "markdown",
   "metadata": {
    "id": "MfQUdpVg2Trs"
   },
   "source": [
    "# **Recap of [Lesson 2](https://colab.research.google.com/drive/1tc94GvIoYXmYrjUibDhY_9iPR5zA0Eyw#forceEdit=true&sandboxMode=true) 👩‍💻🚀**\n",
    "\n",
    "1.  Used `@dlt.resource` to load and query data like lists, dataframes, and REST API responses into DuckDB.  \n",
    "2.  Grouped multiple resources into a single `@dlt.source` for better organization and efficiency.  \n",
    "3.  Used `@dlt.transformer` to process and enrich data between resources.  \n",
    "\n",
    "Next: Dive deeper into building dlt pipelines using pagination, authentication and dlt configuration! 🚀"
   ]
  },
  {
   "cell_type": "markdown",
   "metadata": {
    "id": "pTAeTdoKJHZV"
   },
   "source": [
    "---\n",
    "\n",
    "# **Pagination & Authentication & dlt Configuration** 🤫🔩  [![Open In Colab](https://colab.research.google.com/assets/colab-badge.svg)](https://colab.research.google.com/github/dlt-hub/dlt/blob/master/docs/education/dlt-fundamentals-course/lesson_3_pagination_and_authentication_and_dlt_configuration.ipynb) [![GitHub badge](https://img.shields.io/badge/github-view_source-2b3137?logo=github)](https://github.com/dlt-hub/dlt/blob/master/docs/education/dlt-fundamentals-course/lesson_3_pagination_and_authentication_and_dlt_configuration.ipynb)\n",
    "\n",
    "\n",
    "\n",
    "**Here, you will learn how to:**\n",
    "- Use pagination for RestAPIs.\n",
    "- Use environment variables to handle both secrets & configs.\n",
    "- Add values to `secrets.toml` or `config.toml`.\n",
    "\n",
    "To read more about credentails refer to [dlt documentation](https://dlthub.com/docs/general-usage/credentials/) here."
   ]
  },
  {
   "cell_type": "markdown",
   "metadata": {
    "id": "aAN9q0Kz0tt_"
   },
   "source": [
    "In previous lesson we loaded data from GitHub API  to DuckDB,"
   ]
  },
  {
   "cell_type": "code",
   "execution_count": null,
   "metadata": {
    "id": "mOwmyzsC3xB3"
   },
   "outputs": [],
   "source": [
    "%%capture\n",
    "!pip install dlt"
   ]
  },
  {
   "cell_type": "code",
   "execution_count": null,
   "metadata": {
    "id": "cLZBloTs3i_C"
   },
   "outputs": [],
   "source": [
    "import dlt\n",
    "from dlt.sources.helpers import requests\n",
    "from dlt.common.typing import TDataItems\n",
    "\n",
    "\n",
    "# define dlt resources\n",
    "@dlt.resource\n",
    "def github_events() -> TDataItems:\n",
    "    url = \"https://api.github.com/orgs/dlt-hub/events\"\n",
    "    response = requests.get(url)\n",
    "    yield response.json()\n",
    "\n",
    "\n",
    "# define dlt pipeline\n",
    "pipeline = dlt.pipeline(destination=\"duckdb\")\n",
    "\n",
    "# run dlt pipeline\n",
    "load_info = pipeline.run(github_events)\n",
    "print(load_info)\n",
    "\n",
    "# explore loaded data\n",
    "pipeline.dataset().github_events.df()"
   ]
  },
  {
   "cell_type": "markdown",
   "metadata": {
    "id": "GtyMwBig37uK"
   },
   "source": [
    "You could notice that we received only 1 page, only 30 records. But this endpoint has muuuch more records in total. To get all the pages you should use a pagination.\n",
    "\n",
    "When working with APIs like GitHub, data is often returned in pages. Pagination allows you to retrieve all the data when an endpoint limits how much can be fetched at once."
   ]
  },
  {
   "cell_type": "markdown",
   "metadata": {
    "id": "t8JLfSNo0eTQ"
   },
   "source": [
    "![Lesson_3_Pagination_%26_Authentication_%26_dlt_Configuration_img1](https://storage.googleapis.com/dlt-blog-images/dlt-fundamentals-course/Lesson_3_Pagination_%26_Authentication_%26_dlt_Configuration_img1.webp)"
   ]
  },
  {
   "cell_type": "markdown",
   "metadata": {
    "id": "BolhMQE10Zgk"
   },
   "source": [
    "## **Pagination**\n",
    "\n",
    "GitHub has very good documentation, so it is not difficult to go through the documentation and find the relevant page: [Pagination.](https://docs.github.com/en/rest/using-the-rest-api/using-pagination-in-the-rest-api?apiVersion=2022-11-28)\n",
    "\n",
    "It says:\n",
    ">You can use the `link` header from the response to request additional pages of data.\n",
    "\n",
    ">The link header contains URLs that you can use to fetch additional pages of results. For example, the previous, next, first, and last page of results."
   ]
  },
  {
   "cell_type": "markdown",
   "metadata": {
    "id": "iU-xQriAHJI2"
   },
   "source": [
    "**GitHub API Pagination example**\n",
    "\n",
    "The GitHub API provides the `per_page` and `page` query parameters:\n",
    "\n",
    "* `per_page`: The number of records per page (up to 100).\n",
    "* `page`: The page number to retrieve."
   ]
  },
  {
   "cell_type": "code",
   "execution_count": null,
   "metadata": {
    "id": "R3o4vjCX4ulS"
   },
   "outputs": [],
   "source": [
    "import requests\n",
    "\n",
    "response = requests.get(\"https://api.github.com/orgs/dlt-hub/events?per_page=10&page=1\")\n",
    "response.headers"
   ]
  },
  {
   "cell_type": "markdown",
   "metadata": {
    "id": "ZdDGuAVJ4Qqo"
   },
   "source": [
    "Gotcha! We can see 'Link' in the headers. To get this link we can alternatively use `response.links`:"
   ]
  },
  {
   "cell_type": "code",
   "execution_count": null,
   "metadata": {
    "id": "yd18fZvg5GC5"
   },
   "outputs": [],
   "source": [
    "import requests\n",
    "\n",
    "response = requests.get(\"https://api.github.com/orgs/dlt-hub/events?per_page=10&page=1\")\n",
    "response.links"
   ]
  },
  {
   "cell_type": "markdown",
   "metadata": {
    "id": "atD4c8DED0xi"
   },
   "source": [
    "### **dlt RESTClient**\n",
    "\n",
    "The response includes a 'Link' header for navigating to the next page.\n",
    "So now we can implement a pagination!\n",
    "\n",
    "When working with APIs, you could implement pagination using only Python and the requests library. While this approach works, it often requires writing boilerplate code for tasks like managing authentication, constructing URLs, and handling pagination logic.\n",
    "\n",
    "More about how to build pagination with Python and `requests`:\n",
    "\n",
    "* [Link 1](https://farnamdata.com/api-pagination)\n",
    "\n",
    "* [Link 2](https://www.klamp.io/blog/python-requests-pagination-for-efficient-data-retrieval)\n",
    "\n",
    "**But!** In this lesson, we’re gonna use dlt's **[RESTClient](https://dlthub.com/docs/general-usage/http/rest-client)** to handle pagination seamlessly when working with REST APIs like GitHub.\n",
    "\n",
    "\n",
    "**Why use RESTClient?**\n",
    "\n",
    "RESTClient is part of dlt's helpers, making it easier to interact with REST APIs by managing repetitive tasks such as:\n",
    "\n",
    "* Authentication\n",
    "* Query parameter handling\n",
    "* Pagination\n",
    "\n",
    "This reduces boilerplate code and lets you focus on your data pipeline logic.\n",
    "\n",
    "**Here’s how to fetch paginated data:**\n",
    "1. Import RESTClient\n",
    "2. Create the RESTClient instance\n",
    "3. Use the `paginate` method to iterate through all pages of data."
   ]
  },
  {
   "cell_type": "code",
   "execution_count": null,
   "metadata": {
    "id": "Bz80ODqLJlFE"
   },
   "outputs": [],
   "source": [
    "from dlt.sources.helpers.rest_client import RESTClient\n",
    "\n",
    "\n",
    "client = RESTClient(\n",
    "    base_url=\"https://api.github.com\",\n",
    ")\n",
    "\n",
    "for page in client.paginate(\"orgs/dlt-hub/events\"):\n",
    "    print(page)"
   ]
  },
  {
   "cell_type": "markdown",
   "metadata": {
    "id": "yNB8jyz5Kmo1"
   },
   "source": [
    "Pagination type was detected automatically, but you can explicitly provide it:"
   ]
  },
  {
   "cell_type": "code",
   "execution_count": null,
   "metadata": {
    "id": "KvO-x4-RKorg"
   },
   "outputs": [],
   "source": [
    "from dlt.sources.helpers.rest_client import RESTClient\n",
    "from dlt.sources.helpers.rest_client.paginators import HeaderLinkPaginator\n",
    "\n",
    "client = RESTClient(\n",
    "    base_url=\"https://api.github.com\",\n",
    "    paginator=HeaderLinkPaginator(),\n",
    ")"
   ]
  },
  {
   "cell_type": "markdown",
   "metadata": {
    "id": "_jNBmv1qkUhk"
   },
   "source": [
    "The full list of available paginators you can see in offcial [dlt documentation](https://dlthub.com/docs/general-usage/http/rest-client#paginators).\n"
   ]
  },
  {
   "cell_type": "markdown",
   "metadata": {
    "id": "Z4pR7wp9kZ6X"
   },
   "source": [
    "![Lesson_3_Pagination_%26_Authentication_%26_dlt_Configuration_img2](https://storage.googleapis.com/dlt-blog-images/dlt-fundamentals-course/Lesson_3_Pagination_%26_Authentication_%26_dlt_Configuration_img2.png)"
   ]
  },
  {
   "cell_type": "markdown",
   "metadata": {
    "id": "Dqi7NQtqhfeb"
   },
   "source": [
    "The events endpoint does not have as much data, specially if you compare it with the stargazers endpoint for the dlt repo.\n",
    "\n",
    "If you run the pipeline for stargazers endpoint, there is a high chance that you face the **rate limit error**."
   ]
  },
  {
   "cell_type": "code",
   "execution_count": null,
   "metadata": {
    "id": "XgOQ5iz3hzus"
   },
   "outputs": [],
   "source": [
    "from dlt.sources.helpers.rest_client import RESTClient\n",
    "\n",
    "\n",
    "client = RESTClient(\n",
    "    base_url=\"https://api.github.com\",\n",
    ")\n",
    "\n",
    "for page in client.paginate(\"repos/dlt-hub/dlt/stargazers\"):\n",
    "    print(page)"
   ]
  },
  {
   "cell_type": "markdown",
   "metadata": {
    "id": "JAifj1a4K97Z"
   },
   "source": [
    "### **Exercise 1: Pagination with RESTClient**\n",
    "Explore the cells above and answer the question below.\n",
    "#### Question\n",
    "What type of pagination should we use for the GitHub API?"
   ]
  },
  {
   "cell_type": "markdown",
   "metadata": {
    "id": "iKUgNTKuiP6w"
   },
   "source": [
    "## **Authentication**\n",
    "\n",
    "To avoid this error you can use [GitHub API Authentication](https://docs.github.com/en/rest/authentication/authenticating-to-the-rest-api?apiVersion=2022-11-28):\n",
    "\n",
    "1. Login to your GitHub account.\n",
    "2. Generate [API token](https://docs.github.com/en/authentication/keeping-your-account-and-data-secure/creating-a-personal-access-token) (classic one!).\n",
    "2.  Use it as an access token for GitHub API."
   ]
  },
  {
   "cell_type": "markdown",
   "metadata": {
    "id": "-7ZHBjYspQxt"
   },
   "source": [
    "**! ATTENTION !**\n",
    "\n",
    "Never share your credentials in public and never hard-code them in your code. Use **environment variables** or **dlt secrets.toml**."
   ]
  },
  {
   "cell_type": "markdown",
   "metadata": {
    "id": "UB02kiI8ncYm"
   },
   "source": [
    "Create an environment variable for your access token.\n",
    "\n",
    "![Lesson_3_Pagination_%26_Authentication_%26_dlt_Configuration_img3](https://storage.googleapis.com/dlt-blog-images/dlt-fundamentals-course/Lesson_3_Pagination_%26_Authentication_%26_dlt_Configuration_img3.webp)"
   ]
  },
  {
   "cell_type": "code",
   "execution_count": null,
   "metadata": {
    "id": "uOqH_WwKqLw4"
   },
   "outputs": [],
   "source": [
    "import os\n",
    "from google.colab import userdata\n",
    "\n",
    "access_token = userdata.get(\"SECRET_KEY\")"
   ]
  },
  {
   "cell_type": "markdown",
   "metadata": {
    "id": "6bdNZJ0HqY4O"
   },
   "source": [
    "So now you can use `access_token` variable in the code below:"
   ]
  },
  {
   "cell_type": "code",
   "execution_count": null,
   "metadata": {
    "id": "BuC4K3VmmZVr"
   },
   "outputs": [],
   "source": [
    "from dlt.sources.helpers.rest_client import RESTClient\n",
    "from dlt.sources.helpers.rest_client.auth import BearerTokenAuth\n",
    "\n",
    "\n",
    "client = RESTClient(\n",
    "    base_url=\"https://api.github.com\",\n",
    "    auth=BearerTokenAuth(token=access_token),  # <--- put your token here\n",
    ")\n",
    "\n",
    "for page in client.paginate(\"repos/dlt-hub/dlt/stargazers\"):\n",
    "    print(page)\n",
    "    break"
   ]
  },
  {
   "cell_type": "markdown",
   "metadata": {
    "id": "D7-rTvYvr05t"
   },
   "source": [
    "So now we can rewrite our GitHub dlt pipeline using the RestAPI Client and `access_token`."
   ]
  },
  {
   "cell_type": "code",
   "execution_count": null,
   "metadata": {
    "id": "AVDMTK-Ns1Or"
   },
   "outputs": [],
   "source": [
    "import dlt\n",
    "from dlt.sources.helpers import requests\n",
    "from dlt.sources.helpers.rest_client import RESTClient\n",
    "from dlt.sources.helpers.rest_client.auth import BearerTokenAuth\n",
    "\n",
    "\n",
    "# define new resource - github stargazers\n",
    "@dlt.resource\n",
    "def github_stargazers() -> TDataItems:\n",
    "    client = RESTClient(base_url=\"https://api.github.com\", auth=BearerTokenAuth(token=access_token))\n",
    "\n",
    "    for page in client.paginate(\"repos/dlt-hub/dlt/stargazers\"):\n",
    "        yield page\n",
    "\n",
    "\n",
    "# define new dlt pipeline\n",
    "pipeline = dlt.pipeline(destination=\"duckdb\")\n",
    "\n",
    "\n",
    "# run the pipeline with the new resource\n",
    "load_info = pipeline.run(github_stargazers)\n",
    "print(load_info)\n",
    "\n",
    "\n",
    "# explore loaded data\n",
    "pipeline.dataset().github_stargazers.df()"
   ]
  },
  {
   "cell_type": "markdown",
   "metadata": {
    "id": "ci057uaIuO05"
   },
   "source": [
    "You can see that all dlt [stargazers](https://github.com/dlt-hub/dlt/stargazers) were loaded into the DuckDB destination."
   ]
  },
  {
   "cell_type": "markdown",
   "metadata": {
    "id": "SxpBIZZ_yE8R"
   },
   "source": [
    "## **dlt configuration and secrets**\n",
    "\n",
    "In dlt, [configurations and secrets](https://dlthub.com/docs/general-usage/credentials/) are essential for setting up data pipelines.\n",
    "\n",
    "**Configurations** are **non-sensitive** settings that define the behavior of a data pipeline, including file paths, database hosts, timeouts, API URLs, and performance settings.\n",
    "\n",
    "On the other hand, **secrets** are **sensitive** data like passwords, API keys, and private keys, which should never be hard-coded to avoid security risks.\n",
    "\n",
    "These can be set up in various ways:\n",
    "\n",
    "* Environment variables\n",
    "* Within code using `dlt.secrets` and `dlt.config`\n",
    "* Configuration files (`secrets.toml` and `config.toml`)\n",
    "\n",
    "We're gonna use `dlt.secrets.value` to define credentials in resources and sources. dlt automatically **extracts** configuration settings and secrets based on flexible naming conventions. It then **injects** these values where needed in code.\n",
    "\n",
    "**Note**: It's important to note that while you can put all configurations and credentials in the `dlt.secrets` (or `secrets.toml`) if it's more convenient, credentials cannot be placed in `dlt.config` (or `config.toml`) because dlt doesn't look for them there.\n"
   ]
  },
  {
   "cell_type": "markdown",
   "metadata": {
    "id": "64JM2Lnlxyoa"
   },
   "source": [
    "Let's create dlt pipeline for both endpoints: `repos/dlt-hub/dlt/stargazers` and `orgs/dlt-hub/events`.\n",
    "\n",
    "We'll use `@dlt.source` to combine all resources in one place."
   ]
  },
  {
   "cell_type": "code",
   "execution_count": null,
   "metadata": {
    "id": "epdNPElwvuSl"
   },
   "outputs": [],
   "source": [
    "from typing import Iterable\n",
    "import dlt\n",
    "from dlt.extract import DltResource\n",
    "from dlt.sources.helpers import requests\n",
    "from dlt.sources.helpers.rest_client import RESTClient\n",
    "from dlt.sources.helpers.rest_client.auth import BearerTokenAuth\n",
    "\n",
    "\n",
    "@dlt.source\n",
    "def github_source() -> Iterable[DltResource]:\n",
    "    client = RESTClient(base_url=\"https://api.github.com\", auth=BearerTokenAuth(token=access_token))\n",
    "\n",
    "    @dlt.resource\n",
    "    def github_events() -> TDataItems:\n",
    "        for page in client.paginate(\"orgs/dlt-hub/events\"):\n",
    "            yield page\n",
    "\n",
    "    @dlt.resource\n",
    "    def github_stargazers() -> TDataItems:\n",
    "        for page in client.paginate(\"repos/dlt-hub/dlt/stargazers\"):\n",
    "            yield page\n",
    "\n",
    "    return github_events, github_stargazers"
   ]
  },
  {
   "cell_type": "markdown",
   "metadata": {
    "id": "0h3ugsRiLhfv"
   },
   "source": [
    "Now we'll use `dlt.secrets.value` in our source to enable dlt secrets configuration. Rename `access_token` variable to `secret_key` because it's already defined.\n",
    "\n"
   ]
  },
  {
   "cell_type": "code",
   "execution_count": null,
   "metadata": {
    "id": "7HbCvlI0p46Z"
   },
   "outputs": [],
   "source": [
    "exit()  # we use exit() to reset all ENVs we set"
   ]
  },
  {
   "cell_type": "code",
   "execution_count": null,
   "metadata": {
    "id": "UgwLDHY1Lhvn"
   },
   "outputs": [],
   "source": [
    "import dlt\n",
    "from dlt.sources.helpers import requests\n",
    "from dlt.sources.helpers.rest_client import RESTClient\n",
    "from dlt.sources.helpers.rest_client.auth import BearerTokenAuth\n",
    "\n",
    "\n",
    "@dlt.source\n",
    "def github_source(\n",
    "    access_token=dlt.secrets.value,\n",
    ") -> Iterable[DltResource]:  # <--- set the secret variable \"access_token\" here\n",
    "    client = RESTClient(base_url=\"https://api.github.com\", auth=BearerTokenAuth(token=access_token))\n",
    "\n",
    "    @dlt.resource\n",
    "    def github_events() -> TDataItems:\n",
    "        for page in client.paginate(\"orgs/dlt-hub/events\"):\n",
    "            yield page\n",
    "\n",
    "    @dlt.resource\n",
    "    def github_stargazers() -> TDataItems:\n",
    "        for page in client.paginate(\"repos/dlt-hub/dlt/stargazers\"):\n",
    "            yield page\n",
    "\n",
    "    return github_events, github_stargazers"
   ]
  },
  {
   "cell_type": "markdown",
   "metadata": {
    "id": "H-wNVUqfuD37"
   },
   "source": [
    "Configs are defined in a similar way but are accessed using `dlt.config.value`. However, since configuration variables are internally managed by `dlt`, it is unlikely that you would need to explicitly use `dlt.config.value` in most cases."
   ]
  },
  {
   "cell_type": "markdown",
   "metadata": {
    "id": "shfeHo-vOcD1"
   },
   "source": [
    "If you run the pipeline with `secret_key` as `dlt.secrets.value`, you will see the following error:"
   ]
  },
  {
   "cell_type": "code",
   "execution_count": null,
   "metadata": {
    "id": "fQBm87DFOjuJ"
   },
   "outputs": [],
   "source": [
    "# define new dlt pipeline\n",
    "pipeline = dlt.pipeline(destination=\"duckdb\")\n",
    "\n",
    "\n",
    "# run the pipeline with the new resource\n",
    "load_info = pipeline.run(github_source())\n",
    "print(load_info)"
   ]
  },
  {
   "cell_type": "markdown",
   "metadata": {
    "id": "GCmqzzo7OpgE"
   },
   "source": [
    "^ That is what happens if you set `dlt.secrets.value` for any variable in your dlt pipeline, but don't set the secret value up.\n",
    "\n",
    "dlt is looking for secrets in following formats:\n",
    "\n",
    "```python\n",
    "ConfigFieldMissingException: Following fields are missing: ['access_token'] in configuration with spec GithubSourceConfiguration\n",
    "\tfor field \"access_token\" config providers and keys were tried in following order:\n",
    "\t\tIn Environment Variables key DLT_COLAB_KERNEL_LAUNCHER__SOURCES____MAIN____GITHUB_SOURCE__ACCESS_TOKEN was not found.\n",
    "\t\tIn Environment Variables key DLT_COLAB_KERNEL_LAUNCHER__SOURCES____MAIN____ACCESS_TOKEN was not found.\n",
    "\t\tIn Environment Variables key DLT_COLAB_KERNEL_LAUNCHER__SOURCES__ACCESS_TOKEN was not found.\n",
    "\t\tIn Environment Variables key DLT_COLAB_KERNEL_LAUNCHER__ACCESS_TOKEN was not found.\n",
    "\t\tIn Environment Variables key SOURCES____MAIN____GITHUB_SOURCE__ACCESS_TOKEN was not found.\n",
    "\t\tIn Environment Variables key SOURCES____MAIN____ACCESS_TOKEN was not found.\n",
    "\t\tIn Environment Variables key SOURCES__ACCESS_TOKEN was not found.\n",
    "\t\tIn Environment Variables key ACCESS_TOKEN was not found.\n",
    "WARNING: dlt looks for .dlt folder in your current working directory and your cwd (/content) is different from directory of your pipeline script (/usr/local/lib/python3.10/dist-packages).\n",
    "If you keep your secret files in the same folder as your pipeline script but run your script from some other folder, secrets/configs will not be found\n",
    "Please refer to https://dlthub.com/docs/general-usage/credentials for more information\n",
    "```"
   ]
  },
  {
   "cell_type": "markdown",
   "metadata": {
    "id": "Ox08B2V5NCaH"
   },
   "source": [
    "To define `access_token` secret value we can use:\n",
    "\n",
    "1. `dlt.secrets` in code (recommended for secret vaults or dynamic creds)\n",
    "2. Environment variables (recomnended for prod)\n",
    "3. `secrets.toml` file (recommended for local dev)"
   ]
  },
  {
   "cell_type": "markdown",
   "metadata": {
    "id": "cuOeDM5BQwir"
   },
   "source": [
    "### **Use `dlt.secrets` in code**\n",
    "\n",
    "You can easily rewrite your secret right in the Python code. It's especially convenient if you take credentials from third-party secret providers, or if you want to update credentials and configs dinamically."
   ]
  },
  {
   "cell_type": "code",
   "execution_count": null,
   "metadata": {
    "id": "5ViIkzioRijR"
   },
   "outputs": [],
   "source": [
    "import os\n",
    "from google.colab import userdata\n",
    "\n",
    "dlt.secrets[\"access_token\"] = userdata.get(\"SECRET_KEY\")\n",
    "\n",
    "# define new dlt pipeline\n",
    "pipeline = dlt.pipeline(destination=\"duckdb\")\n",
    "\n",
    "\n",
    "# run the pipeline with the new resource\n",
    "load_info = pipeline.run(github_source())\n",
    "print(load_info)"
   ]
  },
  {
   "cell_type": "markdown",
   "metadata": {
    "id": "GNghaiYwSBGm"
   },
   "source": [
    "Alternatively you can set:\n",
    "\n",
    "```python\n",
    "dlt.secrets[\"sources.access_token\"] = userdata.get('SECRET_KEY')\n",
    "dlt.secrets[\"sources.____main____.access_token\"] = userdata.get('SECRET_KEY')\n",
    "dlt.secrets[\"sources.____main____.github_source.access_token\"] = userdata.get('SECRET_KEY')\n",
    "...\n",
    "```"
   ]
  },
  {
   "cell_type": "markdown",
   "metadata": {
    "id": "baf0e3-CSxz6"
   },
   "source": [
    "* `sources` is a special word;\n",
    "\n",
    "* `__main__` is a python module name;\n",
    "\n",
    "* `github_source` is the resource name;\n",
    "\n",
    "* `access_token` is the secret variable name.\n",
    "\n",
    "\n",
    "So dlt looks for secrets according to this hierarchy:\n",
    "```\n",
    "pipeline_name\n",
    "    |\n",
    "    |-sources\n",
    "        |\n",
    "        |-<module name>\n",
    "            |  \n",
    "            |-<source function 1 name>\n",
    "                |\n",
    "                |- secret variable 1\n",
    "                |- secret variable 2\n",
    "```\n",
    "\n",
    "To keep the **naming convention** flexible, dlt looks for a lot of **possible combinations** of key names, starting from the most specific possible path. Then, if the value is not found, it removes the right-most section and tries again.\n"
   ]
  },
  {
   "cell_type": "markdown",
   "metadata": {
    "id": "Adi1RZmOvVzj"
   },
   "source": [
    "### **Exercise 2: Run pipeline with `dlt.secrets.value`**\n",
    "\n",
    "Explore the cells above and answer the question below using `sql_client`.\n",
    "\n",
    "#### Question\n",
    "\n",
    "Who has id=`17202864` in the `stargazers` table? Use `sql_client`."
   ]
  },
  {
   "cell_type": "markdown",
   "metadata": {
    "id": "fQlOIe46ncYm"
   },
   "source": [
    "---\n",
    "###  **Use environment variables**\n",
    "\n",
    "Let's set ENV in the one of the dlt formats: `ACCESS_TOKEN`.\n"
   ]
  },
  {
   "cell_type": "code",
   "execution_count": null,
   "metadata": {
    "id": "T7r63S-2M_mU"
   },
   "outputs": [],
   "source": [
    "import os\n",
    "from google.colab import userdata\n",
    "\n",
    "os.environ[\"ACCESS_TOKEN\"] = userdata.get(\"SECRET_KEY\")\n",
    "\n",
    "# define new dlt pipeline\n",
    "pipeline = dlt.pipeline(destination=\"duckdb\")\n",
    "\n",
    "\n",
    "# run the pipeline with the new resource\n",
    "load_info = pipeline.run(github_source())\n",
    "print(load_info)"
   ]
  },
  {
   "cell_type": "markdown",
   "metadata": {
    "id": "ppEFU1hJPU6c"
   },
   "source": [
    "Alternatively you can set:\n",
    "\n",
    "```python\n",
    "os.environ[\"SOURCES__ACCESS_TOKEN\"] = userdata.get('SECRET_KEY')\n",
    "os.environ[\"SOURCES____MAIN____ACCESS_TOKEN\"] = userdata.get('SECRET_KEY')\n",
    "os.environ[\"SOURCES____MAIN____GITHUB_SOURCE__ACCESS_TOKEN\"] = userdata.get('SECRET_KEY')\n",
    "...\n",
    "```"
   ]
  },
  {
   "cell_type": "markdown",
   "metadata": {
    "id": "99269obqMqpK"
   },
   "source": [
    "**How does it work?**\n",
    "\n",
    "`dlt` **automatically extracts** configuration settings and secrets based on flexible naming conventions.\n",
    "\n",
    "It then **injects** these values where needed in functions decorated with `@dlt.source`, `@dlt.resource`, or `@dlt.destination`.\n",
    "\n",
    "\n",
    ">dlt uses a specific naming hierarchy to search for the secrets and config values. This makes configurations and secrets easy to manage.\n",
    ">\n",
    "> The naming convention for **environment variables** in dlt follows a specific pattern. All names are **capitalized** and sections are separated with **double underscores** __ , e.g.  `SOURCES____MAIN____GITHUB_SOURCE__SECRET_KEY`.\n"
   ]
  },
  {
   "cell_type": "markdown",
   "metadata": {
    "id": "l7Y1oCAvJ79I"
   },
   "source": [
    "---\n",
    "###  **Use dlt `secrets.toml` or `config.toml`**\n"
   ]
  },
  {
   "cell_type": "markdown",
   "metadata": {
    "id": "mNzCp5BGpDSh"
   },
   "source": [
    "> Please note that Colab is not well-suited for using `secrets.toml` or `config.toml` files. As a result, these sections will provide instructions rather than code cells, detailing how to use them in a local environment. You should test this functionality on your own machine. For Colab, it is recommended to use environment variables instead."
   ]
  },
  {
   "cell_type": "markdown",
   "metadata": {
    "id": "N3LJ7NQDqTCT"
   },
   "source": [
    "The `secrets.toml` file - along with the `config.toml` file - should be stored in the `.dlt` directory where your pipeline code is located:\n",
    "\n",
    "```\n",
    "/your_project_directory\n",
    "│\n",
    "├── .dlt\n",
    "│   ├── secrets.toml\n",
    "│   └── config.toml\n",
    "│\n",
    "└── my_pipeline.py\n",
    "```\n",
    "\n",
    "Read more about adding [credentials](https://dlthub.com/docs/walkthroughs/add_credentials) here."
   ]
  },
  {
   "cell_type": "markdown",
   "metadata": {
    "id": "6bTyl229sadQ"
   },
   "source": [
    "To set credentials via TOMLs you would first add your access token to `secrets.toml`:\n",
    "\n",
    "```toml\n",
    "# .dlt/secrets.toml\n",
    "\n",
    "[sources]\n",
    "secret_key = \"your_access_token\"\n",
    "```\n",
    "\n"
   ]
  },
  {
   "cell_type": "markdown",
   "metadata": {
    "id": "hUhcKFOMKws8"
   },
   "source": [
    "\n",
    "Alternatively you can set:\n",
    "\n",
    "```\n",
    "[sources]\n",
    "secret_key = \"your_access_token\"\n",
    "```\n",
    "is equal to:\n",
    "\n",
    "```\n",
    "secret_key = \"your_access_token\"\n",
    "```\n",
    "\n",
    "and to:\n",
    "\n",
    "```\n",
    "[sources.____main____]\n",
    "secret_key = \"your_access_token\"\n",
    "```\n",
    "and to:\n",
    "\n",
    "```\n",
    "[sources.____main____.github_source]\n",
    "secret_key = \"your_access_token\"\n",
    "```"
   ]
  },
  {
   "cell_type": "markdown",
   "metadata": {
    "id": "qr3wuqICI63L"
   },
   "source": [
    "\n",
    "### **Configure Secrets in Colab**\n",
    "\n",
    "You can configure secrets using **Secrets** sidebar. Just create a variable with the name `secrets.toml` and paste the content of the toml file from your `.dlt` folder into it. We support `config.toml` variable as well.\n",
    "\n",
    "Open **Secrets** sidebar, press \"Add new secret\", create variable with name `secrets.toml` and copy-paste secrets in Value field and Enable it:\n",
    "\n",
    "```\n",
    "[sources]\n",
    "secret_key = \"your_access_token\"\n",
    "```\n",
    "\n",
    "\n",
    ">dlt will not reload the secrets automatically. **Please restart your interpreter** in Colab options when you add/change content of the variables above."
   ]
  },
  {
   "cell_type": "markdown",
   "metadata": {
    "id": "q1yW85lxJMxr"
   },
   "source": [
    "![Lesson_3_Pagination_%26_Authentication_%26_dlt_Configuration_img4](https://storage.googleapis.com/dlt-blog-images/dlt-fundamentals-course/Lesson_3_Pagination_%26_Authentication_%26_dlt_Configuration_img4.png)"
   ]
  },
  {
   "cell_type": "markdown",
   "metadata": {
    "id": "NYbccmLie1zm"
   },
   "source": [
    "✅ ▶ Proceed to the [next lesson](https://colab.research.google.com/drive/1mfqZulsuFDc7h27d6joe2_Dduvl1uM-2#forceEdit=true&sandboxMode=true)!"
   ]
  },
  {
   "cell_type": "code",
   "execution_count": null,
   "metadata": {
    "id": "_7dLATtZkdQl"
   },
   "outputs": [],
   "source": []
  }
 ],
 "metadata": {
  "colab": {
   "provenance": [],
   "toc_visible": true
  },
  "kernelspec": {
   "display_name": "Python 3",
   "name": "python3"
  },
  "language_info": {
   "name": "python"
  }
 },
 "nbformat": 4,
 "nbformat_minor": 0
}
