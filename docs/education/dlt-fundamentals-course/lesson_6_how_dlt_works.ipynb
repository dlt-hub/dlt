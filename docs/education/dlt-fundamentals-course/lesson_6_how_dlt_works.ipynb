{
 "cells": [
  {
   "cell_type": "markdown",
   "metadata": {
    "id": "h93BcC8SX2fj"
   },
   "source": [
    "# **Recap of [Lesson 5](https://colab.research.google.com/drive/1Zf24gIVMNNj9j-gtXFl8p0orI9ttySDn#forceEdit=true&sandboxMode=true) 👩‍💻🚀**\n",
    "\n",
    "1. Explored 3 dlt write dispositions:\n",
    "  * append;\n",
    "  * replace;\n",
    "  * merge.\n",
    "2. Learned how to update and depuplicate data\n",
    "3. Created incremental pipeline\n"
   ]
  },
  {
   "cell_type": "markdown",
   "metadata": {
    "id": "26boldDvOn0R"
   },
   "source": [
    "# **How dlt works** 🧠🧠 [![Open In Colab](https://colab.research.google.com/assets/colab-badge.svg)](https://colab.research.google.com/github/dlt-hub/dlt/blob/master/docs/education/dlt-fundamentals-course/lesson_6_how_dlt_works.ipynb) [![GitHub badge](https://img.shields.io/badge/github-view_source-2b3137?logo=github)](https://github.com/dlt-hub/dlt/blob/master/docs/education/dlt-fundamentals-course/lesson_6_how_dlt_works.ipynb)\n",
    "\n",
    "\n",
    "**Here, you will learn:**\n",
    "- Three main steps:\n",
    "  - Extract;\n",
    "  - Normalize;\n",
    "  - Load.  \n",
    "- Some default behaviour.\n",
    "- About file formats."
   ]
  },
  {
   "cell_type": "markdown",
   "metadata": {
    "id": "1hzeqW42Wi_7"
   },
   "source": [
    "## **Introduction**\n",
    "\n",
    "The main building block of dlt is the **pipeline**, which orchestrates the loading of data from your source into your destination in three discrete steps when you call its **run** method."
   ]
  },
  {
   "cell_type": "markdown",
   "metadata": {
    "id": "Eu8eqNn_-p0O"
   },
   "source": [
    "So, let's take a step back and walk through the internal steps of `pipeline.run()`, identifying methods to optimize each one."
   ]
  },
  {
   "cell_type": "markdown",
   "metadata": {
    "id": "Xh6CKQATb63X"
   },
   "source": [
    "# **Understing `pipeline.run()`**\n",
    " The `pipeline.run()` method executes the entire pipeline, encompassing the [`extract`](#scrollTo=4C0U1dnwZxAB), [`normalize`](#scrollTo=bCeUqaW_cRSh), and [`load`](#scrollTo=Rn6cUc0OcWsk) stages."
   ]
  },
  {
   "cell_type": "markdown",
   "metadata": {},
   "source": [
    "![Lesson_6_How_dlt_works_img1](https://storage.googleapis.com/dlt-blog-images/dlt-fundamentals-course/Lesson_6_How_dlt_works_img1.png)"
   ]
  },
  {
   "cell_type": "markdown",
   "metadata": {
    "id": "ukm8qugulxS3"
   },
   "source": [
    "Consider this intentionally short example:"
   ]
  },
  {
   "cell_type": "code",
   "execution_count": null,
   "metadata": {
    "id": "nacubn1Cl2o8"
   },
   "outputs": [],
   "source": [
    "%%capture\n",
    "!pip install -U dlt"
   ]
  },
  {
   "cell_type": "code",
   "execution_count": null,
   "metadata": {
    "id": "dG6T8v-Eluie"
   },
   "outputs": [],
   "source": [
    "import dlt\n",
    "\n",
    "pipeline = dlt.pipeline(\n",
    "    pipeline_name=\"my_pipeline\", destination=\"duckdb\", progress=\"log\"\n",
    ")\n",
    "\n",
    "load_info = pipeline.run(\n",
    "    [\n",
    "        {\"id\": 1},\n",
    "        {\"id\": 2},\n",
    "        {\"id\": 3, \"nested\": [{\"id\": 1}, {\"id\": 2}]},\n",
    "    ],\n",
    "    table_name=\"items\",\n",
    ")\n",
    "print(load_info)"
   ]
  },
  {
   "cell_type": "markdown",
   "metadata": {
    "id": "Eqc1Oe7qqX19"
   },
   "source": [
    "This is what happens when the `run` method is executed:\n",
    "\n",
    "1. **Extract** - Fully extracts the data from your source to your hard drive. In the example above, an implicit source with one resource with 3 items is created and extracted.\n",
    "2. **Normalize** - Inspects and normalizes your data and computes a schema compatible with your destination. For the example above, the normalizer will detect one column `id` of type `int` in one table named `items`, it will furthermore detect a nested list in table items and unnest it into a child table named `items__nested`.\n",
    "3. **Load** - Runs schema migrations if necessary on your destination and loads your data into the destination. For the example above, a new dataset on a local duckdb database is created that contains the two tables discovered in the previous steps.\n",
    "\n",
    "\n",
    "## **Display the loading progress**\n",
    "Notice how we use `progress=\"log\"` here.\n",
    "\n",
    "The `progress=\"log\"` argument in the `dlt.pipeline` configuration enables detailed logging of the pipeline’s progress during execution. These logs provide visibility into the pipeline’s operations, showing how data flows through the **Extract**, **Normalize**, and **Load** phases. The logs include real-time metrics such as resource or file counts, time elapsed, processing rates, memory usage, and CPU utilization.\n",
    "\n",
    "\n",
    "dlt supports 4 progress monitors out of the box:\n",
    "\n",
    "* `enlighten` - a status bar with progress bars that also allows for logging.\n",
    "* `tqdm` - the most popular Python progress bar lib, proven to work in Notebooks.\n",
    "* `alive_progress` - with the most fancy animations.\n",
    "* `log` - dumps the progress information to log, console, or text stream. the most useful on production optionally adds memory and CPU usage stats.\n",
    "\n",
    "For more information read the [official documentation](https://dlthub.com/docs/general-usage/pipeline#display-the-loading-progress)."
   ]
  },
  {
   "cell_type": "markdown",
   "metadata": {
    "id": "4C0U1dnwZxAB"
   },
   "source": [
    "## **Extract**\n",
    "\n",
    "Extract can be run individually with the `extract` command on the pipeline:\n",
    "\n",
    "```python\n",
    "pipeline.extract(data)\n",
    "```\n"
   ]
  },
  {
   "cell_type": "markdown",
   "metadata": {
    "id": "QNjQVUDkcHsM"
   },
   "source": [
    "### **What happens at the extraction stage?**"
   ]
  },
  {
   "cell_type": "markdown",
   "metadata": {
    "id": "ZC9StUY9aEd5"
   },
   "source": [
    "When the `pipeline.run()` method is executed, it first performs the `extract` stage, during which the following occurs:\n",
    "\n",
    "1. Data is fetched and stored in an in-memory buffer.\n",
    "2. When the buffer reaches its capacity, the data inside it is written to an intermediary file, and the buffer is cleared for the next set of data items.\n",
    "3. If a size is specified for intermediary files and an the intermediary file in question reaches this size, a new intermediary file is opened for further data.\n",
    "\n",
    "```\n",
    "               API Data\n",
    "                  | (extract)\n",
    "                Buffer\n",
    "(resources) /  | ... |   \\\n",
    "     extracted data in local storage\n",
    "\n",
    "```\n",
    "\n",
    "The **number** of intermediate **files** depends on the number of **resources** and whether **file rotation** is enabled."
   ]
  },
  {
   "cell_type": "markdown",
   "metadata": {
    "id": "w_CykZqjeAiz"
   },
   "source": [
    "### **Default behaviour at the extraction stage**"
   ]
  },
  {
   "cell_type": "markdown",
   "metadata": {
    "id": "r0GXHGEQmCcT"
   },
   "source": [
    "- The in-memory buffer is set to `5000` items.\n",
    "- By default, **intermediary files are not rotated**. If you do not explicitly set a size for an intermediary file with `file_max_items=100000`, `dlt` will create a **single file** for a resource, regardless of the number of records it contains, even if it reaches millions.\n",
    "- By default, intermediary files at the extract stage use a custom version of the JSONL format."
   ]
  },
  {
   "cell_type": "markdown",
   "metadata": {
    "id": "bCeUqaW_cRSh"
   },
   "source": [
    "## **Normalize**\n",
    "\n",
    "Normalize can be run individually with the `normalize` command on the pipeline. Normalize is dependent on having a completed extract phase and will not do anything if there is no extracted data.\n",
    "\n",
    "```py\n",
    "pipeline.normalize()\n",
    "```"
   ]
  },
  {
   "cell_type": "markdown",
   "metadata": {
    "id": "ZdJRjcjmaco4"
   },
   "source": [
    "### **What happens at the normalization stage?**"
   ]
  },
  {
   "cell_type": "markdown",
   "metadata": {
    "id": "P7fd3C3PadCz"
   },
   "source": [
    "In the `normalize` stage, `dlt` first transforms the structure of the input data. This transformed data is then converted into a relational structure that can be easily loaded into the destination. To be detailed, here's what happens during this stage:\n",
    "\n",
    "1. Intermediary files are sent from the `extract` stage to the `normalize` stage.\n",
    "3. During normalization step it processes one intermediate file at a time within its own in-memory buffer.\n",
    "4. When the buffer reaches its capacity, the normalized data inside it is written to an intermediary file, and the buffer is cleared for the next set of data items.\n",
    "4. If a size is specified for intermediary files in the normalize stage and the intermediary file in question reaches this size, a new intermediary file is opened.\n",
    "\n",
    "```\n",
    "       (extract)\n",
    "API Data --> extracted files in local storage\n",
    "                /     |      \\     (normalize)\n",
    "          one file  ...  one file\n",
    "          /  |  \\          / | \\   \n",
    "      normalized files   normalized files        \n",
    "\n",
    "```\n",
    "\n",
    "\n",
    "The **number** of intermediate **files** depends on the number of **resources** and whether **file rotation** is enabled."
   ]
  },
  {
   "cell_type": "markdown",
   "metadata": {
    "id": "TgHZEVcHeMaX"
   },
   "source": [
    "### **Default behaviour at the normalization stage**"
   ]
  },
  {
   "cell_type": "markdown",
   "metadata": {
    "id": "XWVmxLI8ol2g"
   },
   "source": [
    "- The in-memory buffer is set to `5000`, just like at the extraction stage.\n",
    "- By default, **intermediary files are not rotated** as well. If you do not explicitly set a size for an intermediary file with `file_max_items=100000`, dlt will create a **single file** for a resource, regardless of the number of records it contains, even if it reaches millions."
   ]
  },
  {
   "cell_type": "markdown",
   "metadata": {
    "id": "Rn6cUc0OcWsk"
   },
   "source": [
    "## **Load**\n",
    "\n",
    "Load can be run individually with the `load` command on the pipeline. Load is dependent on having a completed normalize phase and will not do anything if there is no normalized data.\n",
    "\n",
    "```py\n",
    "pipeline.load()\n",
    "```"
   ]
  },
  {
   "cell_type": "markdown",
   "metadata": {
    "id": "dtKhgGTCdYNr"
   },
   "source": [
    "### **What happens at the loading stage?**"
   ]
  },
  {
   "cell_type": "markdown",
   "metadata": {
    "id": "rBh_dhJ8dfBS"
   },
   "source": [
    "The `load` stage is responsible for taking the normalized data and loading it into your chosen destination:\n",
    "\n",
    "1. All intermediary files from a single source are combined into a single load package.\n",
    "2. All load packages are then loaded into the destination.\n",
    "\n",
    "\n",
    "```\n",
    "    (extract)             (normalize)\n",
    "API Data --> extracted files --> normalized files     \n",
    "                                  /  |  ... |  \\   (load)\n",
    "                    one normalized file ... one file\n",
    "                                 \\   |  ... |   /\n",
    "                                    destination\n",
    "                                           \n",
    "```"
   ]
  },
  {
   "cell_type": "markdown",
   "metadata": {
    "id": "1rQzKYYseSC3"
   },
   "source": [
    "### **Default behaviour at the loading stage**"
   ]
  },
  {
   "cell_type": "markdown",
   "metadata": {
    "id": "HV8f28ZZ0S6J"
   },
   "source": [
    "- Loading happens in `20` threads, each loading a single file."
   ]
  },
  {
   "cell_type": "markdown",
   "metadata": {
    "id": "0d0YtpQ5gGq9"
   },
   "source": [
    "## **Intermediary file formats**"
   ]
  },
  {
   "cell_type": "markdown",
   "metadata": {
    "id": "dcvB4QdXIm7B"
   },
   "source": [
    "Intermediary files at the extract stage use a custom version of the JSONL format, while the loader files - files  created at the normalize stage - can take 4 different formats."
   ]
  },
  {
   "cell_type": "markdown",
   "metadata": {
    "id": "C2hXRXdPJjJv"
   },
   "source": [
    "### **JSONL**"
   ]
  },
  {
   "cell_type": "markdown",
   "metadata": {
    "id": "P_Y28L-vJll-"
   },
   "source": [
    "**Definition**: JSON Delimited is a file format that stores several JSON documents in one file. The JSON documents are separated by a new line.\n",
    "\n",
    "**Compression:** enabled by default.\n",
    "\n",
    "**Data type handling:**\n",
    "\n",
    "- `datetime` and `date` are stored as ISO strings;\n",
    "- `decimal` is stored as a text representation of a decimal number;\n",
    "- `binary` is stored as a base64 encoded string;\n",
    "- `HexBytes` is stored as a hex encoded string;\n",
    "- `complex` is serialized as a string.\n",
    "\n",
    "**By default used by:**\n",
    "\n",
    "- Bigquery\n",
    "- Snowflake\n",
    "- Filesystem\n",
    "\n",
    "**Configuration**:\n",
    "\n",
    "- Directly in the `pipeline.run()`:\n",
    "\n",
    "  ```py\n",
    "  info = pipeline.run(some_source(), loader_file_format=\"jsonl\")\n",
    "  ```\n",
    "\n",
    "- In `config.toml` or `secrets.toml`:\n",
    "\n",
    "  ```py\n",
    "  [normalize]\n",
    "  loader_file_format=\"jsonl\"\n",
    "  ```\n",
    "\n",
    "- Via environment variables:\n",
    "\n",
    "  ```py\n",
    "  export NORMALIZE__LOADER_FILE_FORMAT=\"jsonl\"\n",
    "  ```\n",
    "\n",
    "- Specify directly in the resource decorator:\n",
    "\n",
    "  ```py\n",
    "  @dlt.resource(file_format=\"jsonl\")\n",
    "  def generate_rows():\n",
    "    ...\n",
    "  ```"
   ]
  },
  {
   "cell_type": "markdown",
   "metadata": {
    "id": "3gZHWoB_LWuj"
   },
   "source": [
    "### **Parquet**"
   ]
  },
  {
   "cell_type": "markdown",
   "metadata": {
    "id": "GLdF-vY8LU1N"
   },
   "source": [
    "**Definition**: Apache Parquet is a free and open-source column-oriented data storage format in the Apache Hadoop ecosystem.\n",
    "\n",
    "**Prerequisite:** To use this format, you need a pyarrow package. You can get this package as a dlt extra as well:\n",
    "\n",
    "```py\n",
    "pip install \"dlt[parquet]\"\n",
    "\n",
    "```\n",
    "\n",
    "**Default version**: 2.4, which coerces timestamps to microseconds and silently truncates nanoseconds for better compatibility with databases and pandas.\n",
    "\n",
    "**Supported by:**\n",
    "\n",
    "- Bigquery\n",
    "- DuckDB\n",
    "- Snowflake\n",
    "- Filesystem\n",
    "- Athena\n",
    "- Databricks\n",
    "- Synapse\n",
    "\n",
    "**Configuration**:\n",
    "\n",
    "- Directly in the `pipeline.run()`:\n",
    "\n",
    "  ```py\n",
    "  info = pipeline.run(some_source(), loader_file_format=\"parquet\")\n",
    "  ```\n",
    "\n",
    "- In `config.toml` or `secrets.toml`:\n",
    "\n",
    "  ```py\n",
    "  [normalize]\n",
    "  loader_file_format=\"parquet\"\n",
    "  ```\n",
    "\n",
    "- Via environment variables:\n",
    "\n",
    "  ```py\n",
    "  export NORMALIZE__LOADER_FILE_FORMAT=\"parquet\"\n",
    "  ```\n",
    "\n",
    "- Specify directly in the resource decorator:\n",
    "\n",
    "  ```py\n",
    "  @dlt.resource(file_format=\"parquet\")\n",
    "  def generate_rows():\n",
    "    ...\n",
    "  ```\n",
    "\n",
    "\n",
    "**Destination AutoConfig**:\n",
    "\n",
    "`dlt` automatically configures the Parquet writer based on the destination's capabilities:\n",
    "\n",
    "- Selects the appropriate decimal type and sets the correct precision and scale for accurate numeric data storage, including handling very small units like Wei.\n",
    "\n",
    "- Adjusts the timestamp resolution (seconds, microseconds, or nanoseconds) to match what the destination supports\n",
    "\n",
    "\n",
    "**Writer settings:**\n",
    "\n",
    "`dlt` uses the pyarrow Parquet writer for file creation. You can adjust the writer's behavior with the following options:\n",
    "\n",
    "- `flavor` adjusts schema and compatibility settings for different target systems. Defaults to None (pyarrow default).\n",
    "- `version` selects Parquet logical types based on the Parquet format version. Defaults to \"2.6\".\n",
    "- `data_page_size` sets the target size for data pages within a column chunk (in bytes). Defaults to None.\n",
    "- `timestamp_timezone` specifies the timezone; defaults to UTC.\n",
    "- `coerce_timestamps` sets the timestamp resolution (s, ms, us, ns).\n",
    "- `allow_truncated_timestamps` raises an error if precision is lost on truncated timestamps.\n",
    "\n",
    "  **Example configurations:**\n",
    "\n",
    "  - In `configs.toml` or `secrets.toml`:\n",
    "    ```py\n",
    "    [normalize.data_writer]\n",
    "    # the default values\n",
    "    flavor=\"spark\"\n",
    "    version=\"2.4\"\n",
    "    data_page_size=1048576\n",
    "    timestamp_timezone=\"Europe/Berlin\"\n",
    "    ```\n",
    "\n",
    "  - Via environment variables:\n",
    "    ```py\n",
    "    export  NORMALIZE__DATA_WRITER__FLAVOR=\"spark\"\n",
    "    ```\n",
    "\n",
    "\n",
    "**Timestamps and timezones**\n",
    "\n",
    "`dlt` adds UTC adjustments to all timestamps, creating timezone-aware timestamp columns in destinations (except DuckDB).\n",
    "\n",
    "**Disable timezone/UTC adjustments:**\n",
    "\n",
    "- Set `flavor` to spark to use the deprecated `int96` timestamp type without logical adjustments.\n",
    "\n",
    "- Set `timestamp_timezone` to an empty string (`DATA_WRITER__TIMESTAMP_TIMEZONE=\"\"`) to generate logical timestamps without UTC adjustment.\n",
    "\n",
    "By default, pyarrow converts timezone-aware DateTime objects to UTC and stores them in Parquet without timezone information.\n"
   ]
  },
  {
   "cell_type": "markdown",
   "metadata": {
    "id": "ym5ZubKaXyzY"
   },
   "source": [
    "### **CSV**"
   ]
  },
  {
   "cell_type": "markdown",
   "metadata": {
    "id": "mhlUNH2wYcP7"
   },
   "source": [
    "**Supported by:**\n",
    "\n",
    "- PostgreSQL\n",
    "- Filesystem\n",
    "- Snowflake\n",
    "\n",
    "**Configuration**:\n",
    "\n",
    "- Directly in the `pipeline.run()`:\n",
    "\n",
    "  ```py\n",
    "  info = pipeline.run(some_source(), loader_file_format=\"csv\")\n",
    "  ```\n",
    "\n",
    "- In `config.toml` or `secrets.toml`:\n",
    "\n",
    "  ```py\n",
    "  [normalize]\n",
    "  loader_file_format=\"csv\"\n",
    "  ```\n",
    "\n",
    "- Via environment variables:\n",
    "\n",
    "  ```py\n",
    "  export NORMALIZE__LOADER_FILE_FORMAT=\"csv\"\n",
    "  ```\n",
    "\n",
    "- Specify directly in the resource decorator:\n",
    "\n",
    "  ```py\n",
    "  @dlt.resource(file_format=\"csv\")\n",
    "  def generate_rows():\n",
    "    ...\n",
    "  ```\n",
    "\n",
    "\n",
    "**Two implementation**:\n",
    "\n",
    "1. `pyarrow` csv writer - very fast, multithreaded writer for the arrow tables\n",
    "  - binary columns are supported only if they contain valid UTF-8 characters\n",
    "  - complex (nested, struct) types are not supported\n",
    "2. `python stdlib writer` - a csv writer included in the Python standard library for Python objects\n",
    "\n",
    "  - binary columns are supported only if they contain valid UTF-8 characters (easy to add more encodings)\n",
    "  - complex columns dumped with json.dumps\n",
    "  - None values are always quoted\n",
    "\n",
    "**Default settings:**\n",
    "\n",
    "- separators are commas\n",
    "- quotes are \" and are escaped as \"\"\n",
    "- NULL values both are empty strings and empty tokens as in the example below\n",
    "- UNIX new lines are used\n",
    "- dates are represented as ISO 8601\n",
    "quoting style is \"when needed\"\n",
    "\n",
    "**Adjustable setting:**\n",
    "\n",
    "- `delimiter`: change the delimiting character (default: ',')\n",
    "- `include_header`: include the header row (default: True)\n",
    "- `quoting`: `quote_all` - all values are quoted, `quote_needed` - quote only values that need quoting (default: `quote_needed`)\n",
    "\n",
    "  ```py\n",
    "  [normalize.data_writer]\n",
    "  delimiter=\"|\"\n",
    "  include_header=false\n",
    "  quoting=\"quote_all\"\n",
    "  ```\n",
    "\n",
    "  or\n",
    "\n",
    "  ```py\n",
    "  NORMALIZE__DATA_WRITER__DELIMITER=|\n",
    "  NORMALIZE__DATA_WRITER__INCLUDE_HEADER=False\n",
    "  NORMALIZE__DATA_WRITER__QUOTING=quote_all\n",
    "  ```"
   ]
  },
  {
   "cell_type": "markdown",
   "metadata": {
    "id": "BhfQt_1baz3e"
   },
   "source": [
    "### **SQL INSERT File Format**"
   ]
  },
  {
   "cell_type": "markdown",
   "metadata": {
    "id": "gl8sgAqka9qw"
   },
   "source": [
    "This file format contains an INSERT...VALUES statement to be executed on the destination during the `load` stage.\n",
    "\n",
    "Additional data types are stored as follows:\n",
    "\n",
    "- `datetime` and date are stored as ISO strings;\n",
    "- `decimal` is stored as a text representation of a decimal number;\n",
    "- `binary` storage depends on the format accepted by the destination;\n",
    "- `complex` storage also depends on the format accepted by the destination.\n",
    "\n",
    "This file format is compressed by default.\n",
    "\n",
    "**Default for:**\n",
    "\n",
    "1. DuckDB\n",
    "2. PostgreSQL\n",
    "3. Redshift\n",
    "\n",
    "**Supported by:**\n",
    "\n",
    "1. Filesystem\n",
    "\n",
    "**Configuration**:\n",
    "\n",
    "- Directly in the `pipeline.run()`:\n",
    "\n",
    "  ```py\n",
    "  info = pipeline.run(some_source(), loader_file_format=\"insert_values\")\n",
    "  ```\n",
    "\n",
    "- In `config.toml` or `secrets.toml`:\n",
    "\n",
    "  ```py\n",
    "  [normalize]\n",
    "  loader_file_format=\"insert_values\"\n",
    "  ```\n",
    "\n",
    "- Via environment variables:\n",
    "\n",
    "  ```py\n",
    "  export NORMALIZE__LOADER_FILE_FORMAT=\"insert_values\"\n",
    "  ```\n",
    "\n",
    "- Specify directly in the resource decorator:\n",
    "\n",
    "  ```py\n",
    "  @dlt.resource(file_format=\"insert_values\")\n",
    "  def generate_rows():\n",
    "    ...\n",
    "  ```"
   ]
  },
  {
   "cell_type": "markdown",
   "metadata": {
    "id": "NYbccmLie1zm"
   },
   "source": [
    "✅ ▶ Proceed to the [next lesson](https://colab.research.google.com/drive/1LokUcM5YSazdq5jfbkop-Z5rmP-39y4r#forceEdit=true&sandboxMode=true)!"
   ]
  },
  {
   "cell_type": "code",
   "execution_count": null,
   "metadata": {
    "id": "rZpSep8SV1SZ"
   },
   "outputs": [],
   "source": []
  }
 ],
 "metadata": {
  "colab": {
   "provenance": [],
   "toc_visible": true
  },
  "kernelspec": {
   "display_name": "Python 3",
   "name": "python3"
  },
  "language_info": {
   "name": "python"
  }
 },
 "nbformat": 4,
 "nbformat_minor": 0
}
