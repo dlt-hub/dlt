{
  "cells": [
    {
      "cell_type": "markdown",
      "metadata": {
        "id": "eZpIGo3Fg8hR"
      },
      "source": [
        "# Custom destinations & Reverse ETL [![Open In Colab](https://colab.research.google.com/assets/colab-badge.svg)](https://colab.research.google.com/github/dlt-hub/dlt/blob/6be4aaac807414ae6100691174c5babcd6a87736/docs/education/dlt-advanced-course/Lesson_4_Destinations_Reverse_ETL.ipynb) [![GitHub badge](https://img.shields.io/badge/github-view_source-2b3137?logo=github)](https://github.com/dlt-hub/dlt/blob/6be4aaac807414ae6100691174c5babcd6a87736/docs/education/dlt-advanced-course/Lesson_4_Destinations_Reverse_ETL.ipynb)\n",
        "\n",
        "---\n",
        "\n",
        "## What you’ll learn\n",
        "\n",
        "- What reverse ETL means in practice  \n",
        "- How to build custom destinations with `@dlt.destination`  \n",
        "- How batching works  \n",
        "- How to push real data from Rfam database to Notion  \n",
        "\n",
        "---\n"
      ]
    },
    {
      "cell_type": "markdown",
      "metadata": {},
      "source": [
        "![Lesson_4_Destinations_Reverse_ETL_img](https://storage.googleapis.com/dlt-blog-images/dlt-advanced-course/Lesson_4_Destinations_Reverse_ETL_img.png)"
      ]
    },
    {
      "cell_type": "markdown",
      "metadata": {
        "id": "QUsXXyzvhF_w"
      },
      "source": [
        "\n",
        "## **1. Concept: What is a custom destination?**\n",
        "\n",
        "Normally, dlt sends your data to databases like BigQuery or Postgres.\n",
        "\n",
        "But with `@dlt.destination`, you can **intercept the normalized data** and send it wherever you want:\n",
        "- APIs (Notion, Slack, Airtable)\n",
        "- Message queues (Kafka, SQS)\n",
        "- Logging systems\n",
        "- Custom data sinks\n",
        "\n",
        "All you have to do is define a function like:\n",
        "\n",
        "```python\n",
        "@dlt.destination\n",
        "def my_destination(items, table):\n",
        "    ...\n",
        "```\n",
        "\n",
        "And dlt will call this for every batch of data extracted and normalized."
      ]
    },
    {
      "cell_type": "markdown",
      "metadata": {
        "id": "fqNBtjrshM2j"
      },
      "source": [
        "\n",
        "\n",
        "---\n",
        "\n",
        "## **2. Simple example: print data rows**\n",
        "\n",
        "### Code example:"
      ]
    },
    {
      "cell_type": "code",
      "execution_count": null,
      "metadata": {
        "id": "OF2KYJXBhOOG"
      },
      "outputs": [],
      "source": [
        "%%capture\n",
        "!pip install dlt[duckdb]"
      ]
    },
    {
      "cell_type": "code",
      "execution_count": null,
      "metadata": {
        "id": "20iCptKghTcl"
      },
      "outputs": [],
      "source": [
        "import dlt\n",
        "from dlt.common.typing import TDataItems\n",
        "from dlt.common.schema import TTableSchema\n",
        "\n",
        "\n",
        "@dlt.destination(batch_size=5)\n",
        "def print_sink(items: TDataItems, table: TTableSchema):\n",
        "    print(f\"\\nTable: {table['name']}\")\n",
        "    for item in items:\n",
        "        print(item)\n",
        "\n",
        "\n",
        "@dlt.resource\n",
        "def simple_data():\n",
        "    yield [{\"id\": i, \"value\": f\"row-{i}\"} for i in range(12)]\n",
        "\n",
        "\n",
        "pipeline = dlt.pipeline(\"print_example\", destination=print_sink)\n",
        "pipeline.run(simple_data())\n",
        "print(pipeline.last_trace)"
      ]
    },
    {
      "cell_type": "markdown",
      "metadata": {
        "id": "WvBsARp7k1Gq"
      },
      "source": [
        "**What’s happening?**\n",
        "\n",
        "- `simple_data()` yields 12 small records.\n",
        "- The data goes through **normalization** (converted to rows + types).\n",
        "- `@dlt.destination(batch_size=5)` groups these rows into batches of 5.\n",
        "- For each batch, `print_sink()` is called.\n",
        "- The `table` parameter tells you which table the batch belongs to.\n",
        "\n",
        "\n",
        "**Why this is important?**\n",
        "\n",
        "- This is the **simplest possible custom destination.**\n",
        "- You’re in control: log, debug, or route data per table.\n",
        "- It introduces how dlt structures the data and calls your function.\n"
      ]
    },
    {
      "cell_type": "markdown",
      "metadata": {
        "id": "j7dFQMlLIRuB"
      },
      "source": [
        "## Question 1:\n",
        "\n",
        "In the following example, how many times will the function be called?"
      ]
    },
    {
      "cell_type": "code",
      "execution_count": null,
      "metadata": {
        "id": "rp1qO0nMIeph"
      },
      "outputs": [],
      "source": [
        "@dlt.destination(batch_size=2)\n",
        "def print_sink(items, table):\n",
        "    print(items)\n",
        "\n",
        "@dlt.resource\n",
        "def simple_data():\n",
        "    yield [{\"id\": i} for i in range(6)]\n"
      ]
    },
    {
      "cell_type": "markdown",
      "metadata": {
        "id": "9upVlQnflHBU"
      },
      "source": [
        "\n",
        "## **3. How batching works**\n",
        "\n",
        "By default `batch_size` is 10.\n",
        "\n",
        "\n",
        "Let’s tweak just one thing:"
      ]
    },
    {
      "cell_type": "code",
      "execution_count": null,
      "metadata": {
        "id": "sUJFCDCzlKnD"
      },
      "outputs": [],
      "source": [
        "@dlt.destination(batch_size=1)\n",
        "def print_each_row(items, table):\n",
        "    print(f\"Got one row from table {table['name']}:\")\n",
        "    print(items)\n",
        "\n",
        "\n",
        "\n",
        "pipeline = dlt.pipeline(\"print_example\", destination=print_each_row)\n",
        "pipeline.run(simple_data())\n",
        "print(pipeline.last_trace)"
      ]
    },
    {
      "cell_type": "markdown",
      "metadata": {
        "id": "rTccWbTDlN1s"
      },
      "source": [
        "Now, dlt calls your function **once per row** instead of per 5 rows.\n",
        "\n",
        "Useful if:\n",
        "- Your API doesn’t support bulk inserts.\n",
        "- You want fine-grained control or retries."
      ]
    },
    {
      "cell_type": "markdown",
      "metadata": {
        "id": "Dl5bbxD3lorG"
      },
      "source": [
        "## **4. Real-world project: Rfam database → Notion**\n",
        "\n",
        "Let’s build a real pipeline that fetches data from database and **sends it to Notion**.\n",
        "\n",
        "### Why Notion?\n",
        "\n",
        "- Notion is a great tool for product/dev teams.\n",
        "- But dlt doesn’t support Notion as a *destination*.\n",
        "- So, we’ll build that ourselves.\n",
        "\n"
      ]
    },
    {
      "cell_type": "markdown",
      "metadata": {
        "id": "JBjIJxfhmuH5"
      },
      "source": [
        "\n",
        "### 4.1. Step 1: Create a database in Notion\n",
        "\n",
        "1. Create empty database. [Notion documentation.](https://super.so/blog/6-steps-to-creating-databases-in-notion)\n",
        "2. [Create integration](https://www.notion.so/profile/integrations) in your Notion Workspace.\n",
        "3. Connect your database to the integration.\n",
        "4. Create 3 columns: Accession (title), ID (text), Description (text)"
      ]
    },
    {
      "cell_type": "markdown",
      "metadata": {},
      "source": [
        "![Lesson_4_Destinations_Reverse_ETL_img2](https://storage.googleapis.com/dlt-blog-images/dlt-advanced-course/Lesson_4_Destinations_Reverse_ETL_img2.png)"
      ]
    },
    {
      "cell_type": "markdown",
      "metadata": {},
      "source": [
        "![Lesson_4_Destinations_Reverse_ETL_img3](https://storage.googleapis.com/dlt-blog-images/dlt-advanced-course/Lesson_4_Destinations_Reverse_ETL_img3.png)"
      ]
    },
    {
      "cell_type": "markdown",
      "metadata": {
        "id": "0AdDovQklsE9"
      },
      "source": [
        "### 4.2. Step 2: Install and configure"
      ]
    },
    {
      "cell_type": "code",
      "execution_count": null,
      "metadata": {
        "id": "ib7DN_Asle3S"
      },
      "outputs": [],
      "source": [
        "%%capture\n",
        "!pip install dlt pymysql notion-client"
      ]
    },
    {
      "cell_type": "markdown",
      "metadata": {
        "id": "vZErHfZ8l2CO"
      },
      "source": [
        "\n",
        "\n",
        "2. Set your credentials either in:\n",
        "  - `~/.dlt/secrets.toml`  \n",
        "  - or environment variables\n",
        "  - or (**in our case**) in Colab Secrets\n",
        "\n",
        "  ```toml\n",
        "  [destination.notion]\n",
        "  notion_auth = \"<your_integration_token>\"\n",
        "  notion_page_id = \"<your_database_id>\"\n",
        "  ```\n",
        "\n"
      ]
    },
    {
      "cell_type": "markdown",
      "metadata": {
        "id": "z85NIRVYbKsF"
      },
      "source": [
        "- Save your [Notion authentication token](https://developers.notion.com/docs/authorization#internal-integration-auth-flow-set-up) and the [ID of the page](https://developers.notion.com/docs/working-with-page-content#creating-a-page-with-content) where you want to create a database in your Colab secrets:"
      ]
    },
    {
      "cell_type": "markdown",
      "metadata": {},
      "source": [
        "![Lesson_4_Destinations_Reverse_ETL_img4](https://storage.googleapis.com/dlt-blog-images/dlt-advanced-course/Lesson_4_Destinations_Reverse_ETL_img4.png)"
      ]
    },
    {
      "cell_type": "markdown",
      "metadata": {},
      "source": [
        "![Lesson_4_Destinations_Reverse_ETL_img5](https://storage.googleapis.com/dlt-blog-images/dlt-advanced-course/Lesson_4_Destinations_Reverse_ETL_img5.png)"
      ]
    },
    {
      "cell_type": "markdown",
      "metadata": {},
      "source": [
        "![Lesson_4_Destinations_Reverse_ETL_img6](https://storage.googleapis.com/dlt-blog-images/dlt-advanced-course/Lesson_4_Destinations_Reverse_ETL_img6.png)"
      ]
    },
    {
      "cell_type": "markdown",
      "metadata": {
        "id": "nwuyxkevbLhC"
      },
      "source": [
        "> Make sure to [connect the page](https://www.notion.so/help/add-and-manage-connections-with-the-api#add-connections-to-pages) to the integration associated with the token!"
      ]
    },
    {
      "cell_type": "markdown",
      "metadata": {
        "id": "C0r_R3M_6ePP"
      },
      "source": [
        "You can also check if your integration works via `curl`:\n",
        "1. Modify Bearer token\n",
        "2. Modify \"query\" if you database have another name"
      ]
    },
    {
      "cell_type": "code",
      "execution_count": null,
      "metadata": {
        "id": "Tkl26ObC469A"
      },
      "outputs": [],
      "source": [
        "! curl -X POST 'https://api.notion.com/v1/search' -H 'Authorization: Bearer '\"ntn_q5_your_token_o5xQLn1sewnep6\"'' -H 'Content-Type: application/json' -H 'Notion-Version: 2022-06-28' --data '{\"query\": \"Advanced\", \"filter\": {\"value\": \"database\", \"property\": \"object\"}, \"sort\": {\"direction\":\"ascending\", \"timestamp\":\"last_edited_time\"}}'"
      ]
    },
    {
      "cell_type": "markdown",
      "metadata": {
        "id": "5yMCjLxYme9b"
      },
      "source": [
        "### 4.3. Step 3: Get data from Rfam database\n",
        "\n",
        "Let's use `query_callback` and limit the number of data rows:"
      ]
    },
    {
      "cell_type": "code",
      "execution_count": null,
      "metadata": {
        "id": "ECGnhqQWkxCH"
      },
      "outputs": [],
      "source": [
        "import os\n",
        "import dlt\n",
        "from dlt.sources.sql_database import sql_database\n",
        "\n",
        "import sqlalchemy as sa\n",
        "from sqlalchemy import text\n",
        "from dlt.sources.sql_database import sql_database\n",
        "\n",
        "\n",
        "def limit_rows(query, table):\n",
        "    return text(f\"SELECT * FROM {table.fullname} LIMIT 20\")\n",
        "\n",
        "\n",
        "source = sql_database(\n",
        "    \"mysql+pymysql://rfamro@mysql-rfam-public.ebi.ac.uk:4497/Rfam\",\n",
        "    table_names=[\"family\",],\n",
        "    query_adapter_callback=limit_rows\n",
        ")"
      ]
    },
    {
      "cell_type": "markdown",
      "metadata": {
        "id": "bseW2oTfmnnB"
      },
      "source": [
        "\n",
        "### 4.4. Step 4: Define Notion destination"
      ]
    },
    {
      "cell_type": "code",
      "execution_count": null,
      "metadata": {
        "id": "xFOu9fO8mpjy"
      },
      "outputs": [],
      "source": [
        "import os\n",
        "from notion_client import Client\n",
        "from google.colab import userdata\n",
        "\n",
        "os.environ[\"DESTINATION__NOTION__NOTION_AUTH\"] = userdata.get('NOTION_AUTHENTICATION')\n",
        "os.environ[\"DESTINATION__NOTION__NOTION_PAGE_ID\"] = userdata.get('NOTION_PAGE_ID')\n",
        "\n",
        "\n",
        "@dlt.destination(name=\"notion\")\n",
        "def push_to_notion(items, table, notion_auth=dlt.secrets.value, notion_page_id=dlt.secrets.value):\n",
        "    client = Client(auth=notion_auth)\n",
        "    print(len(items))\n",
        "    for item in items:\n",
        "        client.pages.create(\n",
        "            parent={\"database_id\": notion_page_id},\n",
        "            properties={\n",
        "                \"Accession\": {\"title\": [{\"text\": {\"content\": item[\"rfam_acc\"]}}]},\n",
        "                \"ID\": {\"rich_text\": [{\"text\": {\"content\": item[\"rfam_id\"]}}]},\n",
        "                \"Description\": {\"rich_text\": [{\"text\": {\"content\": item[\"description\"]}}]}\n",
        "            }\n",
        "        )"
      ]
    },
    {
      "cell_type": "markdown",
      "metadata": {
        "id": "66KY6-1K1zQ1"
      },
      "source": [
        "\n",
        "**What’s happening?**\n",
        "\n",
        "- dlt will call `push_to_notion()` with one batch of records at a time.\n",
        "- For each record, we create a page in Notion.\n",
        "- Credentials and database ID come from `secrets.toml` or env vars.\n",
        "\n",
        "**Why this is useful?**\n",
        "\n",
        "- You just turned your pipeline into a full **reverse ETL** job.\n",
        "- No need for Airbyte or writing custom orchestration scripts.\n",
        "- It’s reusable and works with dlt’s retry logic, state management, and transformations.\n"
      ]
    },
    {
      "cell_type": "markdown",
      "metadata": {
        "id": "a3Tk__5211fc"
      },
      "source": [
        "### 4.5. Step 5: Run the pipeline"
      ]
    },
    {
      "cell_type": "code",
      "execution_count": null,
      "metadata": {
        "id": "6yjPVIfp13Fp"
      },
      "outputs": [],
      "source": [
        "pipeline = dlt.pipeline(\"notion_pipeline\", destination=push_to_notion, progress=\"log\")\n",
        "pipeline.run(source, table_name=\"rfam_family\")\n",
        "print(pipeline.last_trace)"
      ]
    },
    {
      "cell_type": "markdown",
      "metadata": {},
      "source": [
        "![Lesson_4_Destinations_Reverse_ETL_img7](https://storage.googleapis.com/dlt-blog-images/dlt-advanced-course/Lesson_4_Destinations_Reverse_ETL_img7.png)"
      ]
    },
    {
      "cell_type": "markdown",
      "metadata": {
        "id": "aO60PZtdbbUi"
      },
      "source": [
        "\n",
        "\n",
        "## 5. Reliability and state\n",
        "\n",
        "### What if Notion fails mid-run?\n",
        "\n",
        "- dlt **retries batches** up to 5 times.\n",
        "- You can restart the pipeline and it will continue from the failed batch.\n",
        "- But you must make your destination **idempotent** (i.e., safe to re-run the same input).\n"
      ]
    },
    {
      "cell_type": "markdown",
      "metadata": {
        "id": "nJach4xBFfva"
      },
      "source": [
        "✅ ▶ Proceed to the [next lesson](https://colab.research.google.com/drive/1--wNVd26TqNolnnECnUYZqeE2CXOeVZE#forceEdit=true&sandboxMode=true)!"
      ]
    },
    {
      "cell_type": "code",
      "execution_count": null,
      "metadata": {
        "id": "vmz0tMhcmwPh"
      },
      "outputs": [],
      "source": []
    }
  ],
  "metadata": {
    "colab": {
      "provenance": [],
      "toc_visible": true
    },
    "kernelspec": {
      "display_name": "Python 3",
      "name": "python3"
    },
    "language_info": {
      "name": "python"
    }
  },
  "nbformat": 4,
  "nbformat_minor": 0
}
