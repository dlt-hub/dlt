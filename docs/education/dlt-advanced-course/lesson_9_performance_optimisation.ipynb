{
 "cells": [
  {
   "cell_type": "markdown",
   "metadata": {
    "id": "GNU4s2jjWTOV"
   },
   "source": [
    "# **Performance Optimization in dlt pipelines** [![Open In Colab](https://colab.research.google.com/assets/colab-badge.svg)](https://colab.research.google.com/github/dlt-hub/dlt/blob/master/docs/education/dlt-advanced-course/lesson_9_performance_optimisation.ipynb) [![GitHub badge](https://img.shields.io/badge/github-view_source-2b3137?logo=github)](https://github.com/dlt-hub/dlt/blob/master/docs/education/dlt-advanced-course/lesson_9_performance_optimisation.ipynb)"
   ]
  },
  {
   "cell_type": "markdown",
   "metadata": {
    "id": "1hzeqW42Wi_7"
   },
   "source": [
    "### **Introduction**\n",
    "\n",
    "Sometimes you have to slow down in order to speed up...\n",
    "\n",
    "This lesson teaches you how to make dlt pipelines faster by optimizing each internal stage of execution. You’ll learn how to tune memory, enable parallelism, and reduce runtime using real examples.\n",
    "\n",
    "We will walk through the internal steps of `pipeline.run()` again, but this time focusing only on performance optimization techniques.\n",
    "\n",
    "Read more in the [dlt performance docs](https://dlthub.com/docs/general-usage/performance).\n",
    "\n"
   ]
  },
  {
   "cell_type": "markdown",
   "metadata": {},
   "source": [
    "![Lesson_9_Performance_optimisation_img1](https://storage.googleapis.com/dlt-blog-images/dlt-advanced-course/Lesson_9_Performance_optimisation_img1.png)"
   ]
  },
  {
   "cell_type": "markdown",
   "metadata": {
    "id": "Eu8eqNn_-p0O"
   },
   "source": [
    "### **Already covered in Fundamentals**\n",
    "\n",
    "- Basic structure of `pipeline.run()`.\n",
    "\n",
    "- Default behavior of **extract/normalize/load**.\n",
    "\n",
    "- Example with nested rows and `items__nested` tables.\n",
    "\n",
    "- Overview of file formats (jsonl, parquet, etc.).\n",
    "\n",
    "- Progress logging and pipeline introspection."
   ]
  },
  {
   "cell_type": "markdown",
   "metadata": {
    "id": "ErcQoRyFeRP9"
   },
   "source": [
    "### **In the Advanced Performance Optimization lesson**\n",
    "\n",
    "- Optimize memory with buffer tuning.\n",
    "\n",
    "- Yield pages instead of rows.\n",
    "\n",
    "- Control threading and multiprocessing.\n",
    "\n",
    "- Tune file rotation for parallelism.\n",
    "\n",
    "- Run multiple pipelines in one process.\n",
    "\n",
    "- Spawn method on Linux.\n",
    "\n",
    "- Real GitHub pipeline performance demo."
   ]
  },
  {
   "cell_type": "markdown",
   "metadata": {
    "id": "Xh6CKQATb63X"
   },
   "source": [
    "---\n",
    "\n",
    "## Understanding `pipeline.run()` for Performance\n",
    "\n",
    "When you call `pipeline.run()`, dlt goes through three stages:\n",
    "\n",
    "1. **Extract** – fetch data and write intermediary files.\n",
    "2. **Normalize** – transform and flatten the data.\n",
    "3. **Load** – load data into the destination.\n",
    "\n",
    "We'll now look at how to optimize each of these stages individually.\n",
    "\n",
    "> If you're unfamiliar with how `pipeline.run()` works under the hood, including the **extract/normalize/load** stages and intermediary files, please complete the [Fundamentals module \"How dlt works\"](https://colab.research.google.com/drive/1geSMNRkSwAelQJKd3e8vdoHCKiHMdmIo#forceEdit=true&sandboxMode=true) first."
   ]
  },
  {
   "cell_type": "markdown",
   "metadata": {},
   "source": [
    "![Lesson_9_Performance_optimisation_img2](https://storage.googleapis.com/dlt-blog-images/dlt-advanced-course/Lesson_9_Performance_optimisation_img2.png)"
   ]
  },
  {
   "cell_type": "markdown",
   "metadata": {
    "id": "dez6CKzWu-NX"
   },
   "source": [
    "\n",
    "## **Before we dive into parallelism in dlt...**\n",
    "\n",
    "To get the most out of parallelism features in `dlt`, it's helpful to quickly refresh how parallelism works in Python in general.\n",
    "\n",
    "Python isn't truly multithreaded by default due to the Global Interpreter Lock (GIL), but there are multiple ways to run tasks concurrently: using **threads**, **processes**, or **async**.\n",
    "\n",
    "Each has its own strengths, and `dlt` actually uses all of them depending on the stage: threads for extracting and loading, and processes for normalization.\n",
    "\n",
    "Let’s take a quick look at how these work under the hood."
   ]
  },
  {
   "cell_type": "markdown",
   "metadata": {
    "id": "qqrVE-KFpOlg"
   },
   "source": [
    "# **Parallelism in Python**\n",
    "\n",
    "\n",
    "Python is single-threaded by default. That means only one operation happens at a time, even on multi-core CPUs. This becomes a bottleneck for:\n",
    "\n",
    "- API calls\n",
    "- file I/O\n",
    "- database queries\n",
    "- and anything that waits instead of computes\n",
    "\n",
    "Parallelism solves this by doing *many things at once*. It’s essential when building efficient data pipelines, like those with `dlt`.\n",
    "\n",
    "\n",
    "## **Types of parallelism in Python**\n",
    "\n",
    "There are 3 main types. Each has different use cases."
   ]
  },
  {
   "cell_type": "markdown",
   "metadata": {},
   "source": [
    "![Lesson_9_Performance_optimisation_img3](https://storage.googleapis.com/dlt-blog-images/dlt-advanced-course/Lesson_9_Performance_optimisation_img3.webp)"
   ]
  },
  {
   "cell_type": "markdown",
   "metadata": {
    "id": "gMno1FGJpQ_O"
   },
   "source": [
    "\n",
    "\n",
    "### 1. **Threading**\n",
    "- Best for I/O-bound tasks (e.g., reading from APIs or files).\n",
    "- Uses the `threading` or [`concurrent.futures.ThreadPoolExecutor`](https://docs.python.org/3/library/concurrent.futures.html#concurrent.futures.ThreadPoolExecutor).\n",
    "\n",
    "\n",
    "\n",
    "### **Why Python has multithreading — but only one thread runs Python code at a time**\n",
    "\n",
    "- Python does support multithreading, and you can create multiple threads with `threading.Thread()`.\n",
    "\n",
    "- But in CPython, the standard Python implementation, there’s something called the **Global Interpreter Lock (GIL)**.\n",
    "\n",
    "- The GIL makes sure that only **one thread** can execute Python bytecode at a time — even on multi-core CPUs.\n",
    "\n",
    "- So if you create 5 threads, Python will **run them one by one**, rapidly switching between them — not in true parallel.\n",
    "\n",
    "- It still counts as “multithreading” because threads **exist and run**, but they’re **not truly concurrent** for Python code execution.\n",
    "\n",
    "**Example 1:**\n",
    "\n",
    "In this example, `threaded_function` prints the values zero to two that your for loop assigns to the loop variable number. Using a `ThreadPoolExecutor`, four threads are created to execute the threaded function. `ThreadPoolExecutor` is configured to run a maximum of four threads concurrently with `max_workers=4`, and each worker thread is named with a “Worker” prefix, as in `thread_name_prefix=\"Worker\"`."
   ]
  },
  {
   "cell_type": "code",
   "execution_count": null,
   "metadata": {
    "id": "1ae_rPwzxO0x"
   },
   "outputs": [],
   "source": [
    "import threading\n",
    "import time\n",
    "from concurrent.futures import ThreadPoolExecutor\n",
    "\n",
    "\n",
    "def threaded_function() -> None:\n",
    "    for number in range(3):\n",
    "        print(f\"Printing from {threading.current_thread().name}. {number=}\")\n",
    "        # Simulate slow API call\n",
    "        time.sleep(0.1)\n",
    "\n",
    "\n",
    "with ThreadPoolExecutor(max_workers=4, thread_name_prefix=\"Worker\") as executor:\n",
    "    for _ in range(4):\n",
    "        executor.submit(threaded_function)"
   ]
  },
  {
   "cell_type": "markdown",
   "metadata": {
    "id": "S3Fal6DApiSP"
   },
   "source": [
    "### 2. **Multiprocessing**\n",
    "- Best for CPU-bound tasks (e.g., compressing, parsing, transforming).\n",
    "- Uses `multiprocessing` or [`concurrent.futures.ProcessPoolExecutor`](https://docs.python.org/3/library/concurrent.futures.html#processpoolexecutor).\n",
    "\n",
    "Example 1:\n",
    "\n",
    "In this example, `compute_heavy_task` squares numbers from 0 to 2 and prints the process name it runs on. We use `ProcessPoolExecutor` to run 4 processes in parallel, each computing the task independently."
   ]
  },
  {
   "cell_type": "code",
   "execution_count": null,
   "metadata": {
    "id": "Dxze4S_IyviE"
   },
   "outputs": [],
   "source": [
    "import multiprocessing\n",
    "import time\n",
    "from concurrent.futures import ProcessPoolExecutor\n",
    "\n",
    "\n",
    "def compute_heavy_task() -> None:\n",
    "    for number in range(3):\n",
    "        print(f\"Computing in {multiprocessing.current_process().name}. {number=} => {number**2}\\n\")\n",
    "        time.sleep(0.1)\n",
    "\n",
    "\n",
    "if __name__ == \"__main__\":\n",
    "    with ProcessPoolExecutor(max_workers=4) as process_executor:\n",
    "        for _ in range(4):\n",
    "            process_executor.submit(compute_heavy_task)"
   ]
  },
  {
   "cell_type": "markdown",
   "metadata": {
    "id": "QKi290rNr41P"
   },
   "source": [
    "Example 2:"
   ]
  },
  {
   "cell_type": "code",
   "execution_count": null,
   "metadata": {
    "id": "Sl380muhrFUU"
   },
   "outputs": [],
   "source": [
    "import concurrent.futures\n",
    "import math\n",
    "\n",
    "PRIMES = [\n",
    "    112272535095293,\n",
    "    112582705942171,\n",
    "    112272535095293,\n",
    "    115280095190773,\n",
    "    115797848077099,\n",
    "    1099726899285419,\n",
    "]\n",
    "\n",
    "\n",
    "def is_prime(n: int) -> bool:\n",
    "    if n < 2:\n",
    "        return False\n",
    "    if n == 2:\n",
    "        return True\n",
    "    if n % 2 == 0:\n",
    "        return False\n",
    "\n",
    "    sqrt_n = int(math.floor(math.sqrt(n)))\n",
    "    for i in range(3, sqrt_n + 1, 2):\n",
    "        if n % i == 0:\n",
    "            return False\n",
    "    return True\n",
    "\n",
    "\n",
    "with concurrent.futures.ProcessPoolExecutor() as process_executor:\n",
    "    for number, prime in zip(PRIMES, process_executor.map(is_prime, PRIMES)):\n",
    "        print(\"%d is prime: %s\" % (number, prime))"
   ]
  },
  {
   "cell_type": "markdown",
   "metadata": {
    "id": "l9uH3PQQsLxs"
   },
   "source": [
    "### 3. **AsyncIO**\n",
    "- Great for many concurrent tasks that *wait* (e.g., HTTP, sockets).\n",
    "- Lightweight and fast. Single-threaded but concurrent.\n",
    "\n"
   ]
  },
  {
   "cell_type": "markdown",
   "metadata": {
    "id": "VS7kmDyaucxx"
   },
   "source": [
    "Example 1:"
   ]
  },
  {
   "cell_type": "code",
   "execution_count": null,
   "metadata": {
    "id": "aQhJxhtesOj6"
   },
   "outputs": [],
   "source": [
    "import asyncio\n",
    "\n",
    "\n",
    "async def main() -> None:\n",
    "    await asyncio.sleep(1)\n",
    "    print(\"hello\")\n",
    "\n",
    "\n",
    "# In Colab, you'll need to get a handle of the current running loop first.\n",
    "loop = asyncio.get_running_loop()\n",
    "await loop.create_task(main())"
   ]
  },
  {
   "cell_type": "markdown",
   "metadata": {
    "id": "Bb-kMzygwg9T"
   },
   "source": [
    "Example 2:\n",
    "\n",
    "The order of this output is **the heart of async IO**. Talking to each of the calls to `count()` is a single event loop, or coordinator.\n",
    "\n",
    "When each task reaches `await asyncio.sleep(1)`, the function yells up to the event loop and gives control back to it, saying, **“I’m going to be sleeping for 1 second. Go ahead and let something else meaningful be done in the meantime.”**"
   ]
  },
  {
   "cell_type": "code",
   "execution_count": null,
   "metadata": {
    "id": "x3ck3_oWwTWM"
   },
   "outputs": [],
   "source": [
    "import asyncio\n",
    "import time\n",
    "\n",
    "\n",
    "async def count() -> None:\n",
    "    print(\"One\")\n",
    "    await asyncio.sleep(1)\n",
    "    print(\"Two\")\n",
    "\n",
    "\n",
    "async def main() -> None:\n",
    "    await asyncio.gather(count(), count(), count())\n",
    "\n",
    "\n",
    "s = time.perf_counter()\n",
    "\n",
    "# In Colab, you'll need to get a handle of the current running loop first.\n",
    "loop = asyncio.get_running_loop()\n",
    "await loop.create_task(main())\n",
    "\n",
    "elapsed = time.perf_counter() - s\n",
    "print(f\"executed in {elapsed:0.2f} seconds.\")"
   ]
  },
  {
   "cell_type": "markdown",
   "metadata": {
    "id": "k1rxnFYBomUR"
   },
   "source": [
    "\n",
    "---\n",
    "\n",
    "# **Parallelism in dlt**\n",
    "\n",
    "In `dlt`, parallelism is baked in:\n",
    "\n",
    "- **Extraction**: via threads (`parallelized=True` in `@dlt.resource`) or async generators.\n",
    "- **Normalization**: via process pools.\n",
    "- **Loading**: via threads.\n",
    "\n",
    "\n"
   ]
  },
  {
   "cell_type": "markdown",
   "metadata": {
    "id": "4C0U1dnwZxAB"
   },
   "source": [
    "---\n",
    "\n",
    "## **Extract**\n",
    "\n",
    "The extract stage fetches data and writes it to intermediary files. This phase is usually **I/O-bound** — lots of small writes or slow network calls can slow it down.\n",
    "\n"
   ]
  },
  {
   "cell_type": "markdown",
   "metadata": {
    "id": "fQxbBZBgYYTD"
   },
   "source": [
    "### **Default behaviour**\n",
    "\n",
    "- The in-memory buffer is set to `5000` items.\n",
    "- By default, **intermediary files are not rotated**. If you do not explicitly set a size for an intermediary file with `file_max_items=100000`, `dlt` will create a **single file** for a resource, regardless of the number of records it contains, even if it reaches millions.\n",
    "- By default, intermediary files at the extract stage use a custom version of the JSONL format."
   ]
  },
  {
   "cell_type": "markdown",
   "metadata": {
    "id": "oWtK5PDhnVP0"
   },
   "source": [
    "### **How to optimize extraction?**"
   ]
  },
  {
   "cell_type": "markdown",
   "metadata": {
    "id": "rvId84tCaH7u"
   },
   "source": [
    "- Control the [in-memory buffer size](#scrollTo=ffVpDFHfnqO-) for the extract stage\n",
    "- Group `dlt` resources into `dlt` sources\n",
    "- Specify the number of thread workers or..\n",
    "- When using async generators, control the number of async functions/awaitables being evaluated in parallel\n",
    "- Yield pages instead of rows\n",
    "- Customize the [size of intermediary files](#scrollTo=g9AGWfLkoAMb) created in the extract stage to control file rotation"
   ]
  },
  {
   "cell_type": "markdown",
   "metadata": {
    "id": "tbUJ0TUR75CB"
   },
   "source": [
    "### **IMPORTANT: Start simple. dlt has smart defaults**\n",
    "\n",
    "Before you dive into tuning buffers, tweaking file sizes, and parallelizing every little thing — consider this:\n",
    "\n",
    "> **`dlt` comes with well-thought-out defaults that work great for most cases.**\n",
    "\n",
    "The default settings are:\n",
    "- Conservative enough to work on a laptop.\n",
    "- Efficient enough to run production loads for many use cases.\n",
    "- Safe to experiment with incrementally.\n",
    "\n",
    "#### When to start tweaking?\n",
    "\n",
    "Once you’ve:\n",
    "- Run your pipeline end-to-end successfully.\n",
    "- Noticed slowdowns at scale.\n",
    "- Understood which part of the pipeline (extract, normalize, load) is the bottleneck.\n",
    "\n",
    "> **Start with the defaults. Measure. Then tune.**\n"
   ]
  },
  {
   "cell_type": "markdown",
   "metadata": {
    "id": "IBjZQwY7fgnd"
   },
   "source": [
    "### **1. [Use a larger In-Memory Buffer](https://dlthub.com/docs/reference/performance#overall-memory-and-disk-management)**\n",
    "\n",
    "dlt **buffers** data **in memory** to speed up processing and uses the file system to pass data between the **extract** and **normalize** stages.\n",
    "\n",
    "You can control **the size of the buffers** and **the size and number of the files** to fine-tune memory and CPU usage. These settings also impact parallelism.\n",
    "\n",
    "The size of the buffers is controlled by specifying **the number of data items** held in them. Data is appended to open files when the item buffer is full, after which the buffer is cleared.\n",
    "\n",
    "By default, dlt **buffers 5000 items** before writing to disk. Increase this value to reduce disk I/O and improve speed.\n"
   ]
  },
  {
   "cell_type": "code",
   "execution_count": null,
   "metadata": {
    "id": "_St3FZTYibTA"
   },
   "outputs": [],
   "source": [
    "%%capture\n",
    "!pip install -U dlt"
   ]
  },
  {
   "cell_type": "markdown",
   "metadata": {
    "id": "o8YLm-dUHbaE"
   },
   "source": [
    "Example 1:\n",
    "\n",
    "We set the buffer size to 1. dlt will extract data **row by row** and write each row to an intermediary file one by one.\n",
    "\n",
    "This also **disables multithreading** — when the buffer size is 1, the number of extract workers is effectively limited to 1."
   ]
  },
  {
   "cell_type": "code",
   "execution_count": null,
   "metadata": {
    "id": "OjrWbl1kfz0o"
   },
   "outputs": [],
   "source": [
    "from typing import Dict, Iterator\n",
    "import os\n",
    "import dlt\n",
    "from dlt.common.typing import TDataItems\n",
    "\n",
    "os.environ[\"DATA_WRITER__BUFFER_MAX_ITEMS\"] = \"1\"\n",
    "\n",
    "\n",
    "def get_rows(limit: int) -> Iterator[Dict[str, int]]:\n",
    "    yield from map(lambda n: {\"row\": n}, range(limit))\n",
    "\n",
    "\n",
    "@dlt.resource()\n",
    "def buffered_resource() -> TDataItems:\n",
    "    for row in get_rows(500000):\n",
    "        yield row\n",
    "\n",
    "\n",
    "pipeline = dlt.pipeline(\n",
    "    pipeline_name=\"extract_pipeline1\",\n",
    "    destination=\"duckdb\",\n",
    "    dataset_name=\"mydata\",\n",
    "    dev_mode=True,\n",
    ")\n",
    "load_info = pipeline.extract(buffered_resource)\n",
    "print(pipeline.last_trace)"
   ]
  },
  {
   "cell_type": "markdown",
   "metadata": {
    "id": "XehfFhuXeJjp"
   },
   "source": [
    "Example 2:\n",
    "\n",
    "Increase the number of buffer items."
   ]
  },
  {
   "cell_type": "code",
   "execution_count": null,
   "metadata": {
    "id": "P-F-_KN2jHtW"
   },
   "outputs": [],
   "source": [
    "import os\n",
    "import dlt\n",
    "\n",
    "os.environ[\"DATA_WRITER__BUFFER_MAX_ITEMS\"] = \"5000\"\n",
    "\n",
    "\n",
    "def get_rows(limit: int) -> Iterator[Dict[str, int]]:\n",
    "    yield from map(lambda n: {\"row\": n}, range(limit))\n",
    "\n",
    "\n",
    "@dlt.resource()\n",
    "def buffered_resource() -> TDataItems:\n",
    "    for row in get_rows(500000):\n",
    "        yield row\n",
    "\n",
    "\n",
    "pipeline = dlt.pipeline(\n",
    "    pipeline_name=\"extract_pipeline2\",\n",
    "    destination=\"duckdb\",\n",
    "    dataset_name=\"mydata\",\n",
    "    dev_mode=True,\n",
    ")\n",
    "load_info = pipeline.extract(buffered_resource)\n",
    "print(pipeline.last_trace)"
   ]
  },
  {
   "cell_type": "markdown",
   "metadata": {
    "id": "7hQx7yAbgAOd"
   },
   "source": [
    "**Explanation:** The buffer collects many items in memory before writing them to disk. A larger buffer means fewer writes, which saves I/O time and makes the extract stage faster. This is especially helpful when extracting a large number of small records.\n",
    "\n",
    "**Downside:** High buffer size increases memory usage. If the machine has limited RAM, it could cause memory pressure or crashes.\n"
   ]
  },
  {
   "cell_type": "markdown",
   "metadata": {
    "id": "xu1kqobw8b4a"
   },
   "source": [
    "**IMPORTANT: Performance measurements in Google Colab may be unreliable.**\n",
    "\n",
    "Even with large buffer sizes, timing results in Colab can vary significantly between runs. This is because Colab runs on shared cloud infrastructure, where CPU, memory, and disk I/O are not guaranteed and may fluctuate at any time.\n",
    "\n",
    "You might observe:\n",
    "\n",
    "- Slower or inconsistent extract times\n",
    "\n",
    "- Unpredictable delays due to resource throttling or background activity\n",
    "\n",
    "For **reliable performance** testing, always run your dlt pipelines on a **local machine**, where you control the environment and system resources are stable."
   ]
  },
  {
   "cell_type": "markdown",
   "metadata": {
    "id": "f13KAgqB8Se7"
   },
   "source": [
    "#### **Excercise 1**\n",
    "\n",
    "Play with `BUFFER_MAX_ITEMS` parameter. Run your pipeline and measure the time.\n",
    "\n",
    "Don’t expect linear speed-up — larger buffers may **slow things down** depending on your system.\n",
    "\n",
    "At some point, increasing the buffer size will **stop making things faster**. After that threshold, you’ll hit diminishing returns, and performance may plateau or even degrade. The optimal value depends on your machine’s I/O and memory characteristics."
   ]
  },
  {
   "cell_type": "code",
   "execution_count": null,
   "metadata": {
    "id": "onja37T6_M-R"
   },
   "outputs": [],
   "source": [
    "import os\n",
    "import time\n",
    "import dlt\n",
    "import matplotlib.pyplot as plt\n",
    "\n",
    "\n",
    "def get_rows(limit: int) -> Iterator[Dict[str, int]]:\n",
    "    yield from map(lambda n: {\"row\": n}, range(limit))\n",
    "\n",
    "\n",
    "def measure_extract_time(buffer_size: int) -> float:\n",
    "    os.environ[\"DATA_WRITER__BUFFER_MAX_ITEMS\"] = str(buffer_size)\n",
    "\n",
    "    @dlt.resource()\n",
    "    def buffered_resource() -> TDataItems:\n",
    "        for row in get_rows(500000):\n",
    "            yield row\n",
    "\n",
    "    pipeline = dlt.pipeline(\n",
    "        pipeline_name=f\"extract_pipeline_{buffer_size}\",\n",
    "        destination=\"duckdb\",\n",
    "        dataset_name=\"mydata\",\n",
    "        dev_mode=True,\n",
    "    )\n",
    "\n",
    "    start_time = time.time()\n",
    "    pipeline.extract(buffered_resource)\n",
    "    return time.time() - start_time\n",
    "\n",
    "\n",
    "# Try different buffer sizes\n",
    "buffer_sizes = [1, 10, 100, 1000, 5000, 10000, 50000, 100000, 500000]\n",
    "times = [measure_extract_time(size) for size in buffer_sizes]\n",
    "\n",
    "\n",
    "plt.figure(figsize=(10, 6))\n",
    "plt.plot(buffer_sizes, times, marker=\"o\")\n",
    "plt.xlabel(\"BUFFER_MAX_ITEMS\")\n",
    "plt.ylabel(\"Time to Extract (seconds)\")\n",
    "plt.title(\"Effect of Buffer Size on Extraction Time\")\n",
    "plt.grid(True)\n",
    "plt.xscale(\"log\")\n",
    "plt.show()"
   ]
  },
  {
   "cell_type": "markdown",
   "metadata": {
    "id": "plt0MBsWxuQ2"
   },
   "source": [
    "### **2. Group Resources into Sources**\n",
    "\n",
    "In `dlt`, each **resource** is treated as a separate unit during extraction. If you pass multiple resources directly to `pipeline.extract()`, `dlt` handles them independently — each with its own extract process and context.\n",
    "\n",
    "To **optimize performance**, especially during the extract stage, it's often better to **group related resources into a single source**. This allows `dlt` to:\n",
    "- Run extraction more efficiently\n",
    "- Reuse shared context (like API sessions or connections)\n",
    "- Avoid overhead from managing multiple resource objects individually\n",
    "- Enable better parallelism and state management\n",
    "\n",
    "\n",
    "Example without grouping:\n",
    "\n"
   ]
  },
  {
   "cell_type": "code",
   "execution_count": null,
   "metadata": {
    "id": "4x0C-vha98AO"
   },
   "outputs": [],
   "source": [
    "exit()"
   ]
  },
  {
   "cell_type": "code",
   "execution_count": null,
   "metadata": {
    "id": "xBXxr7P4xzdD"
   },
   "outputs": [],
   "source": [
    "import os\n",
    "import dlt\n",
    "\n",
    "\n",
    "def get_rows(limit: int) -> Iterator[Dict[str, int]]:\n",
    "    yield from map(lambda n: {\"row\": n}, range(limit))\n",
    "\n",
    "\n",
    "@dlt.resource(name=\"resource1\")\n",
    "def buffered_resource1() -> TDataItems:\n",
    "    for row in get_rows(500000):\n",
    "        yield row\n",
    "\n",
    "\n",
    "@dlt.resource(name=\"resource2\")\n",
    "def buffered_resource2() -> TDataItems:\n",
    "    for row in get_rows(500000):\n",
    "        yield row\n",
    "\n",
    "\n",
    "@dlt.resource(name=\"resource3\")\n",
    "def buffered_resource3() -> TDataItems:\n",
    "    for row in get_rows(500000):\n",
    "        yield row\n",
    "\n",
    "\n",
    "pipeline = dlt.pipeline(\n",
    "    pipeline_name=\"extract_pipeline4\",\n",
    "    destination=\"duckdb\",\n",
    "    dataset_name=\"mydata\",\n",
    "    dev_mode=True,\n",
    ")\n",
    "\n",
    "load_info = pipeline.extract([buffered_resource1, buffered_resource2, buffered_resource3])\n",
    "print(pipeline.last_trace)"
   ]
  },
  {
   "cell_type": "markdown",
   "metadata": {
    "id": "_dB9VWeJCdgk"
   },
   "source": [
    "This works, but each resource is treated separately. For large datasets or many resources, this adds extract overhead.\n",
    "\n",
    "\n",
    "Example with grouping:\n"
   ]
  },
  {
   "cell_type": "code",
   "execution_count": null,
   "metadata": {
    "id": "yNRcPDBY-Ilj"
   },
   "outputs": [],
   "source": [
    "from typing import Iterable\n",
    "import os\n",
    "import time\n",
    "import dlt\n",
    "from dlt.extract import DltResource\n",
    "from threading import currentThread\n",
    "\n",
    "\n",
    "@dlt.source\n",
    "def source() -> Iterable[DltResource]:\n",
    "    return buffered_resource1, buffered_resource2, buffered_resource3\n",
    "\n",
    "\n",
    "pipeline = dlt.pipeline(\n",
    "    pipeline_name=\"extract_pipeline4\",\n",
    "    destination=\"duckdb\",\n",
    "    dataset_name=\"mydata\",\n",
    "    dev_mode=True,\n",
    ")\n",
    "\n",
    "load_info = pipeline.extract(source())\n",
    "print(pipeline.last_trace)"
   ]
  },
  {
   "cell_type": "markdown",
   "metadata": {
    "id": "8ihtHya2CoqM"
   },
   "source": [
    "\n",
    "This version:\n",
    "- Groups all resources into a single source\n",
    "- Allows `dlt` to optimize scheduling and state tracking\n",
    "- Reduces overhead during extraction and improves throughput\n",
    "\n",
    "####  **What to expect**\n",
    "\n",
    "- **Grouped resources** may not show a big speed increase in small examples.\n",
    "- However, **it unlocks `dlt`'s parallel extraction engine**: when grouped into a single `@dlt.source`, `dlt` can schedule their execution in a shared thread pool.\n",
    "- This is essential when working with:\n",
    "  - Many resources\n",
    "  - Slow APIs\n",
    "  - IO-bound extractors\n",
    "  - High data volumes\n",
    "\n",
    "#### **Note**:\n",
    "Even if timing results look similar in this example, grouping into a source is what **enables true concurrent resource execution**. Without it, `dlt` treats each resource as an isolated unit and may serialize extraction.\n"
   ]
  },
  {
   "cell_type": "markdown",
   "metadata": {
    "id": "oNHcTEJYQxnK"
   },
   "source": [
    "### **3. Enable parallel threaded extraction**\n",
    "\n",
    "When extracting data from **multiple sources**, you usually want them to be processed **at the same time**, not one after another. This is especially useful when:\n",
    "\n",
    "- Calling **slow APIs**\n",
    "- Working with **multiple endpoints**\n",
    "- Extracting from **databases with many tables**\n",
    "\n",
    "Use multiple threads to fetch data from different resources with `parallelized=True`."
   ]
  },
  {
   "cell_type": "markdown",
   "metadata": {
    "id": "YoQZ2OaRaqDc"
   },
   "source": [
    "Set the number of parallel threads with:\n",
    "\n",
    "```python\n",
    "os.environ[\"EXTRACT__WORKERS\"] = \"3\"\n",
    "```"
   ]
  },
  {
   "cell_type": "markdown",
   "metadata": {
    "id": "V_0YBYKXQ5Vn"
   },
   "source": [
    "**Simulate Slow APIs with `time.sleep`**\n",
    "\n",
    "We’ll simulate API latency by adding a `time.sleep(0.01)` delay before yielding each row. This mimics a network call taking ~10ms.\n",
    "\n",
    "We’ll then parallelize the resources using `parallelized=True` and observe the thread behavior using `threading.currentThread()`.\n"
   ]
  },
  {
   "cell_type": "code",
   "execution_count": null,
   "metadata": {
    "id": "-60im6MvSB6d"
   },
   "outputs": [],
   "source": [
    "import os\n",
    "import dlt\n",
    "import time\n",
    "from threading import current_thread\n",
    "\n",
    "\n",
    "def get_rows(limit: int) -> Iterator[Dict[str, int]]:\n",
    "    yield from map(lambda n: {\"row\": n}, range(limit))\n",
    "\n",
    "\n",
    "# Resource 1: slow generator, runs in a separate thread\n",
    "@dlt.resource(name=\"resource1\", parallelized=False)\n",
    "def buffered_resource1() -> TDataItems:\n",
    "    for row in get_rows(100):\n",
    "        time.sleep(0.01)  # Simulate slow API call\n",
    "        print(f\"resource1 in thread {current_thread().name}\")\n",
    "        yield row\n",
    "\n",
    "\n",
    "@dlt.resource(name=\"resource2\", parallelized=False)\n",
    "def buffered_resource2() -> TDataItems:\n",
    "    for row in get_rows(100):\n",
    "        time.sleep(0.01)\n",
    "        print(f\"resource2 in thread {current_thread().name}\")\n",
    "        yield row\n",
    "\n",
    "\n",
    "@dlt.resource(name=\"resource3\", parallelized=False)\n",
    "def buffered_resource3() -> TDataItems:\n",
    "    for row in get_rows(100):\n",
    "        time.sleep(0.01)\n",
    "        print(f\"resource3 in thread {current_thread().name}\")\n",
    "        yield row\n",
    "\n",
    "\n",
    "@dlt.source\n",
    "def source() -> Iterable[DltResource]:\n",
    "    return buffered_resource1, buffered_resource2, buffered_resource3\n",
    "\n",
    "\n",
    "pipeline = dlt.pipeline(\n",
    "    pipeline_name=\"extract_pipeline4\",\n",
    "    destination=\"duckdb\",\n",
    "    dataset_name=\"mydata\",\n",
    "    dev_mode=True,\n",
    ")\n",
    "\n",
    "\n",
    "load_info = pipeline.extract(source())\n",
    "print(pipeline.last_trace)"
   ]
  },
  {
   "cell_type": "markdown",
   "metadata": {
    "id": "F9Y0xPxdTpi8"
   },
   "source": [
    "**What does it mean?**\n",
    "\n",
    "dlt is extracting rows in a [**round-robin**](https://dlthub.com/docs/reference/performance#resources-extraction-fifo-vs-round-robin) fashion — one row from each resource in turn — all within the `MainThread`. Since there’s no parallelization, the resources share a single thread and are executed sequentially."
   ]
  },
  {
   "cell_type": "markdown",
   "metadata": {
    "id": "QxEIkZ0YUbk9"
   },
   "source": [
    "**Now let’s enable multithreading.**\n",
    "\n",
    "In the previous example, all resources ran sequentially in the main thread. This time, we add `parallelized=True` to each resource — allowing `dlt` to extract from all three **at the same time**, using separate threads.\n",
    "\n",
    "You’ll see the difference immediately in the output: each resource prints from a different thread, confirming that extraction is now concurrent."
   ]
  },
  {
   "cell_type": "code",
   "execution_count": null,
   "metadata": {
    "id": "jk3xB4MlQ8zV"
   },
   "outputs": [],
   "source": [
    "import os\n",
    "import dlt\n",
    "import time\n",
    "from threading import current_thread\n",
    "\n",
    "\n",
    "def get_rows(limit: int) -> Iterator[Dict[str, int]]:\n",
    "    yield from map(lambda n: {\"row\": n}, range(limit))\n",
    "\n",
    "\n",
    "# Resource 1: slow generator, runs in a separate thread\n",
    "@dlt.resource(name=\"resource1\", parallelized=True)\n",
    "def buffered_resource1() -> TDataItems:\n",
    "    for row in get_rows(100):\n",
    "        time.sleep(0.01)  # Simulate slow API call\n",
    "        print(f\"resource1 in thread {current_thread().name}\")\n",
    "        yield row\n",
    "\n",
    "\n",
    "@dlt.resource(name=\"resource2\", parallelized=True)\n",
    "def buffered_resource2() -> TDataItems:\n",
    "    for row in get_rows(100):\n",
    "        time.sleep(0.01)\n",
    "        print(f\"resource2 in thread {current_thread().name}\")\n",
    "        yield row\n",
    "\n",
    "\n",
    "@dlt.resource(name=\"resource3\", parallelized=True)\n",
    "def buffered_resource3() -> TDataItems:\n",
    "    for row in get_rows(100):\n",
    "        time.sleep(0.01)\n",
    "        print(f\"resource3 in thread {current_thread().name}\")\n",
    "        yield row\n",
    "\n",
    "\n",
    "@dlt.source\n",
    "def source() -> Iterable[DltResource]:\n",
    "    return buffered_resource1, buffered_resource2, buffered_resource3\n",
    "\n",
    "\n",
    "pipeline = dlt.pipeline(\n",
    "    pipeline_name=\"extract_pipeline4\",\n",
    "    destination=\"duckdb\",\n",
    "    dataset_name=\"mydata\",\n",
    "    dev_mode=True,\n",
    ")\n",
    "\n",
    "\n",
    "load_info = pipeline.extract(source())\n",
    "print(pipeline.last_trace)"
   ]
  },
  {
   "cell_type": "markdown",
   "metadata": {
    "id": "GK1qdZJuBPDx"
   },
   "source": [
    "**Explanation:** Each worker runs in a separate thread, allowing several resources to extract data at the same time. This is critical for reducing bottlenecks when working with slow APIs or large resource sets.\n",
    "\n",
    "**Downside:** More threads increase CPU load. Poorly written thread-unsafe code or thread contention may degrade performance instead of improving it.\n"
   ]
  },
  {
   "cell_type": "markdown",
   "metadata": {
    "id": "oXPRwP4GfBrS"
   },
   "source": [
    "### **Async**"
   ]
  },
  {
   "cell_type": "markdown",
   "metadata": {
    "id": "8HPFw7SlfLuL"
   },
   "source": [
    "The example below does the same but using an async generator as the main resource and async/await and futures pool for the transformer.\n",
    "\n",
    "**Example 1 — Synchronous execution (sequential, slow)**"
   ]
  },
  {
   "cell_type": "code",
   "execution_count": null,
   "metadata": {
    "id": "JekZ9eKUXRDx"
   },
   "outputs": [],
   "source": [
    "import time\n",
    "import dlt\n",
    "from dlt.common.typing import TDataItem\n",
    "\n",
    "\n",
    "@dlt.resource\n",
    "def sync_items() -> TDataItems:\n",
    "    for i in range(10):\n",
    "        time.sleep(0.5)  # Blocking call\n",
    "        yield i\n",
    "\n",
    "\n",
    "@dlt.transformer\n",
    "def sync_transform(item: TDataItem) -> TDataItems:\n",
    "    time.sleep(0.5)  # Also blocking\n",
    "    return {\"row\": item}\n",
    "\n",
    "\n",
    "start = time.time()\n",
    "result = list(sync_items() | sync_transform)\n",
    "print(f\"Sync result: {result}\")\n",
    "print(\"Sync elapsed time:\", round(time.time() - start, 2), \"seconds\")"
   ]
  },
  {
   "cell_type": "markdown",
   "metadata": {
    "id": "jKQW2dcQZmFc"
   },
   "source": [
    "**Example 2 — Asynchronous execution (concurrent, fast)**"
   ]
  },
  {
   "cell_type": "code",
   "execution_count": null,
   "metadata": {
    "id": "pYIm16wYXSDR"
   },
   "outputs": [],
   "source": [
    "import asyncio\n",
    "import time\n",
    "import dlt\n",
    "\n",
    "\n",
    "@dlt.resource\n",
    "async def async_items() -> TDataItems:\n",
    "    for i in range(10):\n",
    "        await asyncio.sleep(0.5)  # Blocking\n",
    "        yield i\n",
    "\n",
    "\n",
    "@dlt.transformer\n",
    "async def async_transform(item) -> TDataItems:\n",
    "    await asyncio.sleep(0.5)  # Non-blocking\n",
    "    # just return the results, if you yield, generator will be evaluated in main thread\n",
    "    return {\"row\": item}\n",
    "\n",
    "\n",
    "start = time.time()\n",
    "print(list(async_items() | async_transform))\n",
    "print(\"Async elapsed time:\", round(time.time() - start, 2), \"seconds\")"
   ]
  },
  {
   "cell_type": "markdown",
   "metadata": {
    "id": "tdnIJvhpaOUo"
   },
   "source": [
    "**Breakdown of time**\n",
    "\n",
    "- `async_items()` yields 10 items → takes ~5s total (0.5s × 10)\n",
    "\n",
    "- `async_transform()` is fast once it starts — runs in parallel\n",
    "\n",
    "- So total time is:\n",
    "\n",
    "  - ~5s to yield\n",
    "\n",
    "  - `+` ~0.5s to process the last batch of transformer calls\n",
    "\n",
    "  - ➜ ~5.5–6 seconds total"
   ]
  },
  {
   "cell_type": "markdown",
   "metadata": {
    "id": "wcemJz8pGhal"
   },
   "source": [
    "### **4. Yielding chunks instead of rows**\n",
    "\n",
    "In real-world data extraction, especially from APIs, **data is typically returned in pages** — for example, 100 users per request. These pages are already **natural chunks**, so there's no reason to extract and yield each row from the page individually.\n",
    "\n",
    "Instead of doing something like:\n",
    "\n",
    "```python\n",
    "for item in page:\n",
    "    yield item  # ❌ inefficient\n",
    "```\n",
    "\n",
    "You should just do:\n",
    "\n",
    "```python\n",
    "yield page  # ✅ fast and efficient\n",
    "```\n",
    "\n",
    "This small change makes a big difference in performance. Yielding full pages (chunks) reduces the number of Python function calls and lets `dlt` process your data more efficiently — especially during buffering and writing stages."
   ]
  },
  {
   "cell_type": "markdown",
   "metadata": {
    "id": "iTDQBOt6HJlD"
   },
   "source": [
    "#### **What is `yield` in Python?**\n",
    "\n",
    "In Python, `yield` turns a function into a **generator**.\n",
    "\n",
    "Instead of returning a full list of results at once, it gives back **one item at a time**, each time the function is called again.\n",
    "\n",
    "This is useful when:\n",
    "- You work with large datasets\n",
    "- You don’t want to keep everything in memory\n",
    "- You want to stream values as they are produced\n",
    "\n",
    "#### Example"
   ]
  },
  {
   "cell_type": "code",
   "execution_count": null,
   "metadata": {
    "id": "hrF4lwrYHMFy"
   },
   "outputs": [],
   "source": [
    "def count_up_to(n: int) -> Iterator[int]:\n",
    "    for i in range(n):\n",
    "        yield i"
   ]
  },
  {
   "cell_type": "markdown",
   "metadata": {
    "id": "omFFkPnKHN_u"
   },
   "source": [
    "Calling `count_up_to(3)` returns a generator:"
   ]
  },
  {
   "cell_type": "code",
   "execution_count": null,
   "metadata": {
    "id": "nJ4bPVL4HRIE"
   },
   "outputs": [],
   "source": [
    "for number in count_up_to(3):\n",
    "    print(number)"
   ]
  },
  {
   "cell_type": "markdown",
   "metadata": {
    "id": "0QJyKtxqHQau"
   },
   "source": [
    "#### **Yielding rows in dlt**\n",
    "\n",
    "This is what you usually see in basic educational `dlt` pipelines:"
   ]
  },
  {
   "cell_type": "code",
   "execution_count": null,
   "metadata": {
    "id": "vk424_QOHhW0"
   },
   "outputs": [],
   "source": [
    "from typing import List\n",
    "\n",
    "\n",
    "def fetch_users() -> List[Dict[str, int]]:\n",
    "    return [{\"id\": 1}, {\"id\": 2}, {\"id\": 3}]\n",
    "\n",
    "\n",
    "@dlt.resource\n",
    "def get_users() -> TDataItems:\n",
    "    for user in fetch_users():\n",
    "        yield user  # yields one row at a time"
   ]
  },
  {
   "cell_type": "markdown",
   "metadata": {
    "id": "uznCgQQOJZho"
   },
   "source": [
    "\n",
    "#### Problem\n",
    "\n",
    "This creates a **high number of `yield` calls** — each row is passed into the extract pipeline one at a time. While dlt buffers rows before writing, each row still incurs the cost of a Python function call and per-item processing inside the pipeline.\n",
    "\n",
    "This adds overhead, especially with millions of rows."
   ]
  },
  {
   "cell_type": "markdown",
   "metadata": {
    "id": "VvAQbG_zJs6Q"
   },
   "source": [
    "\n",
    "#### **What does “Yield Chunks” mean?**\n",
    "\n",
    "Instead of:\n",
    "\n",
    "```python\n",
    "yield {\"id\": 1}\n",
    "yield {\"id\": 2}\n",
    "```\n",
    "\n",
    "Do this:\n",
    "\n",
    "```python\n",
    "yield [{\"id\": 1}, {\"id\": 2}]  # yield a list of rows\n",
    "```\n",
    "\n",
    "We call this **page/chunk-based yielding**.\n",
    "\n",
    "You still use `yield`, but now each yield returns **a batch of rows**, not just one.\n",
    "\n",
    "\n"
   ]
  },
  {
   "cell_type": "markdown",
   "metadata": {
    "id": "gZmkg1XjWfLa"
   },
   "source": [
    "#### **How to yield chunks**\n",
    "\n",
    "Here’s how you chunk your data with `islice` from `itertools`:"
   ]
  },
  {
   "cell_type": "code",
   "execution_count": null,
   "metadata": {
    "id": "m8Bs0bgyJsVA"
   },
   "outputs": [],
   "source": [
    "import os\n",
    "import dlt\n",
    "import time\n",
    "from threading import current_thread\n",
    "from itertools import islice\n",
    "\n",
    "\n",
    "def get_rows(limit: int) -> Iterator[Dict[str, int]]:\n",
    "    yield from map(lambda n: {\"row\": n}, range(limit))\n",
    "\n",
    "\n",
    "def yield_chunks(iterator: Iterator[Dict[str, int]], chunk_size=10):\n",
    "    iterator = iter(iterator)\n",
    "    while chunk := list(islice(iterator, chunk_size)):  # <--- we slice data into chunks\n",
    "        time.sleep(0.01)  # Simulate slow API call\n",
    "        yield chunk\n",
    "\n",
    "\n",
    "# Chunked resources, run in parallel threads\n",
    "@dlt.resource(name=\"resource1\", parallelized=True)\n",
    "def buffered_resource1():\n",
    "    yield from yield_chunks(get_rows(100), chunk_size=10)\n",
    "\n",
    "\n",
    "@dlt.resource(name=\"resource2\", parallelized=True)\n",
    "def buffered_resource2():\n",
    "    yield from yield_chunks(get_rows(100), chunk_size=10)\n",
    "\n",
    "\n",
    "@dlt.resource(name=\"resource3\", parallelized=True)\n",
    "def buffered_resource3():\n",
    "    yield from yield_chunks(get_rows(100), chunk_size=10)\n",
    "\n",
    "\n",
    "@dlt.source\n",
    "def source():\n",
    "    return buffered_resource1, buffered_resource2, buffered_resource3\n",
    "\n",
    "\n",
    "pipeline = dlt.pipeline(\n",
    "    pipeline_name=\"extract_pipeline4\",\n",
    "    destination=\"duckdb\",\n",
    "    dataset_name=\"mydata\",\n",
    "    dev_mode=True,\n",
    ")\n",
    "\n",
    "load_info = pipeline.extract(source())\n",
    "print(pipeline.last_trace)"
   ]
  },
  {
   "cell_type": "markdown",
   "metadata": {
    "id": "GgPCufWQEKMH"
   },
   "source": [
    "\n",
    "Such a crazy speed improvement! You'll notice the difference even more as your data size grows."
   ]
  },
  {
   "cell_type": "markdown",
   "metadata": {
    "id": "MpJ-j-OMa26u"
   },
   "source": [
    "### **5. Enable file rotation for large datasets**  \n",
    "\n",
    "By default, `dlt` writes all extracted data from a resource into **one large intermediary file**. If your resource yields millions of rows, that means:\n",
    "- Only **one normalization worker** will be able to process that file\n",
    "- You’ll lose all benefits of **parallel processing** in later stages\n",
    "\n",
    "To fix this, you can **enable file rotation** by setting a file size limit. For example:\n",
    "\n",
    "```python\n",
    "os.environ[\"EXTRACT__DATA_WRITER__FILE_MAX_ITEMS\"] = \"100000\"\n",
    "```\n",
    "\n",
    "This means:\n",
    "- Every 100,000 items, a new intermediary file will be created\n",
    "- If you have 1,000,000 rows, you'll end up with 10 files\n",
    "- Later, these files can be processed **in parallel** during normalization and load\n",
    "\n",
    "File rotation is essential for scaling up performance when dealing with large datasets.\n",
    "\n"
   ]
  },
  {
   "cell_type": "markdown",
   "metadata": {
    "id": "iXNrO8ska-HC"
   },
   "source": [
    "### **6. Avoid unnecessary transformation in the resource**  \n",
    "   Keep your resource logic simple and fast — avoid costly computation or transformation in the generator itself."
   ]
  },
  {
   "cell_type": "markdown",
   "metadata": {
    "id": "bCeUqaW_cRSh"
   },
   "source": [
    "## **Normalize**"
   ]
  },
  {
   "cell_type": "markdown",
   "metadata": {
    "id": "855PcAumYzjC"
   },
   "source": [
    "### **What happens at the normalization stage?**\n",
    "\n",
    "After data is extracted, `dlt` transforms it into a **relational format** suitable for loading into databases. This happens in the **normalize stage**:\n",
    "\n",
    "1. Extracted files are passed to the **normalization process pool**.\n",
    "2. Each file is read, schema is resolved, and data is transformed.\n",
    "3. Rows are buffered and written into **normalized intermediary files**.\n",
    "4. These files are then used in the **load** stage.\n",
    "\n",
    "\n",
    ">If you’re not yet familiar with how the **normalization stage** works in `dlt`, we recommend reviewing the [**Normalization section in the dlt Fundamentals course**](https://colab.research.google.com/drive/1geSMNRkSwAelQJKd3e8vdoHCKiHMdmIo#forceEdit=true&sandboxMode=true&scrollTo=bCeUqaW_cRSh) before diving into performance tuning.  "
   ]
  },
  {
   "cell_type": "markdown",
   "metadata": {
    "id": "721X9YDkY-pz"
   },
   "source": [
    "\n",
    "### **Default behavior**\n",
    "\n",
    "- **Buffer size**: 5,000 items\n",
    "- **Parallelism**: Off by default (runs in main process)\n",
    "- **File rotation**: Off by default — all rows written into one file\n",
    "- **Compression**: On by default\n"
   ]
  },
  {
   "cell_type": "markdown",
   "metadata": {
    "id": "JBHsNJJsaWoL"
   },
   "source": [
    "### **Why normalization may be slow**\n",
    "\n",
    "If you process a lot of data in one file and use just one CPU, normalization becomes a bottleneck:\n",
    "- File parsing and transformation are **CPU-heavy**\n",
    "- Without parallelism, large files block the pipeline\n",
    "- Compression slows it further if not needed\n",
    "\n",
    "> File parsing and transformation are **CPU-heavy**, especially when dealing with **deeply nested structures** (which must be flattened into multiple tables) and **automatic data type inference** (which inspects each value to determine its type).\n",
    "\n"
   ]
  },
  {
   "cell_type": "markdown",
   "metadata": {
    "id": "Hdt3WR_EbmvR"
   },
   "source": [
    "### How to optimize normalization\n",
    "\n",
    "1. **Enable parallelism**: Use multiple processes\n",
    "   ```python\n",
    "   os.environ['NORMALIZE__WORKERS'] = '3'\n",
    "   ```\n",
    "\n",
    "2. **Disable compression (for debugging or speed)**:\n",
    "   ```python\n",
    "   os.environ['NORMALIZE_DATA_WRITER__DISABLE_COMPRESSION'] = 'true'\n",
    "   ```\n",
    "\n",
    "3. **Control buffer size** (optional):\n",
    "   ```python\n",
    "   os.environ['NORMALIZE__DATA_WRITER__BUFFER_MAX_ITEMS'] = '10000'\n",
    "   ```\n",
    "\n",
    "4. **Enable file rotation** (if you have one big file):\n",
    "   ```python\n",
    "   os.environ['NORMALIZE__DATA_WRITER__FILE_MAX_ITEMS'] = '100000'\n",
    "   ```\n"
   ]
  },
  {
   "cell_type": "markdown",
   "metadata": {
    "id": "GnjRo04vcWVL"
   },
   "source": [
    "### **1. Parallel normalization**\n",
    "\n",
    "Let’s measure normalization performance with and without parallelism.\n",
    "\n"
   ]
  },
  {
   "cell_type": "markdown",
   "metadata": {
    "id": "-v8nC68Fi8m1"
   },
   "source": [
    "#### **a. Normalize with 1 worker (default)**\n",
    "\n",
    "First, we run extraction:"
   ]
  },
  {
   "cell_type": "code",
   "execution_count": null,
   "metadata": {
    "id": "HMUH8EKMzkGY"
   },
   "outputs": [],
   "source": [
    "%%capture\n",
    "!pip install -U dlt"
   ]
  },
  {
   "cell_type": "code",
   "execution_count": null,
   "metadata": {
    "id": "Q2zx14aCcUFV"
   },
   "outputs": [],
   "source": [
    "import os\n",
    "import dlt\n",
    "import time\n",
    "from threading import current_thread\n",
    "from itertools import islice\n",
    "\n",
    "\n",
    "def get_rows(limit):\n",
    "    yield from map(lambda n: {\"row\": n}, range(limit))\n",
    "\n",
    "\n",
    "def yield_chunks(iterable, chunk_size=10):\n",
    "    iterator = iter(iterable)\n",
    "    while chunk := list(islice(iterator, chunk_size)):  # <--- we slice data into chunks\n",
    "        time.sleep(0.01)  # Simulate slow API call\n",
    "        yield chunk\n",
    "\n",
    "\n",
    "# Chunked resources, run in parallel threads\n",
    "@dlt.resource(name=\"resource1\", parallelized=True)\n",
    "def buffered_resource1():\n",
    "    yield from yield_chunks(get_rows(1000000), chunk_size=10000)\n",
    "\n",
    "\n",
    "@dlt.resource(name=\"resource2\", parallelized=True)\n",
    "def buffered_resource2():\n",
    "    yield from yield_chunks(get_rows(1000000), chunk_size=10000)\n",
    "\n",
    "\n",
    "@dlt.source\n",
    "def source():\n",
    "    return buffered_resource1, buffered_resource2\n",
    "\n",
    "\n",
    "pipeline = dlt.pipeline(\n",
    "    pipeline_name=\"extract_pipeline_w1\",\n",
    "    destination=\"duckdb\",\n",
    "    dataset_name=\"mydata\",\n",
    "    dev_mode=True,\n",
    ")\n",
    "\n",
    "load_info = pipeline.extract(source())\n",
    "print(pipeline.last_trace)"
   ]
  },
  {
   "cell_type": "markdown",
   "metadata": {
    "id": "eCIkiqOvdAHS"
   },
   "source": [
    "As mentioned earlier, each file created during the extract stage is sent to the process pool of the normalization stage. Since file rotation has not been enabled at the extract stage, each resource is written to a separate intermediary file. This results in **three files**, which can be **normalized in parallel**.\n",
    "\n",
    "First, let's measure the time taken with a single process worker."
   ]
  },
  {
   "cell_type": "code",
   "execution_count": null,
   "metadata": {
    "id": "7LQ0jLWJczWg"
   },
   "outputs": [],
   "source": [
    "import os\n",
    "import time\n",
    "\n",
    "os.environ[\"NORMALIZE__WORKERS\"] = \"1\"\n",
    "\n",
    "load_info = pipeline.normalize()\n",
    "print(pipeline.last_trace)"
   ]
  },
  {
   "cell_type": "markdown",
   "metadata": {
    "id": "i5PEUK_Zdl8c"
   },
   "source": [
    "Oh, that took way longer than extraction, right?  \n",
    "\n",
    "Yep, that’s totally normal. The **normalization step does the heavy lifting**:\n",
    "- flattening nested data,\n",
    "- figuring out types,\n",
    "- generating tables.\n",
    "\n",
    "It’s often **the slowest part** of the pipeline, so don’t be surprised if it takes most of the time.\n",
    "\n"
   ]
  },
  {
   "cell_type": "markdown",
   "metadata": {
    "id": "_OKFdFunivyI"
   },
   "source": [
    "#### **b. Normalize with 2 workers**\n",
    "\n",
    "Now, let's try more process workers.\n",
    "\n",
    "Unfortunately, Colab gives us only **2 CPU cores**.  \n",
    "That means running normalization with more than 2 workers won’t help (and might even slow things down).  \n",
    "Let’s stick with **2 workers** to get the best performance from what we’ve got!\n",
    "\n",
    "\n",
    "Note that we are running the extract stage again with a new pipeline, because normalizing already normalized data would not be meaningful."
   ]
  },
  {
   "cell_type": "code",
   "execution_count": null,
   "metadata": {
    "id": "1Ag46P2ciOVl"
   },
   "outputs": [],
   "source": [
    "import os\n",
    "\n",
    "os.cpu_count()"
   ]
  },
  {
   "cell_type": "code",
   "execution_count": null,
   "metadata": {
    "id": "4BmzE3o6dzgC"
   },
   "outputs": [],
   "source": [
    "# Set the number of process workers to 2\n",
    "os.environ[\"NORMALIZE__WORKERS\"] = \"2\"\n",
    "\n",
    "pipeline = dlt.pipeline(\n",
    "    pipeline_name=\"extract_pipeline_w2\",\n",
    "    destination=\"duckdb\",\n",
    "    dataset_name=\"mydata\",\n",
    "    dev_mode=True,\n",
    ")\n",
    "\n",
    "\n",
    "load_info = pipeline.extract(source())\n",
    "load_info = pipeline.normalize()\n",
    "\n",
    "print(pipeline.last_trace)"
   ]
  },
  {
   "cell_type": "markdown",
   "metadata": {
    "id": "5DHMK6GCXhGe"
   },
   "source": [
    "\n",
    "\n",
    "#### What to expect\n",
    "\n",
    "With parallel workers:\n",
    "- The total time to normalize **drops significantly**\n",
    "- CPU usage will increase (expected!)\n",
    "- Logs may show multiple files being processed at the same time\n",
    "\n",
    "\n",
    "#### ✅ Rule of thumb:\n",
    "Use more workers and rotate files if you have:\n",
    "- Large data\n",
    "- Multiple extracted files\n",
    "- A machine with multiple CPU cores\n"
   ]
  },
  {
   "cell_type": "markdown",
   "metadata": {
    "id": "hsqQWneOg6PS"
   },
   "source": [
    "### **2. Enable file rotation for large datasets**  \n",
    "\n",
    "By default, all normalized data goes into **one big file** — which means **only one process** can handle it. That kills parallelism.\n",
    "\n",
    "To fix this, set:\n",
    "\n",
    "```python\n",
    "os.environ[\"NORMALIZE__DATA_WRITER__FILE_MAX_ITEMS\"] = \"100000\"\n",
    "```\n",
    "\n",
    "Now `dlt` will:\n",
    "- Split data into smaller files (e.g., 10 files for 1M rows)\n",
    "- Load them **in parallel** using multiple workers\n",
    "- Speed up loading\n",
    "\n",
    "\n"
   ]
  },
  {
   "cell_type": "markdown",
   "metadata": {
    "id": "Rn6cUc0OcWsk"
   },
   "source": [
    "## **Load**\n",
    "\n"
   ]
  },
  {
   "cell_type": "markdown",
   "metadata": {
    "id": "dtKhgGTCdYNr"
   },
   "source": [
    "### **What happens at the loading stage?**\n",
    "\n",
    "\n",
    "\n",
    "After data is normalized, `dlt` takes the resulting files and sends them to your **destination** (e.g., DuckDB, BigQuery, Redshift).\n",
    "\n",
    "This stage uses a **thread pool**, where:\n",
    "1. Each thread loads one normalized file at a time.\n",
    "2. Files from the same source are bundled into a **load package**.\n",
    "3. Packages are loaded into the destination concurrently.\n",
    "\n",
    "\n",
    "\n"
   ]
  },
  {
   "cell_type": "markdown",
   "metadata": {
    "id": "OoOHnjqLv-Wv"
   },
   "source": [
    "### **Default behavior**\n",
    "\n",
    "- `dlt` uses **20 threads** by default\n",
    "- Each thread processes one file\n",
    "- All file contents are already normalized — there’s no parsing or schema detection at this point, so it’s mostly **I/O-bound**"
   ]
  },
  {
   "cell_type": "markdown",
   "metadata": {
    "id": "fmhPMR2mdcCa"
   },
   "source": [
    "### **How to optimize loading?**\n",
    "\n",
    "\n",
    "1. **Control the number of threads**  \n",
    "   Set this based on your destination’s capacity:\n",
    "\n",
    "   ```python\n",
    "   os.environ[\"LOAD__WORKERS\"] = \"4\"\n",
    "   ```\n",
    "\n",
    "2. **Rotate files during normalization**  \n",
    "   If all your data is in **one big file**, you’ll still have only **one load job**. To unlock real parallelism:\n",
    "   ```python\n",
    "   os.environ[\"NORMALIZE__DATA_WRITER__FILE_MAX_ITEMS\"] = \"100000\"\n",
    "   ```\n"
   ]
  },
  {
   "cell_type": "markdown",
   "metadata": {
    "id": "O_gGZ6EhyLjz"
   },
   "source": [
    "### **Example**"
   ]
  },
  {
   "cell_type": "markdown",
   "metadata": {
    "id": "k8a7nhjvyNiP"
   },
   "source": [
    "Now that we have two pipelines from the previous steps, let's use the first one to load data with only one thread. This means all normalized files will be loaded sequentially."
   ]
  },
  {
   "cell_type": "code",
   "execution_count": null,
   "metadata": {
    "id": "JFOqTdYXzlYA"
   },
   "outputs": [],
   "source": [
    "%%capture\n",
    "!pip install -U dlt"
   ]
  },
  {
   "cell_type": "code",
   "execution_count": null,
   "metadata": {
    "id": "BJ6_qv_DyEyL"
   },
   "outputs": [],
   "source": [
    "import os\n",
    "import dlt\n",
    "import time\n",
    "from threading import current_thread\n",
    "from itertools import islice\n",
    "\n",
    "\n",
    "def get_rows(limit):\n",
    "    yield from map(lambda n: {\"row\": n}, range(limit))\n",
    "\n",
    "\n",
    "def yield_chunks(iterable, chunk_size=10):\n",
    "    iterator = iter(iterable)\n",
    "    while chunk := list(islice(iterator, chunk_size)):  # <--- we slice data into chunks\n",
    "        time.sleep(0.01)  # Simulate slow API call\n",
    "        yield chunk\n",
    "\n",
    "\n",
    "# Chunked resources, run in parallel threads\n",
    "@dlt.resource(name=\"resource1\", parallelized=True)\n",
    "def buffered_resource1():\n",
    "    yield from yield_chunks(get_rows(1000000), chunk_size=10000)\n",
    "\n",
    "\n",
    "@dlt.resource(name=\"resource2\", parallelized=True)\n",
    "def buffered_resource2():\n",
    "    yield from yield_chunks(get_rows(1000000), chunk_size=10000)\n",
    "\n",
    "\n",
    "@dlt.resource(name=\"resource3\", parallelized=True)\n",
    "def buffered_resource3():\n",
    "    yield from yield_chunks(get_rows(1000000), chunk_size=10000)\n",
    "\n",
    "\n",
    "@dlt.source\n",
    "def source():\n",
    "    return buffered_resource1, buffered_resource2, buffered_resource3"
   ]
  },
  {
   "cell_type": "code",
   "execution_count": null,
   "metadata": {
    "id": "5lGfeGgByK2F"
   },
   "outputs": [],
   "source": [
    "# Set the number of thread workers to 1\n",
    "os.environ[\"LOAD__WORKERS\"] = \"1\"\n",
    "\n",
    "pipeline = dlt.pipeline(\n",
    "    pipeline_name=\"extract_pipeline_load1\",\n",
    "    destination=\"duckdb\",\n",
    "    dataset_name=\"mydata\",\n",
    "    dev_mode=True,\n",
    ")\n",
    "\n",
    "\n",
    "pipeline.extract(source())\n",
    "pipeline.normalize()\n",
    "pipeline.load()\n",
    "\n",
    "\n",
    "print(pipeline.last_trace)"
   ]
  },
  {
   "cell_type": "markdown",
   "metadata": {
    "id": "hBpjeLjS01_E"
   },
   "source": [
    "> Step load COMPLETED in 1 minute and 24.07 seconds."
   ]
  },
  {
   "cell_type": "markdown",
   "metadata": {
    "id": "u3_sKkWVyyTY"
   },
   "source": [
    "Next, use the second pipeline to load data with 3 threads, allowing the normalized files to be loaded in parallel."
   ]
  },
  {
   "cell_type": "code",
   "execution_count": null,
   "metadata": {
    "id": "v0e9rtMG7ckH"
   },
   "outputs": [],
   "source": [
    "# Set the number of thread workers to 3\n",
    "os.environ[\"LOAD__WORKERS\"] = \"3\"\n",
    "\n",
    "pipeline = dlt.pipeline(\n",
    "    pipeline_name=\"extract_pipeline_load2\",\n",
    "    destination=\"duckdb\",\n",
    "    dataset_name=\"mydata\",\n",
    "    dev_mode=True,\n",
    ")\n",
    "\n",
    "\n",
    "pipeline.extract(source())\n",
    "pipeline.normalize()\n",
    "pipeline.load()\n",
    "\n",
    "\n",
    "print(pipeline.last_trace)"
   ]
  },
  {
   "cell_type": "markdown",
   "metadata": {
    "id": "M9TbzhqU1WVs"
   },
   "source": [
    "Step load COMPLETED in 59.89 seconds.\n"
   ]
  },
  {
   "cell_type": "markdown",
   "metadata": {
    "id": "lBQYPxeh2o6z"
   },
   "source": [
    "Voila! ⭐"
   ]
  },
  {
   "cell_type": "markdown",
   "metadata": {
    "id": "D-vGIQiyvbMM"
   },
   "source": [
    "\n",
    "\n",
    "\n",
    "### What to expect\n",
    "\n",
    "- More threads = faster load, **if you have enough files**\n",
    "- If there’s only one file, you won’t see a speedup\n",
    "- Use **file rotation** in normalization to split the load into chunks\n",
    "\n",
    "> The **load stage is I/O-bound**, but that doesn't mean “more files is always better.”  \n",
    "Reading and loading many small files adds overhead too.  \n",
    "So use file rotation wisely: create **enough files to allow parallelism**, but not so many that it slows things down.  \n",
    "**Look at how much data you have**, and tune `FILE_MAX_ITEMS` accordingly.\n"
   ]
  },
  {
   "cell_type": "markdown",
   "metadata": {
    "id": "2Kit6Fhuz5Mn"
   },
   "source": [
    "\n",
    "\n",
    "## **Can you spot the bottleneck?**\n",
    "\n",
    "Ask yourself:\n",
    "- Is my pipeline slow because of waiting on I/O or doing heavy computations?\n",
    "- Am I yielding too many tiny objects one-by-one instead of batches?\n",
    "- Is my API async? If not, can I enable `parallelized=True` safely in my resources?"
   ]
  },
  {
   "cell_type": "markdown",
   "metadata": {
    "id": "vPJ2pgVhxtWv"
   },
   "source": [
    "# **GitHub example**"
   ]
  },
  {
   "cell_type": "markdown",
   "metadata": {
    "id": "yQTezmfJ2HGV"
   },
   "source": [
    "In this example, we'll optimize a pipeline that loads data from seven different GitHub endpoints."
   ]
  },
  {
   "cell_type": "code",
   "execution_count": null,
   "metadata": {
    "id": "P3yzkvGvm45d"
   },
   "outputs": [],
   "source": [
    "# Install dlt if not already installed\n",
    "%%capture\n",
    "!pip install \"dlt[duckdb]\""
   ]
  },
  {
   "cell_type": "markdown",
   "metadata": {
    "id": "T_VrFvcF2XCV"
   },
   "source": [
    "Clear the runtime to reset configurations:"
   ]
  },
  {
   "cell_type": "code",
   "execution_count": null,
   "metadata": {
    "id": "8wsxIJo9xz2w"
   },
   "outputs": [],
   "source": [
    "exit()"
   ]
  },
  {
   "cell_type": "markdown",
   "metadata": {
    "id": "-Vpdu6ob2fSg"
   },
   "source": [
    "We'll first define the resources without parallelization.\n",
    "\n",
    "> Since we are already yielding pages, the chunking method is implemented. However, with a manageable number of entries, the impact of chunking may be negligible."
   ]
  },
  {
   "cell_type": "code",
   "execution_count": null,
   "metadata": {
    "id": "NInES8lPx8Qs"
   },
   "outputs": [],
   "source": [
    "import dlt\n",
    "import requests\n",
    "from google.colab import userdata\n",
    "\n",
    "\n",
    "github_token = userdata.get(\"ACCESS_TOKEN\")\n",
    "\n",
    "headers = {\"Authorization\": f\"token {github_token}\"}\n",
    "\n",
    "\n",
    "def pagination(url):\n",
    "    while True:\n",
    "        response = requests.get(url, headers=headers)\n",
    "        time.sleep(0.1)  # Simulate delay\n",
    "        response.raise_for_status()\n",
    "        yield response.json()  # Here we're yielding pages\n",
    "\n",
    "        # Get next page\n",
    "        if \"next\" not in response.links:\n",
    "            break\n",
    "        url = response.links[\"next\"][\"url\"]\n",
    "\n",
    "\n",
    "@dlt.resource(table_name=\"issues\", write_disposition=\"merge\", primary_key=\"id\")\n",
    "def get_issues(\n",
    "    updated_at=dlt.sources.incremental(\"updated_at\", initial_value=\"1970-01-01T00:00:00Z\")\n",
    "):\n",
    "    url = f\"https://api.github.com/repos/dlt-hub/dlt/issues?since={updated_at.last_value}&per_page=100sort=updated\"\n",
    "    yield pagination(url)\n",
    "\n",
    "\n",
    "@dlt.resource(table_name=\"stargazers\", write_disposition=\"merge\", primary_key=\"id\")\n",
    "def get_stargazers():\n",
    "    url = \"https://api.github.com/repos/dlt-hub/dlt/stargazers?per_page=100\"\n",
    "    yield pagination(url)\n",
    "\n",
    "\n",
    "@dlt.resource(table_name=\"pull_requests\", write_disposition=\"merge\", primary_key=\"id\")\n",
    "def get_pulls(\n",
    "    updated_at=dlt.sources.incremental(\"updated_at\", initial_value=\"1970-01-01T00:00:00Z\")\n",
    "):\n",
    "    url = f\"https://api.github.com/repos/dlt-hub/dlt/pulls?since={updated_at.last_value}&per_page=100&sort=updated\"\n",
    "    yield pagination(url)\n",
    "\n",
    "\n",
    "@dlt.resource(table_name=\"commits\", write_disposition=\"merge\", primary_key=\"sha\")\n",
    "def get_commits():\n",
    "    url = \"https://api.github.com/repos/dlt-hub/dlt/commits?per_page=100\"\n",
    "    yield pagination(url)\n",
    "\n",
    "\n",
    "@dlt.resource(table_name=\"branches\", write_disposition=\"merge\", primary_key=\"name\")\n",
    "def get_branches():\n",
    "    url = \"https://api.github.com/repos/dlt-hub/dlt/branches?per_page=100\"\n",
    "    yield pagination(url)\n",
    "\n",
    "\n",
    "@dlt.resource(table_name=\"contributors\", write_disposition=\"merge\", primary_key=\"id\")\n",
    "def get_contributors():\n",
    "    url = \"https://api.github.com/repos/dlt-hub/dlt/contributors?per_page=100\"\n",
    "    yield pagination(url)\n",
    "\n",
    "\n",
    "@dlt.resource(table_name=\"labels\", write_disposition=\"merge\", primary_key=\"id\")\n",
    "def get_labels():\n",
    "    url = \"https://api.github.com/repos/dlt-hub/dlt/labels?per_page=100\"\n",
    "    yield pagination(url)"
   ]
  },
  {
   "cell_type": "markdown",
   "metadata": {
    "id": "aH_56AMM3R81"
   },
   "source": [
    "Run the pipeline with the resources defined above:"
   ]
  },
  {
   "cell_type": "code",
   "execution_count": null,
   "metadata": {
    "id": "P99IfoqTmQOl"
   },
   "outputs": [],
   "source": [
    "pipeline = dlt.pipeline(\n",
    "    pipeline_name=\"extract_pipeline_example1\",\n",
    "    destination=\"duckdb\",\n",
    "    dataset_name=\"mydata\",\n",
    "    dev_mode=True,\n",
    ")\n",
    "\n",
    "load_info = pipeline.run(\n",
    "    [get_issues, get_stargazers, get_pulls, get_branches, get_contributors, get_labels, get_commits]\n",
    ")"
   ]
  },
  {
   "cell_type": "code",
   "execution_count": null,
   "metadata": {
    "id": "tX8k9sK-PZNC"
   },
   "outputs": [],
   "source": [
    "print(pipeline.last_trace)"
   ]
  },
  {
   "cell_type": "markdown",
   "metadata": {
    "id": "rDQR5Mb13kTO"
   },
   "source": [
    "Let's redefine our resources with parallelization, wrap them in a single source, and increase the number of normalization, as well as extract workers.\n",
    "\n",
    "> Since the default number of load workers is by default set to 20, there's probably no need to modify it.\n",
    "\n",
    "While we could optimize the configuration of intermediary file sizes more effectively if we knew the exact number of items each endpoint returns, let's start by experimenting with an arbitrary value of 200 for the data writers, which should be more or less suitable to enable enough parallelization."
   ]
  },
  {
   "cell_type": "code",
   "execution_count": null,
   "metadata": {
    "id": "qJwXYesHqAJ0"
   },
   "outputs": [],
   "source": [
    "import os\n",
    "\n",
    "os.environ[\"EXTRACT__WORKERS\"] = \"7\"\n",
    "os.environ[\"NORMALIZE__WORKERS\"] = \"2\""
   ]
  },
  {
   "cell_type": "code",
   "execution_count": null,
   "metadata": {
    "id": "NdL_vKqqmmtt"
   },
   "outputs": [],
   "source": [
    "import time\n",
    "\n",
    "\n",
    "@dlt.resource(table_name=\"issues\", write_disposition=\"merge\", primary_key=\"id\", parallelized=True)\n",
    "def get_issues_2(\n",
    "    updated_at=dlt.sources.incremental(\"updated_at\", initial_value=\"1970-01-01T00:00:00Z\")\n",
    "):\n",
    "    url = f\"https://api.github.com/repos/dlt-hub/dlt/issues?since={updated_at.last_value}&per_page=100sort=updated\"\n",
    "    yield pagination(url)\n",
    "\n",
    "\n",
    "@dlt.resource(\n",
    "    table_name=\"stargazers\", write_disposition=\"merge\", primary_key=\"id\", parallelized=True\n",
    ")\n",
    "def get_stargazers_2():\n",
    "    url = \"https://api.github.com/repos/dlt-hub/dlt/stargazers?per_page=100\"\n",
    "    yield pagination(url)\n",
    "\n",
    "\n",
    "@dlt.resource(\n",
    "    table_name=\"pull_requests\", write_disposition=\"merge\", primary_key=\"id\", parallelized=True\n",
    ")\n",
    "def get_pulls_2(\n",
    "    updated_at=dlt.sources.incremental(\"updated_at\", initial_value=\"1970-01-01T00:00:00Z\")\n",
    "):\n",
    "    url = f\"https://api.github.com/repos/dlt-hub/dlt/pulls?since={updated_at.last_value}&per_page=100&sort=updated\"\n",
    "    yield pagination(url)\n",
    "\n",
    "\n",
    "@dlt.resource(table_name=\"commits\", write_disposition=\"merge\", primary_key=\"sha\", parallelized=True)\n",
    "def get_commits_2():\n",
    "    url = \"https://api.github.com/repos/dlt-hub/dlt/commits?per_page=100\"\n",
    "    yield pagination(url)\n",
    "\n",
    "\n",
    "@dlt.resource(\n",
    "    table_name=\"branches\", write_disposition=\"merge\", primary_key=\"name\", parallelized=True\n",
    ")\n",
    "def get_branches_2():\n",
    "    url = \"https://api.github.com/repos/dlt-hub/dlt/branches?per_page=100\"\n",
    "    yield pagination(url)\n",
    "\n",
    "\n",
    "@dlt.resource(\n",
    "    table_name=\"contributors\", write_disposition=\"merge\", primary_key=\"id\", parallelized=True\n",
    ")\n",
    "def get_contributors_2():\n",
    "    url = \"https://api.github.com/repos/dlt-hub/dlt/contributors?per_page=100\"\n",
    "    yield pagination(url)\n",
    "\n",
    "\n",
    "@dlt.resource(table_name=\"labels\", write_disposition=\"merge\", primary_key=\"id\", parallelized=True)\n",
    "def get_labels_2():\n",
    "    url = \"https://api.github.com/repos/dlt-hub/dlt/labels?per_page=100\"\n",
    "    yield pagination(url)\n",
    "\n",
    "\n",
    "@dlt.source\n",
    "def github_data():\n",
    "    return (\n",
    "        get_issues_2,\n",
    "        get_stargazers_2,\n",
    "        get_pulls_2,\n",
    "        get_branches_2,\n",
    "        get_contributors_2,\n",
    "        get_labels_2,\n",
    "        get_commits_2,\n",
    "    )\n",
    "\n",
    "\n",
    "improved_p = dlt.pipeline(\"test_pipeline_2\", destination=\"duckdb\")\n",
    "\n",
    "\n",
    "pipeline = dlt.pipeline(\n",
    "    pipeline_name=\"extract_pipeline_example2\",\n",
    "    destination=\"duckdb\",\n",
    "    dataset_name=\"mydata\",\n",
    "    dev_mode=True,\n",
    ")\n",
    "\n",
    "load_info = pipeline.run(github_data())\n",
    "print(pipeline.last_trace)"
   ]
  },
  {
   "cell_type": "markdown",
   "metadata": {
    "id": "GjEgPxoVqwSh"
   },
   "source": [
    "# **Homework: Speed up your pipeline**\n",
    "\n",
    "### **Goal**\n",
    "\n",
    "Use the public **Jaffle Shop API** to build a `dlt` pipeline and apply everything you've learned about performance:\n",
    "\n",
    "- Chunking\n",
    "- Parallelism\n",
    "- Buffer control\n",
    "- File rotation\n",
    "- Worker tuning\n",
    "\n",
    "Your task is to **make the pipeline as fast as possible**, while keeping the results correct.\n",
    "\n",
    "\n",
    "\n",
    "### **What you’ll need**\n",
    "\n",
    "- API base: `https://jaffle-shop.scalevector.ai/api/v1`\n",
    "- Docs: [https://jaffle-shop.scalevector.ai/docs](https://jaffle-shop.scalevector.ai/docs)\n",
    "- Start with these endpoints:\n",
    "  - `/customers`\n",
    "  - `/orders`\n",
    "  - `/products`\n",
    "\n",
    "Each of them returns **paged responses** — so you'll need to handle pagination.\n",
    "\n",
    "\n",
    "\n",
    "### **What to implement**\n",
    "\n",
    "1. **Extract** from the API using `dlt`\n",
    "   - Use `dlt.resource` and [`RESTClient`](https://dlthub.com/docs/devel/general-usage/http/rest-client) with proper pagination\n",
    "\n",
    "2. **Apply all performance techniques**\n",
    "   - Group resources into sources\n",
    "   - Yield **chunks/pages**, not single rows\n",
    "   - Use `parallelized=True`\n",
    "   - Set `EXTRACT__WORKERS`, `NORMALIZE__WORKERS`, and `LOAD__WORKERS`\n",
    "   - Tune buffer sizes and enable **file rotation**\n",
    "\n",
    "3. **Measure performance**\n",
    "   - Time the extract, normalize, and load stages separately\n",
    "   - Compare a naive version vs. optimized version\n",
    "   - Log thread info or `pipeline.last_trace` if helpful\n",
    "\n",
    "\n",
    "### **Deliverables**\n",
    "\n",
    "Share your code as a Google Colab or [GitHub Gist](https://gist.github.com/) in Homework Google Form. **This step is required for certification.**\n",
    "\n",
    "\n",
    "It should include:\n",
    "- Working pipeline for at least 2 endpoints\n",
    "- Before/after timing comparison\n",
    "- A short explanation of what changes made the biggest difference if there're any differences\n",
    "\n",
    "\n",
    "\n"
   ]
  },
  {
   "cell_type": "markdown",
   "metadata": {
    "id": "Ei0-Xh5Ut8m1"
   },
   "source": [
    "And remember: **Start with the defaults. Measure. Then tune.**"
   ]
  },
  {
   "cell_type": "code",
   "execution_count": null,
   "metadata": {
    "id": "hWqcOu88t6pX"
   },
   "outputs": [],
   "source": []
  }
 ],
 "metadata": {
  "colab": {
   "provenance": [],
   "toc_visible": true
  },
  "kernelspec": {
   "display_name": "Python 3",
   "name": "python3"
  },
  "language_info": {
   "name": "python"
  }
 },
 "nbformat": 4,
 "nbformat_minor": 0
}
