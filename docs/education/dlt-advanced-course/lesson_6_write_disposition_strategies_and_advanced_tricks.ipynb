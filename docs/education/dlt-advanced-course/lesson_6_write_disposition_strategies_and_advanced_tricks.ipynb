{
 "cells": [
  {
   "cell_type": "markdown",
   "metadata": {
    "id": "_dbt9Ilnmktb"
   },
   "source": [
    "# Merge and replace strategies & Advanced tricks [![Open In Colab](https://colab.research.google.com/assets/colab-badge.svg)](https://colab.research.google.com/github/dlt-hub/dlt/blob/master/docs/education/dlt-advanced-course/lesson_6_write_disposition_strategies_and_advanced_tricks.ipynb) [![GitHub badge](https://img.shields.io/badge/github-view_source-2b3137?logo=github)](https://github.com/dlt-hub/dlt/blob/master/docs/education/dlt-advanced-course/lesson_6_write_disposition_strategies_and_advanced_tricks.ipynb)\n"
   ]
  },
  {
   "cell_type": "markdown",
   "metadata": {
    "id": "CuYtfuuM1nfp"
   },
   "source": [
    "# **Recap**\n"
   ]
  },
  {
   "cell_type": "markdown",
   "metadata": {
    "id": "0jdWPjjmqANA"
   },
   "source": [
    "---\n",
    "## **`dlt` write dispositions**"
   ]
  },
  {
   "cell_type": "markdown",
   "metadata": {
    "id": "5ThZzzAwqLnn"
   },
   "source": [
    "Write disposition in the context of the dlt library defines how the data should be written to the destination. There are three types of write dispositions:\n",
    "\n",
    "* **Append**: This is the **default** disposition. It will append the data to the existing data in the destination.\n",
    "\n",
    "* **Replace**: This disposition replaces the data in the destination with the data from the resource. It **deletes** all the data and **recreates** the schema before loading the data.\n",
    "\n",
    "* **Merge**: This write disposition merges the data from the resource with the data at the destination. For the merge disposition, you need to specify a `primary_key` for the resource.\n",
    "\n",
    "The write disposition you choose depends on the dataset and how you can extract it. For more details, you can refer to the [Incremental loading page](https://dlthub.com/docs/general-usage/incremental-loading).\n",
    "\n",
    "\n",
    "\n",
    "A `write_disposition` in `dlt` can specified in the resource decorator:\n",
    "\n",
    "```python\n",
    "@dlt.resource(write_disposition=\"append\")\n",
    "def my_resource():\n",
    "  ...\n",
    "  yield data\n",
    "```\n",
    "\n",
    "Or directly in the pipeline run:\n",
    "\n",
    "```python\n",
    "load_info = pipeline.run(my_resource, write_disposition=\"replace\")\n",
    "```\n",
    "\n",
    "> In case you specify both, the write disposition specified at the pipeline run level will override the write disposition specified at the resource level."
   ]
  },
  {
   "cell_type": "markdown",
   "metadata": {
    "id": "8b4lfRp54J0w"
   },
   "source": [
    "---\n",
    "\n",
    "### **Replace**\n",
    "\n",
    "The `replace` strategy in the dlt library is used for **full loading** of data. This strategy completely overwrites the existing data with the new dataset. It's useful when you want to refresh the entire table with the latest data. It's important to note that this strategy technically does not load only new data but instead reloads all data: old and new.\n",
    "\n",
    "**Example: E-commerce Product Catalog refresh**\n",
    "\n",
    "- A large retailer (e.g., Amazon) needs to refresh their product catalog daily.\n",
    "\n",
    "- Using a replace strategy ensures all product details are up-to-date and no longer available products are removed.\n",
    "\n",
    "- Critical for ensuring customers see only valid products and prices.\n",
    "\n",
    "**Importance**: Guarantees consistency and accuracy in fast-changing datasets where full refreshes are simpler than merging updates.\n",
    "\n",
    "**Risks**: Data downtime if the refresh fails or takes too long.\n",
    "\n",
    "In dlt, you can control how the data is loaded into the destination table by setting the `write_disposition` parameter in the resource configuration. When you set the `write_disposition` to `replace`, it replaces the data in the destination table with the new data.\n",
    "\n",
    "For more details, you can refer to the following documentation pages:\n",
    "\n",
    "- [Full loading](https://dlthub.com/docs/general-usage/full-loading)\n",
    "- [Write dispositions](https://dlthub.com/docs/general-usage/incremental-loading#the-3-write-dispositions)\n"
   ]
  },
  {
   "cell_type": "markdown",
   "metadata": {
    "id": "FNvnHPqZ1077"
   },
   "source": [
    "---\n",
    "### **Merge**\n",
    "\n",
    "Consider a scenario where the data in the source has been updated, but you want to avoid reloading the entire dataset.\n",
    "\n",
    "**Example: Customer data integration (e.g., Salesforce CRM)**\n",
    "\n",
    "- A business integrates Salesforce CRM data with its data warehouse.\n",
    "\n",
    "- Sales representatives continuously update customer profiles. A merge strategy ensures that only the changed records are updated without affecting the entire dataset.\n",
    "\n",
    "- Useful for integrating various CRM systems where incremental updates are preferred over full reloads.\n",
    "\n",
    "Merge write disposition is used to merge new data into the destination, using a `merge_key` and/or **deduplicating**/**upserting** new data using a `primary_key`.\n",
    "\n"
   ]
  },
  {
   "cell_type": "markdown",
   "metadata": {
    "id": "BPrDUs-3w-BU"
   },
   "source": [
    "\n",
    "The **merge** write disposition can be useful in several situations:\n",
    "\n",
    "1.  If you have a dataset where records are frequently updated and you want to reflect these changes in your database, the merge write disposition can be used. It will **update the existing records** with the new data instead of creating duplicate entries.\n",
    "\n",
    "2. If your data source occasionally sends **duplicate records**, the merge write disposition can help handle this. It uses a `primary_key` to identify unique records, so if a duplicate record (with the same `primary_key`) is encountered, it will be merged with the existing record instead of creating a new one.\n",
    "\n",
    "3. If you are dealing with **Slowly Changing Dimensions** (SCD) where the attribute of a record changes over time and you want to maintain a history of these changes, you can use the merge write disposition with the scd2 strategy.\n",
    "\n",
    "\n",
    "When using the merge disposition, you need to specify a `primary_key` or `merge_key` for the resource.\n"
   ]
  },
  {
   "cell_type": "markdown",
   "metadata": {
    "id": "pTAeTdoKJHZV"
   },
   "source": [
    "---\n",
    "\n",
    "# **More about write dispositions and incremental loading** ⚙️🧠\n",
    "\n",
    "**In the dlt Fundamentals course we've already discussed:**\n",
    "- `dlt` write dispositions:\n",
    "  - Append\n",
    "  - Replace\n",
    "  - Merge\n",
    "- What incremental loading is.\n",
    "\n",
    "**Now, we will cover** the different strategies for `merge` write disposition:\n",
    "- `delete-insert` strategy.\n",
    "- `upsert` strategy.\n",
    "- `SCD2` strategy.\n",
    "\n",
    "We also will take a look at\n",
    "* Hard deletes.\n",
    "* Falling back for incremental cursors.\n",
    "* Backfills."
   ]
  },
  {
   "cell_type": "markdown",
   "metadata": {
    "id": "mDIcDzPd3Ks4"
   },
   "source": [
    "---\n",
    "\n",
    "## **Replace strategies**\n",
    "\n",
    "In this lesson, we will explore the concept of **full loading**, where we completely reload the data of our tables, removing all existing data and replacing it with new data from our source.\n",
    "\n",
    "\n",
    "We will also delve into the different replace strategies that dlt implements for doing a full load on your table:\n",
    "- `truncate-and-insert`,\n",
    "- `insert-from-staging`,  \n",
    "- `staging-optimized`.\n",
    "\n",
    "\n",
    "\n",
    "Each of these strategies has its own unique characteristics and use cases, and we will discuss them in detail.\n",
    "\n"
   ]
  },
  {
   "cell_type": "markdown",
   "metadata": {
    "id": "xV4UtQpH60eq"
   },
   "source": [
    "### **I. Truncate-and-Insert Strategy**\n",
    "\n",
    "**Overview**\n",
    "\n",
    "The `truncate-and-insert` strategy is the **default** replace strategy in dlt and is the **fastest** of all three strategies. This strategy is particularly useful when you want to completely refresh your data and you don't need to maintain the existing data in your tables during the load process.\n",
    "\n",
    "When you load data with the `truncate-and-insert` strategy, the destination tables will be truncated at the beginning of the load. This means that all existing data in the tables will be removed. After truncating the tables, the new data will be inserted. The insertion of new data happens consecutively but not within the same transaction.\n",
    "\n",
    "**Example: Daily ETL job for financial reports (e.g., Bloomberg Terminal Data)**\n",
    "\n",
    "- Daily financial summaries are generated and processed overnight.\n",
    "\n",
    "- Using `truncate-and-insert`, the pipeline ensures that analysts work with the most recent data every morning.\n",
    "\n",
    "**Configuration**\n",
    "\n",
    "You can select the `truncate-and-insert` strategy with a setting in your `config.toml` file.\n",
    "\n",
    "```yaml\n",
    "[destination]\n",
    "replace_strategy = \"truncate-and-insert\"\n",
    "```\n",
    "\n",
    "**Limitations**\n",
    "\n",
    "However, it's important to note that the **downside** of this strategy is that your **tables will have no data for a while** until the load is completed. You may end up with new data in some tables and no data in other tables if the load fails during the run. Such an incomplete load may be detected by checking if the `_dlt_loads` table contains a load id from `_dlt_load_id` of the replaced tables. If you prefer to have no data downtime, please use one of the other strategies.\n",
    "\n",
    "\n",
    "Here's an example of how to use the `truncate-and-insert` strategy with the Pokemon data:\n"
   ]
  },
  {
   "cell_type": "code",
   "execution_count": null,
   "metadata": {
    "id": "yXpstnzCjHDW"
   },
   "outputs": [],
   "source": [
    "%%capture\n",
    "!pip install \"dlt[duckdb]\""
   ]
  },
  {
   "cell_type": "code",
   "execution_count": null,
   "metadata": {
    "id": "zRTUpPpA61OU"
   },
   "outputs": [],
   "source": [
    "from typing import List, Dict, Any\n",
    "import dlt\n",
    "from datetime import datetime\n",
    "\n",
    "data: List[Dict[str, Any]] = [\n",
    "    {\"id\": \"1\", \"name\": \"bulbasaur\", \"size\": {\"weight\": 6.9, \"height\": 0.7}},\n",
    "    {\"id\": \"4\", \"name\": \"charmander\", \"size\": {\"weight\": 8.5, \"height\": 0.6}},\n",
    "    {\"id\": \"25\", \"name\": \"pikachu\", \"size\": {\"weight\": 6, \"height\": 0.4}},\n",
    "]\n",
    "\n",
    "\n",
    "dlt.secrets[\n",
    "    \"destination.replace_strategy\"\n",
    "] = \"truncate-and-insert\"  # <--- set the replace strategy using TOML, ENVs or Python\n",
    "\n",
    "pipeline = dlt.pipeline(\n",
    "    pipeline_name=\"pokemon_load_1\",\n",
    "    destination=\"duckdb\",\n",
    "    dataset_name=\"pokemon_data_1\",\n",
    ")\n",
    "\n",
    "load_info = pipeline.run(data, table_name=\"pokemon\", write_disposition=\"replace\")\n",
    "print(pipeline.last_trace)"
   ]
  },
  {
   "cell_type": "code",
   "execution_count": null,
   "metadata": {
    "id": "_Vhph3Kaj_bi"
   },
   "outputs": [],
   "source": [
    "with pipeline.sql_client() as client:\n",
    "    with client.execute_query(\"SHOW ALL TABLES\") as table:\n",
    "        tables = table.df()\n",
    "\n",
    "tables"
   ]
  },
  {
   "cell_type": "markdown",
   "metadata": {
    "id": "a9_4Qi2z6xX2"
   },
   "source": [
    "\n",
    "\n",
    "In this example, we're using the `replace_strategy=\"truncate-and-insert\"` parameter in the pipeline method to indicate that we want to use the `truncate-and-insert` strategy for replacing data.\n",
    "\n"
   ]
  },
  {
   "cell_type": "markdown",
   "metadata": {
    "id": "h-1_ZC89jaZK"
   },
   "source": [
    "### **II. Insert-from-staging Strategy**\n",
    "\n",
    "**Overview**\n",
    "\n",
    "The `insert-from-staging` strategy is used when you want to maintain a consistent state between nested and root tables at all times, with zero downtime. This strategy loads all new data into staging tables away from your final destination tables and then truncates and inserts the new data in one transaction.\n",
    "\n",
    "**Example: Airline reservation systems (e.g., Amadeus, Sabre)**\n",
    "\n",
    "- Ensuring that updated flight availability information doesn't interrupt user queries during ingestion.\n",
    "\n",
    "- Data is first written to staging tables and only swapped to production tables when the operation is complete.\n",
    "\n",
    "**Configuration**\n",
    "\n",
    "You can select the `insert-from-staging` strategy with a setting in your `config.toml` file. If you do not select a strategy, dlt will default to `truncate-and-insert`.\n",
    "\n",
    "```yaml\n",
    "[destination]\n",
    "replace_strategy = \"insert-from-staging\"\n",
    "```\n",
    "\n",
    "**Limitations**\n",
    "\n",
    "The `insert-from-staging` strategy, while ensuring zero downtime and maintaining a consistent state between nested and root tables, is **the slowest** of all three strategies. It loads all new data into staging tables away from your final destination tables and then truncates and inserts the new data in one transaction. This process can be time-consuming, especially for large datasets.\n",
    "\n",
    "Here's an example of how you can use this strategy:"
   ]
  },
  {
   "cell_type": "code",
   "execution_count": null,
   "metadata": {
    "id": "5xS-XqiKjKVV"
   },
   "outputs": [],
   "source": [
    "import dlt\n",
    "\n",
    "data = [\n",
    "    {\"id\": \"1\", \"name\": \"bulbasaur\", \"size\": {\"weight\": 6.9, \"height\": 0.7}},\n",
    "    {\"id\": \"4\", \"name\": \"charmander\", \"size\": {\"weight\": 8.5, \"height\": 0.6}},\n",
    "    {\"id\": \"25\", \"name\": \"pikachu\", \"size\": {\"weight\": 6, \"height\": 0.4}},\n",
    "]\n",
    "\n",
    "\n",
    "dlt.secrets[\n",
    "    \"destination.replace_strategy\"\n",
    "] = \"insert-from-staging\"  # <--- set the replace strategy using TOML, ENVs or Python\n",
    "\n",
    "pipeline = dlt.pipeline(\n",
    "    pipeline_name=\"pokemon_load_2\",\n",
    "    destination=\"duckdb\",\n",
    "    dataset_name=\"pokemon_data_2\",\n",
    ")\n",
    "\n",
    "load_info = pipeline.run(data, table_name=\"pokemon\", write_disposition=\"replace\")\n",
    "\n",
    "print(pipeline.last_trace)"
   ]
  },
  {
   "cell_type": "code",
   "execution_count": null,
   "metadata": {
    "id": "8YtWqoQEkNR_"
   },
   "outputs": [],
   "source": [
    "with pipeline.sql_client() as client:\n",
    "    with client.execute_query(\"SHOW ALL TABLES\") as table:\n",
    "        tables = table.df()\n",
    "\n",
    "tables"
   ]
  },
  {
   "cell_type": "markdown",
   "metadata": {
    "id": "-Ree5JMXxpWZ"
   },
   "source": [
    "We see the introduction of the [staging](https://dlthub.com/docs/dlt-ecosystem/staging) schema called `pokemon_data_2_staging`.\n",
    "\n",
    "\n",
    "In this example, the `insert-from-staging` strategy will load the pokemon data **into a staging table** in the `pokemon_data_2_staging` schema in DuckDB (or any other destination you choose).  \n",
    "\n",
    "Let's check the content of this table:"
   ]
  },
  {
   "cell_type": "code",
   "execution_count": null,
   "metadata": {
    "id": "HN8YAIWnxpWZ"
   },
   "outputs": [],
   "source": [
    "with pipeline.sql_client() as client:\n",
    "    with client.execute_query(\"SELECT * from pokemon_data_2_staging.pokemon\") as table:\n",
    "        tables = table.df()\n",
    "\n",
    "tables"
   ]
  },
  {
   "cell_type": "markdown",
   "metadata": {
    "id": "z54Y0dKKxpWZ"
   },
   "source": [
    "We see that the staging table contains all the data we loaded."
   ]
  },
  {
   "cell_type": "markdown",
   "metadata": {
    "id": "af_bQxOVkTjo"
   },
   "source": [
    "\n",
    "\n",
    "dlt will then **truncate** the destination table and **insert** the new data in one transaction, ensuring that the destination dataset is always in a consistent state.\n",
    "\n",
    "For more details about the `insert-from-staging` strategy, you can refer to the [dlt documentation.](https://dlthub.com/docs/general-usage/full-loading#the-insert-from-staging-strategy)"
   ]
  },
  {
   "cell_type": "markdown",
   "metadata": {
    "id": "JgMNuXUzk_gM"
   },
   "source": [
    "### **III. Staging-optimized Strategy**\n",
    "\n",
    "\n",
    "The `staging-optimized` replace strategy is one of the three strategies implemented by dlt for doing a full load on your table.\n",
    "\n",
    "**Overview**\n",
    "\n",
    "The `staging-optimized` strategy **combines the benefits** of the `insert-from-staging` strategy with certain optimizations for **faster** loading on some destinations. However, it comes with a **trade-off**: destination tables may be dropped and recreated in some cases. This means that any views or other constraints you have placed on those tables will be dropped with the table.\n",
    "\n",
    "If you have a setup where you need to retain your destination tables, you should not use the `staging-optimized` strategy. On the other hand, if you do not care about tables being dropped but need the benefits of the `insert-from-staging` with some performance (and cost) saving opportunities, this strategy is a good choice.\n",
    "\n",
    "**Example: Data warehousing for Business Intelligence (e.g., Snowflake, BigQuery)**\n",
    "\n",
    "- When refreshing tables with daily marketing analytics, staging-optimized strategy uses clone operations.\n",
    "\n",
    "- Clone operations in platforms like Snowflake are fast and cost-effective since they avoid data copying.\n",
    "\n",
    "**How it works**\n",
    "\n",
    "The `staging-optimized` strategy behaves differently across destinations:\n",
    "\n",
    "- **Postgres**: After loading the new data into the staging tables, the destination tables will be dropped and replaced by the staging tables. No data needs to be moved, so this strategy is almost as fast as `truncate-and-insert`.\n",
    "\n",
    "- **BigQuery**: After loading the new data into the staging tables, the destination tables will be dropped and recreated with a clone command from the staging tables. This is a low-cost and fast way to create a second independent table from the data of another. You can learn more about table cloning on BigQuery [here](https://dlthub.com/docs/dlt-ecosystem/destinations/bigquery).\n",
    "\n",
    "- **Snowflake**: After loading the new data into the staging tables, the destination tables will be dropped and recreated with a clone command from the staging tables. This is a low-cost and fast way to create a second independent table from the data of another. You can learn more about table cloning on Snowflake [here](https://dlthub.com/docs/dlt-ecosystem/destinations/snowflake).\n",
    "\n",
    "- For all **other destinations**, please look at their respective [documentation](https://dlthub.com/docs/dlt-ecosystem/destinations/) pages to see if and how the `staging-optimized` strategy is implemented. If it is not implemented, dlt will fall back to the `insert-from-staging` strategy.\n",
    "\n",
    "**Configuration**\n",
    "\n",
    "You can select the `staging-optimized` strategy with a setting in your `config.toml` file. If you do not select a strategy, dlt will default to `truncate-and-insert`.\n",
    "\n",
    "```yaml\n",
    "[destination]\n",
    "# Set the optimized replace strategy\n",
    "replace_strategy = \"staging-optimized\"\n",
    "```\n",
    "\n",
    "**Limitations**\n",
    "\n",
    "It's important to note that the `staging-optimized` replace strategy is **not implemented for all destinations**. For example, DuckDB doesn't support this strategy, that's why we skip the code example."
   ]
  },
  {
   "cell_type": "markdown",
   "metadata": {
    "id": "ICvz5T94EK7u"
   },
   "source": [
    "---\n",
    "## **Merge strategies**\n",
    "\n",
    "Append and replace write dispositions are quite simple to use, but with `merge` you need to be more careful.\n",
    "\n",
    "Let's create an example database"
   ]
  },
  {
   "cell_type": "code",
   "execution_count": null,
   "metadata": {
    "id": "ygrb6tHBJ_Zm"
   },
   "outputs": [],
   "source": [
    "%%capture\n",
    "!pip install \"dlt[duckdb]\""
   ]
  },
  {
   "cell_type": "markdown",
   "metadata": {
    "id": "tJweOgGK-_sg"
   },
   "source": [
    "Let's remember our Pokemon data sample from the dlt Fundamentals course:\n"
   ]
  },
  {
   "cell_type": "code",
   "execution_count": null,
   "metadata": {
    "id": "JsMeCZwJiEea"
   },
   "outputs": [],
   "source": [
    "# Sample data containing pokemon details\n",
    "data = [\n",
    "    {\"id\": \"1\", \"name\": \"bulbasaur\", \"size\": {\"weight\": 6.9, \"height\": 0.7}},\n",
    "    {\"id\": \"4\", \"name\": \"charmander\", \"size\": {\"weight\": 8.5, \"height\": 0.6}},\n",
    "    {\"id\": \"25\", \"name\": \"pikachu\", \"size\": {\"weight\": 6, \"height\": 0.4}},\n",
    "]"
   ]
  },
  {
   "cell_type": "markdown",
   "metadata": {
    "id": "FQWuuOQRAF4U"
   },
   "source": [
    "Load this data into duckdb with merge write disposition."
   ]
  },
  {
   "cell_type": "code",
   "execution_count": null,
   "metadata": {
    "id": "1m486m1RzFbR"
   },
   "outputs": [],
   "source": [
    "import dlt\n",
    "from dlt.common.typing import TDataItems, TDataItem\n",
    "\n",
    "\n",
    "@dlt.resource(\n",
    "    name=\"pokemon\",\n",
    "    write_disposition=\"merge\",\n",
    "    primary_key=\"id\",\n",
    ")\n",
    "def pokemon() -> TDataItems:\n",
    "    yield data\n",
    "\n",
    "\n",
    "pipeline = dlt.pipeline(\n",
    "    pipeline_name=\"poke_pipeline_merge\",\n",
    "    destination=\"duckdb\",\n",
    "    dataset_name=\"pokemon_data\",\n",
    ")\n",
    "\n",
    "load_info = pipeline.run(pokemon)\n",
    "print(load_info)\n",
    "\n",
    "# explore loaded data\n",
    "pipeline.dataset().pokemon.df()"
   ]
  },
  {
   "cell_type": "markdown",
   "metadata": {
    "id": "PP0VEWLryQX6"
   },
   "source": [
    "The merge write disposition can be used with three different strategies:\n",
    "\n",
    "* delete-insert (default strategy)\n",
    "* scd2\n",
    "* upsert\n",
    "\n",
    "\n",
    "Let's explore these strategies closer."
   ]
  },
  {
   "cell_type": "markdown",
   "metadata": {
    "id": "Pv6JxRt_iBED"
   },
   "source": [
    "### **I. `delete-insert` strategy**"
   ]
  },
  {
   "cell_type": "markdown",
   "metadata": {
    "id": "VLCACYoEiYmu"
   },
   "source": [
    "**Overview**\n",
    "\n",
    "The `merge` write disposition has `delete-insert` as the default strategy. Since we haven't specified a strategy in the previous example, this is what was used by default under the hood.\n",
    "\n",
    "The `delete-insert` strategy loads data to a **`staging`** dataset, deduplicates the `staging` data if a `primary_key` is provided, **deletes** the data from the destination using `merge_key` and `primary_key`, and then **inserts** the new records.\n",
    "\n",
    "> The `merge_key` is used in the `delete-insert` strategy to determine which records to delete from the destination before inserting the new records.\n",
    "\n",
    "**Example: Streaming analytics (e.g., Kafka → Data Warehouse)**\n",
    "\n",
    "- Streaming logs are ingested with a `delete-insert` strategy to remove outdated entries and ensure only fresh data remains.\n",
    "\n",
    "- Used when a `merge_key` is provided, allowing old entries to be purged before new ones are inserted."
   ]
  },
  {
   "cell_type": "markdown",
   "metadata": {
    "id": "ZiMBk8bLBkuR"
   },
   "source": [
    "\n",
    "Imagine that we want to load only updated data:"
   ]
  },
  {
   "cell_type": "code",
   "execution_count": null,
   "metadata": {
    "id": "wz7e_0xJBvaL"
   },
   "outputs": [],
   "source": [
    "# Sample data containing pokemon details\n",
    "data = [\n",
    "    {\n",
    "        \"id\": \"25\",\n",
    "        \"name\": \"pikachu\",\n",
    "        \"size\": {\"weight\": 7.5, \"height\": 0.4},\n",
    "    },  # <--- Pikachu's weight has increased\n",
    "]"
   ]
  },
  {
   "cell_type": "markdown",
   "metadata": {
    "id": "8QTU4clsCKbU"
   },
   "source": [
    "Run the pipeline again:"
   ]
  },
  {
   "cell_type": "code",
   "execution_count": null,
   "metadata": {
    "id": "6lq4RQnyCJi0"
   },
   "outputs": [],
   "source": [
    "load_info = pipeline.run(pokemon)\n",
    "print(load_info)\n",
    "\n",
    "# explore loaded data\n",
    "pipeline.dataset().pokemon.df()"
   ]
  },
  {
   "cell_type": "markdown",
   "metadata": {
    "id": "lpEN-KxIE_qX"
   },
   "source": [
    "Data was updated, pikachu data has changed, now he has a different `_dlt_load_id`.\n",
    "\n",
    "Let's check what happened in the database in the previous run:"
   ]
  },
  {
   "cell_type": "code",
   "execution_count": null,
   "metadata": {
    "id": "oW-dlCgzFFQA"
   },
   "outputs": [],
   "source": [
    "with pipeline.sql_client() as client:\n",
    "    with client.execute_query(\"SHOW ALL TABLES\") as table:\n",
    "        tables = table.df()\n",
    "\n",
    "tables"
   ]
  },
  {
   "cell_type": "markdown",
   "metadata": {
    "id": "xwmGjwtHFVoO"
   },
   "source": [
    "We see agian the staging schema called `pokemon_data_staging`. Let's check the content:"
   ]
  },
  {
   "cell_type": "code",
   "execution_count": null,
   "metadata": {
    "id": "ujHALecFFW7o"
   },
   "outputs": [],
   "source": [
    "with pipeline.sql_client() as client:\n",
    "    with client.execute_query(\"SELECT * from pokemon_data_staging.pokemon\") as table:\n",
    "        tables = table.df()\n",
    "\n",
    "tables"
   ]
  },
  {
   "cell_type": "markdown",
   "metadata": {
    "id": "S06hBVpXgmqF"
   },
   "source": [
    "We see that only new row is in the staging table. Since we used primary key, `dlt` deleted the previous entry of Pikachu and then inserted the new one."
   ]
  },
  {
   "cell_type": "markdown",
   "metadata": {
    "id": "-Zjw1iSaj1uu"
   },
   "source": [
    "### **II. `upsert` strategy**"
   ]
  },
  {
   "cell_type": "markdown",
   "metadata": {
    "id": "uwMQUgswmHZ7"
   },
   "source": [
    "**Overview**\n",
    "\n",
    "The upsert merge strategy does `primary_key` based upserts:\n",
    "\n",
    "- update record if key exists in target table\n",
    "- insert record if key does not exist in target table"
   ]
  },
  {
   "cell_type": "markdown",
   "metadata": {
    "id": "VeEM_lnlmJnA"
   },
   "source": [
    "```\n",
    "@dlt.resource(\n",
    "    write_disposition={\"disposition\": \"merge\", \"strategy\": \"upsert\"},\n",
    "    primary_key=\"my_primary_key\"\n",
    ")\n",
    "def my_upsert_resource():\n",
    "    ...\n",
    "...\n",
    "```"
   ]
  },
  {
   "cell_type": "markdown",
   "metadata": {
    "id": "nSeqFJOlmNq4"
   },
   "source": [
    "**Difference between upsert and delete-insert**\n",
    "\n",
    "1. needs a `primary_key`\n",
    "2. expects this `primary_key` to be unique (`dlt` does not deduplicate)\n",
    "3. does not support `merge_key`\n",
    "4. uses MERGE or UPDATE operations to process updates\n",
    "\n",
    "\n",
    "**Example: Customer data management (e.g., HubSpot, Salesforce)**\n",
    "\n",
    "- Continuous synchronization of customer profiles across multiple systems.\n",
    "\n",
    "- Any update to an existing customer is reflected without deleting unrelated data."
   ]
  },
  {
   "cell_type": "markdown",
   "metadata": {
    "id": "WgbkskU1mSMV"
   },
   "source": [
    "***Not supported in DuckDB.** List of supported destinations can be found in [docs](https://dlthub.com/docs/general-usage/incremental-loading#upsert-strategy)."
   ]
  },
  {
   "cell_type": "markdown",
   "metadata": {
    "id": "Syq6QoGymUJJ"
   },
   "source": [
    "### **III. `SCD2` strategy**"
   ]
  },
  {
   "cell_type": "markdown",
   "metadata": {
    "id": "-VFFvZ21mZU-"
   },
   "source": [
    "**Overview**\n",
    "\n",
    "`dlt` can create Slowly Changing Dimensions Type 2 (SCD2) destination tables for dimension tables that change in the source.\n",
    "\n",
    "The resource is expected to provide a full extract of the source table each run.\n",
    "\n",
    "A row hash is stored in `_dlt_id` and used as surrogate key to identify source records that have been inserted, updated, or deleted.\n",
    "\n",
    "**Example: Financial transaction systems (e.g., Mastercard, Visa)**\n",
    "\n",
    "- Keeping history of account balances over time for auditing purposes.\n",
    "\n",
    "- Allows analysts to trace how data evolved, which is critical for compliance and troubleshooting.\n",
    "\n"
   ]
  },
  {
   "cell_type": "markdown",
   "metadata": {
    "id": "6yRjTb-Uq0yU"
   },
   "source": [
    "Before running the pipeline, let's re-use our small Pokemon dataset:"
   ]
  },
  {
   "cell_type": "code",
   "execution_count": null,
   "metadata": {
    "id": "bHVDpG2E-kuN"
   },
   "outputs": [],
   "source": [
    "%%capture\n",
    "!pip install dlt"
   ]
  },
  {
   "cell_type": "code",
   "execution_count": null,
   "metadata": {
    "id": "ibLK7VKRq20f"
   },
   "outputs": [],
   "source": [
    "data = [\n",
    "    {\"id\": \"1\", \"name\": \"bulbasaur\", \"size\": {\"weight\": 6.9, \"height\": 0.7}},\n",
    "    {\"id\": \"4\", \"name\": \"charmander\", \"size\": {\"weight\": 8.5, \"height\": 0.6}},\n",
    "    {\"id\": \"25\", \"name\": \"pikachu\", \"size\": {\"weight\": 7.5, \"height\": 0.4}},\n",
    "]"
   ]
  },
  {
   "cell_type": "markdown",
   "metadata": {
    "id": "xW9KQkudq4xL"
   },
   "source": [
    "Now, run the pipeline with merge disposition and SCD2 strategy:"
   ]
  },
  {
   "cell_type": "code",
   "execution_count": null,
   "metadata": {
    "id": "5ixzpj44q9pY"
   },
   "outputs": [],
   "source": [
    "import dlt\n",
    "\n",
    "\n",
    "@dlt.resource(\n",
    "    name=\"pokemon\",\n",
    "    write_disposition={\n",
    "        \"disposition\": \"merge\",  # <--- specifies that existing data should be merged\n",
    "        \"strategy\": \"scd2\",  # <--- enables SCD2 tracking, which keeps historical records of changes\n",
    "    },\n",
    "    primary_key=\"id\",\n",
    ")\n",
    "def pokemon() -> TDataItems:\n",
    "    yield data\n",
    "\n",
    "\n",
    "pipeline = dlt.pipeline(\n",
    "    pipeline_name=\"pokemon_pipeline\",\n",
    "    destination=\"duckdb\",\n",
    "    dataset_name=\"pokemon_scd2\",\n",
    ")\n",
    "\n",
    "\n",
    "load_info = pipeline.run(pokemon)\n",
    "print(load_info)"
   ]
  },
  {
   "cell_type": "markdown",
   "metadata": {
    "id": "rg4bFVFDoJSX"
   },
   "source": [
    "Check what happened:"
   ]
  },
  {
   "cell_type": "code",
   "execution_count": null,
   "metadata": {
    "id": "Dc0JrJx9oIvO"
   },
   "outputs": [],
   "source": [
    "# explore loaded data\n",
    "pipeline.dataset().pokemon.df()"
   ]
  },
  {
   "cell_type": "markdown",
   "metadata": {
    "id": "C514OpBjFN5W"
   },
   "source": [
    "New columns were created:\n",
    "\n",
    "- `_dlt_valid_from` – The timestamp when this record was first inserted into the table.\n",
    "  - All records have the same value, which is when the pipeline first processed them.\n",
    "\n",
    "- `_dlt_valid_to` – The timestamp when this record was considered outdated.\n",
    "  - NaT (Not a Time) means that these records are currently active and have not been superseded by newer versions."
   ]
  },
  {
   "cell_type": "markdown",
   "metadata": {
    "id": "0Zy9I-cZEr3e"
   },
   "source": [
    "Modify the dataset by changing Pikachu weight again. This simulates a change in source data that should be tracked by SCD2:"
   ]
  },
  {
   "cell_type": "code",
   "execution_count": null,
   "metadata": {
    "id": "tWG5KHS1uJfc"
   },
   "outputs": [],
   "source": [
    "data = [\n",
    "    {\"id\": \"1\", \"name\": \"bulbasaur\", \"size\": {\"weight\": 6.9, \"height\": 0.7}},\n",
    "    {\"id\": \"4\", \"name\": \"charmander\", \"size\": {\"weight\": 8.5, \"height\": 0.6}},\n",
    "    {\n",
    "        \"id\": \"25\",\n",
    "        \"name\": \"pikachu\",\n",
    "        \"size\": {\"weight\": 6, \"height\": 0.4},\n",
    "    },  # <--- weight has changed back\n",
    "]"
   ]
  },
  {
   "cell_type": "markdown",
   "metadata": {
    "id": "ow2g5aUqE8Wa"
   },
   "source": [
    "Run the pipeline again with the modified dataset:"
   ]
  },
  {
   "cell_type": "code",
   "execution_count": null,
   "metadata": {
    "id": "YzjbfgBEAWUX"
   },
   "outputs": [],
   "source": [
    "load_info = pipeline.run(pokemon)\n",
    "print(load_info)"
   ]
  },
  {
   "cell_type": "markdown",
   "metadata": {
    "id": "bqlY2Swlu4O3"
   },
   "source": [
    "Check the database:"
   ]
  },
  {
   "cell_type": "code",
   "execution_count": null,
   "metadata": {
    "id": "YSx_sINEuQEJ"
   },
   "outputs": [],
   "source": [
    "pipeline.dataset().pokemon.df()"
   ]
  },
  {
   "cell_type": "markdown",
   "metadata": {
    "id": "GOnAdea-u55b"
   },
   "source": [
    "SCD2 created a new row for Pikachu with updated `size_weight` to 6.0 while keeping the historical record.\n",
    "\n"
   ]
  },
  {
   "cell_type": "markdown",
   "metadata": {
    "id": "LqLuNfKv3Qk6"
   },
   "source": [
    "---\n",
    "## **Hard-deletes**"
   ]
  },
  {
   "cell_type": "markdown",
   "metadata": {
    "id": "WTqAN2c2q7q5"
   },
   "source": [
    "The `hard_delete` column hint can be used to delete records from the destination dataset. The behavior of the delete mechanism depends on the data type of the column marked with the hint:\n",
    "\n",
    "* `bool` type: only `True` leads to a delete, `None` and `False` values are disregarded.\n",
    "* Other types: each not `None` value leads to a delete.\n",
    "\n",
    "Each record in the destination table with the same `primary_key` or `merge_key` as a record in the source dataset that's marked as a delete will be deleted.\n",
    "\n",
    "Deletes are propagated to any nested table that might exist. For each record that gets deleted in the root table, all corresponding records in the nested table(s) will also be deleted.\n",
    "\n",
    "**Example: User account deletion (GDPR Compliance)**\n",
    "\n",
    "- An online social platform (e.g., Instagram, Facebook) allows users to permanently delete their accounts.\n",
    "\n",
    "- When a user requests account deletion, their data must be removed from the production dataset to comply with GDPR or CCPA requirements.\n",
    "\n",
    "- By marking records with a `deleted_flag = True`, the system ensures the user’s data is completely removed from the production tables during the next load operation."
   ]
  },
  {
   "cell_type": "code",
   "execution_count": null,
   "metadata": {
    "id": "sAacVDyxHhNj"
   },
   "outputs": [],
   "source": [
    "data = [\n",
    "    {\n",
    "        \"id\": \"1\",\n",
    "        \"name\": \"bulbasaur\",\n",
    "        \"size\": {\"weight\": 6.9, \"height\": 0.7},\n",
    "        \"deleted_flag\": True,\n",
    "    },  # <--- should be deleted\n",
    "    {\n",
    "        \"id\": \"4\",\n",
    "        \"name\": \"charmander\",\n",
    "        \"size\": {\"weight\": 8.5, \"height\": 0.6},\n",
    "        \"deleted_flag\": None,\n",
    "    },  # <--- should be kept\n",
    "    {\n",
    "        \"id\": \"25\",\n",
    "        \"name\": \"pikachu\",\n",
    "        \"size\": {\"weight\": 6, \"height\": 0.4},\n",
    "        \"deleted_flag\": False,\n",
    "    },  # <--- should be kept\n",
    "]"
   ]
  },
  {
   "cell_type": "code",
   "execution_count": null,
   "metadata": {
    "id": "cS8mUkQj3WW0"
   },
   "outputs": [],
   "source": [
    "import dlt\n",
    "\n",
    "\n",
    "@dlt.resource(\n",
    "    name=\"pokemon\",\n",
    "    write_disposition=\"merge\",\n",
    "    primary_key=\"id\",\n",
    "    columns={\"deleted_flag\": {\"hard_delete\": True}},  # <--- set columns argument\n",
    ")\n",
    "def pokemon() -> TDataItems:\n",
    "    yield data\n",
    "\n",
    "\n",
    "pipeline = dlt.pipeline(\n",
    "    pipeline_name=\"pokemon_pipeline\",\n",
    "    destination=\"duckdb\",\n",
    "    dataset_name=\"pokemon_hd\",\n",
    ")\n",
    "\n",
    "\n",
    "load_info = pipeline.run(pokemon)\n",
    "print(load_info)"
   ]
  },
  {
   "cell_type": "code",
   "execution_count": null,
   "metadata": {
    "id": "lX8gBCpCBor_"
   },
   "outputs": [],
   "source": [
    "pipeline.dataset().pokemon.df()"
   ]
  },
  {
   "cell_type": "markdown",
   "metadata": {
    "id": "MtDEhKCw0N_3"
   },
   "source": [
    "Bulbasaur wasn't loaded at all.\n",
    "\n",
    "Let's see if can remove data from loaded data:\n",
    "\n"
   ]
  },
  {
   "cell_type": "code",
   "execution_count": null,
   "metadata": {
    "id": "_ZeVcIuNJo5z"
   },
   "outputs": [],
   "source": [
    "data = [\n",
    "    {\n",
    "        \"id\": \"25\",\n",
    "        \"name\": \"pikachu\",\n",
    "        \"size\": {\"weight\": 6, \"height\": 0.4},\n",
    "        \"deleted_flag\": True,\n",
    "    },  # <--- set to True\n",
    "]"
   ]
  },
  {
   "cell_type": "code",
   "execution_count": null,
   "metadata": {
    "id": "pwKhdg5IJr0V"
   },
   "outputs": [],
   "source": [
    "load_info = pipeline.run(pokemon)\n",
    "print(load_info)"
   ]
  },
  {
   "cell_type": "code",
   "execution_count": null,
   "metadata": {
    "id": "-nitqpAIJ0LP"
   },
   "outputs": [],
   "source": [
    "pipeline.dataset().pokemon.df()"
   ]
  },
  {
   "cell_type": "markdown",
   "metadata": {
    "id": "tF8PNBzK0_5v"
   },
   "source": [
    "Pikachu record was deleted from loaded data."
   ]
  },
  {
   "cell_type": "markdown",
   "metadata": {
    "id": "Mi9cIZccK8oC"
   },
   "source": [
    "#### **Deduplication**\n",
    "\n",
    "By default, `primary_key` deduplication is arbitrary. You can pass the `dedup_sort` column hint with a value of `desc` or `asc` to influence which record remains after deduplication.\n",
    "\n",
    "- Using `desc`, the records sharing the same `primary_key` are sorted in **descending** order before deduplication, making sure the record with the highest value for the column with the `dedup_sort` hint remains.\n",
    "\n",
    "- `asc` has the opposite behavior.\n",
    "\n",
    "\n",
    "**Example: Email marketing platforms (e.g., Mailchimp, SendGrid)**\n",
    "\n",
    "- Users may accidentally submit the same email address multiple times during a signup process.\n",
    "\n",
    "- When ingesting these signups, using deduplication ensures that only unique email addresses are retained.\n",
    "\n",
    "- The `dedup_sort` hint allows prioritization of the latest record.\n",
    "\n",
    "The example data below contains three rows of information about Pikachu."
   ]
  },
  {
   "cell_type": "code",
   "execution_count": null,
   "metadata": {
    "id": "eUSmjbqAKWyC"
   },
   "outputs": [],
   "source": [
    "data = [\n",
    "    {\n",
    "        \"id\": \"25\",\n",
    "        \"name\": \"pikachu\",\n",
    "        \"size\": {\"weight\": 6, \"height\": 0.4},\n",
    "        \"deleted_flag\": None,\n",
    "    },  # <--- will be filtered out\n",
    "    {\n",
    "        \"id\": \"25\",\n",
    "        \"name\": \"pikachu\",\n",
    "        \"size\": {\"weight\": 7, \"height\": 0.4},\n",
    "        \"deleted_flag\": True,\n",
    "    },  # <--- will be removed\n",
    "    {\n",
    "        \"id\": \"25\",\n",
    "        \"name\": \"pikachu\",\n",
    "        \"size\": {\"weight\": 8, \"height\": 0.4},\n",
    "        \"deleted_flag\": None,\n",
    "    },  # <--- will be loaded\n",
    "]"
   ]
  },
  {
   "cell_type": "markdown",
   "metadata": {
    "id": "IzTG6yQwMVwL"
   },
   "source": [
    " This will insert one record (the one with size__weight = 8)."
   ]
  },
  {
   "cell_type": "code",
   "execution_count": null,
   "metadata": {
    "id": "Gek2zfvLKOk0"
   },
   "outputs": [],
   "source": [
    "import dlt\n",
    "\n",
    "\n",
    "@dlt.resource(\n",
    "    name=\"pokemon\",\n",
    "    write_disposition=\"merge\",\n",
    "    primary_key=\"id\",\n",
    "    columns={\n",
    "        \"deleted_flag\": {\"hard_delete\": True},\n",
    "        \"size__weight\": {\"dedup_sort\": \"desc\"},\n",
    "    },  # <-- desc means that the record with the highest value remains.\n",
    ")\n",
    "def pokemon() -> TDataItems:\n",
    "    yield data\n",
    "\n",
    "\n",
    "pipeline = dlt.pipeline(\n",
    "    pipeline_name=\"pokemon_pipeline\",\n",
    "    destination=\"duckdb\",\n",
    "    dataset_name=\"pokemon_hd\",\n",
    ")\n",
    "\n",
    "\n",
    "load_info = pipeline.run(pokemon)\n",
    "print(load_info)\n",
    "\n",
    "pipeline.dataset().pokemon.df()"
   ]
  },
  {
   "cell_type": "markdown",
   "metadata": {
    "id": "muEfBHUj3HK4"
   },
   "source": [
    "The row with the largest value of \"size__weight\" 8.0 remains."
   ]
  },
  {
   "cell_type": "markdown",
   "metadata": {
    "id": "3070Bs5YEnw4"
   },
   "source": [
    "---\n",
    "## **Missing incremental cursor path**\n",
    "\n",
    "You can customize the incremental processing of dlt by setting the parameter `on_cursor_value_missing`.\n",
    "\n",
    "When loading incrementally with the default settings, there are two assumptions:\n",
    "\n",
    "* Each row contains the cursor path.\n",
    "* Each row is expected to contain a value at the cursor path that is not `None`.\n",
    "\n",
    "**Example: IoT device data ingestion (e.g., Smart Homes)**\n",
    "\n",
    "- IoT devices (e.g., thermostats, cameras) send data continuously.\n",
    "\n",
    "- Due to network failures or device malfunctions, some records may lack timestamps or have None as their cursor value.\n",
    "\n",
    "- Using `on_cursor_value_missing=\"include\"` ensures that such data is not discarded by default, allowing for later inspection and processing."
   ]
  },
  {
   "cell_type": "markdown",
   "metadata": {
    "id": "HsltuyEuMzN5"
   },
   "source": [
    "To process a data set where some records **do not include the incremental cursor path** or where the values at the cursor path are **None**, there are the following four options:\n",
    "\n",
    "* Configure the incremental load to **raise** an exception in case there is a row where the cursor path is missing or has the value `None` using\n",
    "  - `incremental(..., on_cursor_value_missing=\"raise\")`.\n",
    "  \n",
    "  - This is the **default** behavior.\n",
    "* Configure the incremental load to **tolerate** the missing cursor path and `None` values using\n",
    "  - `incremental(..., on_cursor_value_missing=\"include\")`.\n",
    "* Configure the incremental load to **exclude** the missing cursor path and `None` values using\n",
    "  - `incremental(..., on_cursor_value_missing=\"exclude\")`.\n",
    "\n",
    "Here is an example of including rows where the **incremental cursor value** is **missing** or **None**:"
   ]
  },
  {
   "cell_type": "code",
   "execution_count": null,
   "metadata": {
    "id": "OXDBXy-sNr8y"
   },
   "outputs": [],
   "source": [
    "data = [\n",
    "    {\n",
    "        \"id\": \"1\",\n",
    "        \"name\": \"bulbasaur\",\n",
    "        \"size\": {\"weight\": 6.9, \"height\": 0.7},\n",
    "        \"created_at\": 1,\n",
    "        \"updated_at\": 1,\n",
    "    },\n",
    "    {\n",
    "        \"id\": \"4\",\n",
    "        \"name\": \"charmander\",\n",
    "        \"size\": {\"weight\": 8.5, \"height\": 0.6},\n",
    "        \"created_at\": 2,\n",
    "        \"updated_at\": 2,\n",
    "    },\n",
    "    {\n",
    "        \"id\": \"25\",\n",
    "        \"name\": \"pikachu\",\n",
    "        \"size\": {\"weight\": 6, \"height\": 0.4},\n",
    "        \"created_at\": 3,\n",
    "        \"updated_at\": None,\n",
    "    },  # <--- Incremental cursor is None\n",
    "]"
   ]
  },
  {
   "cell_type": "code",
   "execution_count": null,
   "metadata": {
    "id": "Bkdw4zC3ExBC"
   },
   "outputs": [],
   "source": [
    "import dlt\n",
    "\n",
    "\n",
    "@dlt.resource\n",
    "def pokemon(\n",
    "    updated_at: dlt.sources.incremental[int] = dlt.sources.incremental(\n",
    "        \"updated_at\", on_cursor_value_missing=\"include\"\n",
    "    )\n",
    ") -> TDataItems:  # <--- we want to include all data rows even if cursor is missing\n",
    "    yield data\n",
    "\n",
    "\n",
    "pipeline = dlt.pipeline(\n",
    "    pipeline_name=\"pokemon_pipeline\",\n",
    "    destination=\"duckdb\",\n",
    "    dataset_name=\"pokemon_inc\",\n",
    ")\n",
    "\n",
    "\n",
    "load_info = pipeline.run(pokemon)\n",
    "print(load_info)\n",
    "\n",
    "pipeline.dataset().pokemon.df()"
   ]
  },
  {
   "cell_type": "markdown",
   "metadata": {
    "id": "j5QDTKJLNnse"
   },
   "source": [
    "You can also define a [fall back column](https://dlthub.com/docs/devel/general-usage/incremental-loading#transform-records-before-incremental-processing) for an incremental cursor, as described below.\n",
    "\n",
    "## **Transform records before incremental processing**\n",
    "\n",
    "If you want to load data that includes `None` values, you can transform the records before the incremental processing.\n",
    "You can add steps to the pipeline that [filter, transform, or pivot your data](https://dlthub.com/docs/devel/general-usage/resource#filter-transform-and-pivot-data).\n",
    "\n",
    "In the following example\n",
    "- the step of data yielding is at `index = 0`,\n",
    "- the custom transformation at `index = 1`,\n",
    "- and the incremental processing at `index = 2`.\n",
    "\n",
    "\n",
    "> **Caution!**\n",
    ">\n",
    ">It is important to set the `insert_at` parameter of the `add_map` function to control the order of execution and ensure that your custom steps are executed before the incremental processing starts.\n",
    "\n",
    "\n",
    "See below how you can modify rows before the incremental processing using `add_map()` and filter rows using `add_filter()`."
   ]
  },
  {
   "cell_type": "code",
   "execution_count": null,
   "metadata": {
    "id": "8MMLk5Gt2lD-"
   },
   "outputs": [],
   "source": [
    "data = [\n",
    "    {\n",
    "        \"id\": \"1\",\n",
    "        \"name\": \"bulbasaur\",\n",
    "        \"size\": {\"weight\": 6.9, \"height\": 0.7},\n",
    "        \"created_at\": 1,\n",
    "        \"updated_at\": 1,\n",
    "    },\n",
    "    {\n",
    "        \"id\": \"4\",\n",
    "        \"name\": \"charmander\",\n",
    "        \"size\": {\"weight\": 8.5, \"height\": 0.6},\n",
    "        \"created_at\": 2,\n",
    "        \"updated_at\": 2,\n",
    "    },\n",
    "    {\n",
    "        \"id\": \"25\",\n",
    "        \"name\": \"pikachu\",\n",
    "        \"size\": {\"weight\": 6, \"height\": 0.4},\n",
    "        \"created_at\": 3,\n",
    "        \"updated_at\": None,\n",
    "    },  # <--- Incremental cursor is None\n",
    "]"
   ]
  },
  {
   "cell_type": "code",
   "execution_count": null,
   "metadata": {
    "id": "UjJZx-J8c5IT"
   },
   "outputs": [],
   "source": [
    "@dlt.resource\n",
    "def some_data(\n",
    "    updated_at: dlt.sources.incremental[int] = dlt.sources.incremental(\"updated_at\"),\n",
    ") -> TDataItems:\n",
    "    yield data\n",
    "\n",
    "\n",
    "def set_default_updated_at(record: TDataItem) -> TDataItems:\n",
    "    if record.get(\"updated_at\") is None:\n",
    "        record[\"updated_at\"] = record.get(\n",
    "            \"created_at\"\n",
    "        )  # <--- use 'created_at' instead of missing 'updated_at'\n",
    "    return record"
   ]
  },
  {
   "cell_type": "code",
   "execution_count": null,
   "metadata": {
    "id": "T9Mpm4fB2XNi"
   },
   "outputs": [],
   "source": [
    "# Modifies records before the incremental processing\n",
    "with_default_values = some_data().add_map(set_default_updated_at, insert_at=1)"
   ]
  },
  {
   "cell_type": "code",
   "execution_count": null,
   "metadata": {
    "id": "B28J_6-X6iYS"
   },
   "outputs": [],
   "source": [
    "pipeline = dlt.pipeline(\n",
    "    pipeline_name=\"pokemon_pipeline_wd\",\n",
    "    destination=\"duckdb\",\n",
    "    dataset_name=\"pokemon_inc_wd\",\n",
    ")\n",
    "\n",
    "load_info = pipeline.run(with_default_values, table_name=\"pokemon\")\n",
    "print(load_info)\n",
    "\n",
    "pipeline.dataset().pokemon.df()"
   ]
  },
  {
   "cell_type": "code",
   "execution_count": null,
   "metadata": {
    "id": "mkIsCwnv2hbl"
   },
   "outputs": [],
   "source": [
    "# Removes records before the incremental processing\n",
    "without_none = some_data().add_filter(\n",
    "    lambda r: r.get(\"updated_at\") is not None, insert_at=1\n",
    ")"
   ]
  },
  {
   "cell_type": "code",
   "execution_count": null,
   "metadata": {
    "id": "kUtBJYNr9TYw"
   },
   "outputs": [],
   "source": [
    "pipeline = dlt.pipeline(\n",
    "    pipeline_name=\"pokemon_pipeline_wn\",\n",
    "    destination=\"duckdb\",\n",
    "    dataset_name=\"pokemon_inc_wn\",\n",
    ")\n",
    "\n",
    "load_info = pipeline.run(without_none, table_name=\"pokemon\")\n",
    "print(load_info)\n",
    "\n",
    "pipeline.dataset().pokemon.df()"
   ]
  },
  {
   "cell_type": "markdown",
   "metadata": {
    "id": "scDa-K2E-fPk"
   },
   "source": [
    "## **Backfilling**\n",
    "\n",
    "### Using `end_value` for backfill\n",
    "\n",
    "You can specify both initial and end dates when defining incremental loading. Let's go back to our Pokemon example:\n",
    "\n",
    "\n",
    "\n"
   ]
  },
  {
   "cell_type": "code",
   "execution_count": null,
   "metadata": {
    "id": "g0vnv1DiJIoG"
   },
   "outputs": [],
   "source": [
    "%%capture\n",
    "!pip install dlt"
   ]
  },
  {
   "cell_type": "code",
   "execution_count": null,
   "metadata": {
    "id": "9uTMG-OrII2F"
   },
   "outputs": [],
   "source": [
    "data = [\n",
    "    {\n",
    "        \"id\": \"1\",\n",
    "        \"name\": \"bulbasaur\",\n",
    "        \"size\": {\"weight\": 6.9, \"height\": 0.7},\n",
    "        \"created_at\": 1,\n",
    "        \"updated_at\": 1,\n",
    "    },\n",
    "    {\n",
    "        \"id\": \"4\",\n",
    "        \"name\": \"charmander\",\n",
    "        \"size\": {\"weight\": 8.5, \"height\": 0.6},\n",
    "        \"created_at\": 2,\n",
    "        \"updated_at\": 2,\n",
    "    },\n",
    "    {\n",
    "        \"id\": \"25\",\n",
    "        \"name\": \"pikachu\",\n",
    "        \"size\": {\"weight\": 6, \"height\": 0.4},\n",
    "        \"created_at\": 3,\n",
    "        \"updated_at\": 3,\n",
    "    },\n",
    "]"
   ]
  },
  {
   "cell_type": "code",
   "execution_count": null,
   "metadata": {
    "id": "1xR_MO8nII2F"
   },
   "outputs": [],
   "source": [
    "import dlt\n",
    "\n",
    "\n",
    "@dlt.resource\n",
    "def some_data(\n",
    "    updated_at: dlt.sources.incremental[int] = dlt.sources.incremental(\n",
    "        \"created_at\", initial_value=0, end_value=2\n",
    "    )\n",
    ") -> TDataItems:\n",
    "    yield data"
   ]
  },
  {
   "cell_type": "code",
   "execution_count": null,
   "metadata": {
    "id": "7iE_4quBII2F"
   },
   "outputs": [],
   "source": [
    "pipeline = dlt.pipeline(\n",
    "    pipeline_name=\"pokemon_pipeline_wd\",\n",
    "    destination=\"duckdb\",\n",
    "    dataset_name=\"pokemon_inc_wd\",\n",
    ")\n",
    "\n",
    "load_info = pipeline.run(some_data, table_name=\"pokemon\")\n",
    "print(load_info)\n",
    "\n",
    "pipeline.dataset().pokemon.df()"
   ]
  },
  {
   "cell_type": "markdown",
   "metadata": {
    "id": "jV3jSYiJHrs-"
   },
   "source": [
    "Above, we use the `initial_value` and `end_value` arguments of the `incremental` to define the range of issues that we want to retrieve\n",
    "and pass this range to the Github API (`since` and `until`). As in the examples above, `dlt` will make sure that only the issues from\n",
    "the defined range are returned.\n",
    "\n",
    "Please note that when `end_date` is specified, `dlt` **will not modify the existing incremental state**. The backfill is **stateless** and:\n",
    "1. You can run backfill and incremental load in parallel (i.e., in an Airflow DAG) in a single pipeline.\n",
    "2. You can partition your backfill into several smaller chunks and run them in parallel as well.\n"
   ]
  },
  {
   "cell_type": "markdown",
   "metadata": {
    "id": "2omYYn-NHxe6"
   },
   "source": [
    "Note that dlt's incremental filtering considers the ranges half-closed. `initial_value` is inclusive, `end_value` is exclusive, so chaining ranges like above works without overlaps. This behaviour can be changed with the `range_start` (default `\"closed\"`) and `range_end` (default `\"open\"`) arguments."
   ]
  },
  {
   "cell_type": "markdown",
   "metadata": {
    "id": "cCtRQ2zaQ7Gx"
   },
   "source": [
    "## **Load a large dataset using incremental loading and add_limits**"
   ]
  },
  {
   "cell_type": "markdown",
   "metadata": {
    "id": "t3Fj1KRcsN-J"
   },
   "source": [
    "Specifically for the `sql_database` source you can utilize another possible approach - load data in fixed chunks using `chunk_size` parameter."
   ]
  },
  {
   "cell_type": "code",
   "execution_count": null,
   "metadata": {
    "id": "zi2mqS09eins"
   },
   "outputs": [],
   "source": [
    "%%capture\n",
    "!pip install dlt pymysql"
   ]
  },
  {
   "cell_type": "code",
   "execution_count": null,
   "metadata": {
    "id": "-vjhK67EsS0i"
   },
   "outputs": [],
   "source": [
    "import dlt\n",
    "\n",
    "from datetime import datetime\n",
    "from dlt.sources.sql_database import sql_database\n",
    "\n",
    "\n",
    "source = sql_database(\n",
    "    \"mysql+pymysql://rfamro@mysql-rfam-public.ebi.ac.uk:4497/Rfam\", chunk_size=1000\n",
    ").with_resources(\"genome\")\n",
    "\n",
    "source.genome.apply_hints(\n",
    "    incremental=dlt.sources.incremental(\"updated\", row_order=\"asc\")\n",
    ")\n",
    "\n",
    "pipeline = dlt.pipeline(\n",
    "    pipeline_name=\"sql_database_pipeline\", destination=\"duckdb\", dataset_name=\"sql_data\"\n",
    ")\n",
    "\n",
    "my_table_name = \"genome\"\n",
    "continue_load_flag = True\n",
    "\n",
    "while continue_load_flag:\n",
    "    load_info = pipeline.run(source.genome.add_limit(10))\n",
    "    continue_load_flag = (\n",
    "        my_table_name in pipeline.last_trace.last_normalize_info.row_counts.keys()\n",
    "    )\n",
    "    print(pipeline.last_trace)"
   ]
  },
  {
   "cell_type": "markdown",
   "metadata": {},
   "source": [
    "![Lesson_6_Write_disposition_strategies_%26_Advanced_tricks_img1](https://storage.googleapis.com/dlt-blog-images/dlt-advanced-course/Lesson_6_Write_disposition_strategies_%26_Advanced_tricks_img1.png)"
   ]
  },
  {
   "cell_type": "markdown",
   "metadata": {
    "id": "AH3F46PaJZe4"
   },
   "source": [
    "✅ ▶ Proceed to the [next lesson](https://colab.research.google.com/drive/1mC09rjkheo92-ycjjq0AlIzgwJC8-ZMX#forceEdit=true&sandboxMode=true)!"
   ]
  },
  {
   "cell_type": "code",
   "execution_count": null,
   "metadata": {
    "id": "K4smMmlfMysW"
   },
   "outputs": [],
   "source": []
  }
 ],
 "metadata": {
  "colab": {
   "provenance": [],
   "toc_visible": true
  },
  "kernelspec": {
   "display_name": "Python 3",
   "name": "python3"
  },
  "language_info": {
   "name": "python"
  }
 },
 "nbformat": 4,
 "nbformat_minor": 0
}
