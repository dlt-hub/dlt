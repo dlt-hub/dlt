{
 "cells": [
  {
   "cell_type": "markdown",
   "metadata": {
    "id": "TKD-8-XUjqU4"
   },
   "source": [
    "# **Building custom sources with [dlt REST API source](https://dlthub.com/docs/devel/dlt-ecosystem/verified-sources/rest_api/basic) and [RESTClient](https://dlthub.com/docs/devel/general-usage/http/rest-client)** [![Open In Colab](https://colab.research.google.com/assets/colab-badge.svg)](https://colab.research.google.com/github/dlt-hub/dlt/blob/master/docs/education/dlt-advanced-course/lesson_1_custom_sources_restapi_source_and_restclient.ipynb) [![GitHub badge](https://img.shields.io/badge/github-view_source-2b3137?logo=github)](https://github.com/dlt-hub/dlt/blob/master/docs/education/dlt-advanced-course/lesson_1_custom_sources_restapi_source_and_restclient.ipynb)"
   ]
  },
  {
   "cell_type": "markdown",
   "metadata": {
    "id": "45PK4eXnVs16"
   },
   "source": [
    "# New section"
   ]
  },
  {
   "cell_type": "markdown",
   "metadata": {
    "id": "rdZWEzlGHX5b"
   },
   "source": [
    "# **Recap**\n",
    "\n",
    "In the **[dlt Fundamentals](https://github.com/dlt-hub/dlthub-education/tree/main/courses/dlt_fundamentals_dec_2024)** course, we learned two primary ways to build sources for REST APIs:\n",
    "\n",
    "1. **Using low-level dlt decorators** (`@dlt.source` and `@dlt.resource`) with [`RESTClient`](https://dlthub.com/docs/devel/general-usage/http/rest-client).\n",
    "2. **Using the built-in [`rest_api` source](https://dlthub.com/docs/devel/dlt-ecosystem/verified-sources/rest_api/basic)** with declarative configuration.\n",
    "\n",
    "---\n"
   ]
  },
  {
   "cell_type": "markdown",
   "metadata": {
    "id": "_0eLEawNHZcL"
   },
   "source": [
    "\n",
    "### **1. Building sources with low-level dlt decorators**\n",
    "\n",
    "We constructed a custom source for the **GitHub API** using the `RESTClient` class, decorators like `@dlt.resource` and `@dlt.source`, and manual pagination handling.\n",
    "\n",
    "\n",
    "#### **Example**"
   ]
  },
  {
   "cell_type": "code",
   "execution_count": null,
   "metadata": {
    "id": "pxl3VQtnHnRO"
   },
   "outputs": [],
   "source": [
    "%%capture\n",
    "!pip install dlt[duckdb]"
   ]
  },
  {
   "cell_type": "code",
   "execution_count": null,
   "metadata": {
    "id": "UnzHItdmHhnF"
   },
   "outputs": [],
   "source": [
    "from typing import Iterator, Any, Iterable\n",
    "import os\n",
    "import dlt\n",
    "from dlt.common.typing import TDataItems, TDataItem\n",
    "from dlt.sources import DltResource\n",
    "from dlt.sources.helpers import requests\n",
    "from dlt.sources.helpers.rest_client import RESTClient\n",
    "from dlt.sources.helpers.rest_client.auth import BearerTokenAuth\n",
    "from dlt.sources.helpers.rest_client.paginators import HeaderLinkPaginator\n",
    "from google.colab import userdata\n",
    "\n",
    "\n",
    "os.environ[\"ACCESS_TOKEN\"] = userdata.get(\"ACCESS_TOKEN\")\n",
    "\n",
    "\n",
    "@dlt.source\n",
    "def github_source(access_token: str = dlt.secrets.value) -> Iterable[DltResource]:\n",
    "    client = RESTClient(\n",
    "        base_url=\"https://api.github.com\",\n",
    "        auth=BearerTokenAuth(token=access_token),\n",
    "        paginator=HeaderLinkPaginator(),\n",
    "    )\n",
    "\n",
    "    @dlt.resource\n",
    "    def github_events() -> Iterator[TDataItems]:\n",
    "        for page in client.paginate(\"orgs/dlt-hub/events\"):\n",
    "            yield page\n",
    "\n",
    "    @dlt.resource\n",
    "    def github_stargazers() -> Iterator[TDataItems]:\n",
    "        for page in client.paginate(\"repos/dlt-hub/dlt/stargazers\"):\n",
    "            yield page\n",
    "\n",
    "    return github_events, github_stargazers\n",
    "\n",
    "\n",
    "pipeline = dlt.pipeline(\n",
    "    pipeline_name=\"rest_client_github\",\n",
    "    destination=\"duckdb\",\n",
    "    dataset_name=\"rest_client_data\",\n",
    "    dev_mode=True,\n",
    ")\n",
    "\n",
    "load_info = pipeline.run(github_source())\n",
    "print(load_info)"
   ]
  },
  {
   "cell_type": "markdown",
   "metadata": {
    "id": "EeZoTWeSLndh"
   },
   "source": [
    "\n",
    "---\n",
    "\n",
    "### **2. Building sources with `rest_api` source**\n",
    "\n",
    "The **`rest_api` source** provides a higher-level, declarative approach to building sources for REST APIs. It's particularly suited for REST APIs with predictable structures and behaviors.\n",
    "\n",
    "\n",
    "#### **Example**"
   ]
  },
  {
   "cell_type": "code",
   "execution_count": null,
   "metadata": {
    "id": "IIb5BiRyLqww"
   },
   "outputs": [],
   "source": [
    "import dlt\n",
    "from dlt.sources.rest_api import RESTAPIConfig, rest_api_source\n",
    "\n",
    "config: RESTAPIConfig = {\n",
    "    \"client\": {\n",
    "        \"base_url\": \"https://api.github.com\",\n",
    "        \"auth\": {\n",
    "            \"token\": dlt.secrets[\"access_token\"],  # Access token configured above\n",
    "        },\n",
    "        \"paginator\": \"header_link\",\n",
    "    },\n",
    "    \"resources\": [\n",
    "        {\n",
    "            \"name\": \"issues\",\n",
    "            \"endpoint\": {\n",
    "                \"path\": \"repos/dlt-hub/dlt/issues\",\n",
    "                \"params\": {\"state\": \"open\"},\n",
    "            },\n",
    "        },\n",
    "        {\n",
    "            \"name\": \"issue_comments\",\n",
    "            \"endpoint\": {\n",
    "                \"path\": \"repos/dlt-hub/dlt/issues/{issue_number}/comments\",\n",
    "                \"params\": {\n",
    "                    \"issue_number\": {\n",
    "                        \"type\": \"resolve\",\n",
    "                        \"resource\": \"issues\",\n",
    "                        \"field\": \"number\",\n",
    "                    },\n",
    "                },\n",
    "            },\n",
    "        },\n",
    "        {\n",
    "            \"name\": \"contributors\",\n",
    "            \"endpoint\": {\"path\": \"repos/dlt-hub/dlt/contributors\"},\n",
    "        },\n",
    "    ],\n",
    "}\n",
    "\n",
    "git_source = rest_api_source(config)\n",
    "\n",
    "pipeline = dlt.pipeline(\n",
    "    pipeline_name=\"rest_api_github\",\n",
    "    destination=\"duckdb\",\n",
    "    dataset_name=\"rest_api_data\",\n",
    "    dev_mode=True,\n",
    ")\n",
    "\n",
    "load_info = pipeline.run(git_source)\n",
    "print(load_info)"
   ]
  },
  {
   "cell_type": "markdown",
   "metadata": {
    "id": "HPbMniZ23Ulu"
   },
   "source": [
    "# **REST API Client by `dlt`**\n",
    "\n",
    "`dlt`’s REST API Client is the low level abstraction that powers the REST API Source. You can use it in your imperative code for more automation and brevity, if you do not wish to use the higher level declarative interface."
   ]
  },
  {
   "cell_type": "markdown",
   "metadata": {
    "id": "xVJ-VU_53Ul4"
   },
   "source": [
    "If you don't like black boxes and prefer lower-level building blocks, then our `RESTClient` is perfect for you!\n",
    "\n",
    "The `RESTClient` class offers an Pythonic interface for interacting with RESTful APIs, including features like:\n",
    "\n",
    "- automatic pagination,\n",
    "- various authentication mechanisms,\n",
    "- customizable request/response handling.\n",
    "\n",
    "### What you’ll learn\n",
    "\n",
    "- How to authenticate with your API key\n",
    "- How to fetch paginated results using `RESTClient`\n",
    "- How to build a custom `@dlt.source`\n",
    "- How to run the pipeline and inspect the data\n",
    "\n",
    "For more information, read `dlt` [REST API Client](https://dlthub.com/devel/general-usage/http/rest-client) official documentation."
   ]
  },
  {
   "cell_type": "markdown",
   "metadata": {
    "id": "Je4-sJYNw22j"
   },
   "source": [
    "## **1. Creating a RESTClient instance**"
   ]
  },
  {
   "cell_type": "code",
   "execution_count": null,
   "metadata": {
    "collapsed": true,
    "id": "wepadjopwiqT"
   },
   "outputs": [],
   "source": [
    "from dlt.sources.helpers.rest_client import RESTClient\n",
    "from dlt.sources.helpers.rest_client.auth import BearerTokenAuth\n",
    "from dlt.sources.helpers.rest_client.paginators import JSONLinkPaginator\n",
    "from google.colab import userdata\n",
    "\n",
    "\n",
    "os.environ[\"ACCESS_TOKEN\"] = userdata.get(\"ACCESS_TOKEN\")\n",
    "\n",
    "\n",
    "client = RESTClient(\n",
    "    base_url=\"https://api.github.com\",\n",
    "    headers={\"User-Agent\": \"MyApp/1.0\"},\n",
    "    auth=BearerTokenAuth(dlt.secrets[\"access_token\"]),\n",
    "    paginator=HeaderLinkPaginator(),\n",
    "    data_selector=\"data\",\n",
    "    # session=MyCustomSession()\n",
    ")\n",
    "\n",
    "client.get(\"repos/dlt-hub/dlt/issues\").json()"
   ]
  },
  {
   "cell_type": "markdown",
   "metadata": {
    "id": "jyIw6cY23Ul5"
   },
   "source": [
    "The `RESTClient` class is initialized with the following parameters:\n",
    "\n",
    "- `base_url`: The root URL of the API. All requests will be made relative to this URL.\n",
    "- `headers`: Default headers to include in every request. This can be used to set common headers like `User-Agent` or other custom headers.\n",
    "- `auth`: The authentication configuration. See the [Authentication](https://dlthub.com/docs/general-usage/http/rest-client#authentication) section for more details.\n",
    "- `paginator`: A paginator instance for handling paginated responses. See the [Paginators](https://dlthub.com/docs/general-usage/http/rest-client#paginators) section below.\n",
    "- `data_selector`: A [JSONPath selector](https://github.com/h2non/jsonpath-ng?tab=readme-ov-file#jsonpath-syntax) for extracting data from the responses. This defines a way to extract the data from the response JSON. Only used when paginating.\n",
    "- `session`: An optional session for making requests. This should be a [Requests session](https://requests.readthedocs.io/en/latest/api/#requests.Session) instance that can be used to set up custom request behavior for the client.\n"
   ]
  },
  {
   "cell_type": "markdown",
   "metadata": {
    "id": "aQH2cueN2wHP"
   },
   "source": [
    "## **2. Add authentication**\n",
    "\n",
    "The RESTClient supports various authentication strategies, such as bearer tokens, API keys, and HTTP basic auth, configured through the `auth` parameter of both the `RESTClient` and the `paginate()` method.\n",
    "\n",
    "The **available authentication methods** are defined in the `dlt.sources.helpers.rest_client.auth` module:\n",
    "\n",
    "- [BearerTokenAuth](https://dlthub.com/docs/devel/general-usage/http/rest-client#bearer-token-authentication)\n",
    "- [APIKeyAuth](https://dlthub.com/docs/devel/general-usage/http/rest-client#api-key-authentication)\n",
    "- [HttpBasicAuth](https://dlthub.com/docs/devel/general-usage/http/rest-client#http-basic-authentication)\n",
    "- [OAuth2ClientCredentials](https://dlthub.com/docs/devel/general-usage/http/rest-client#oauth-20-authorization)\n",
    "\n",
    "For specific use cases, you can [implement custom authentication](https://dlthub.com/docs/devel/general-usage/http/rest-client#implementing-custom-authentication) by subclassing the `AuthConfigBase` class from the [`dlt.sources.helpers.rest_client.auth`](https://github.com/dlt-hub/dlt/blob/devel/dlt/sources/helpers/rest_client/auth.py) module.\n",
    "For specific flavors of OAuth 2.0, you can [implement custom OAuth 2.0](https://dlthub.com/docs/devel/general-usage/http/rest-client#oauth-20-authorization) by subclassing `OAuth2ClientCredentials`.\n",
    "\n",
    "\n"
   ]
  },
  {
   "cell_type": "markdown",
   "metadata": {},
   "source": [
    "![Lesson_1_Custom_sources_RestAPI_source_and_RESTClient_img1](https://storage.googleapis.com/dlt-blog-images/dlt-advanced-course/Lesson_1_Custom_sources_RestAPI_source_and_RESTClient_img1.png)"
   ]
  },
  {
   "cell_type": "markdown",
   "metadata": {
    "id": "Mr3cObaU6uxC"
   },
   "source": [
    "\n",
    "### 📰 **NewsAPI overview**\n",
    "\n",
    "- **Base URL:** `https://newsapi.org/v2/`\n",
    "- **Authentication:** API key passed in query string as `apiKey`\n",
    "- **Documentation:** [NewsAPI Docs](https://newsapi.org/docs)\n",
    "\n",
    "| Endpoint          | Description                              | Auth Required | Response     |\n",
    "|-------------------|------------------------------------------|---------------|--------------|\n",
    "| `/everything`     | Search for news articles by query string | ✅ Yes        | JSON object with `articles[]` |\n",
    "| `/top-headlines`  | Latest headlines filtered by region/topic| ✅ Yes        | JSON object with `articles[]` |\n",
    "| `/sources`        | List of available news sources           | ✅ Yes        | JSON object with `sources[]`  |\n",
    "\n",
    "\n",
    "#### **Authentication Details:**\n",
    "\n",
    "To use NewsAPI, you must register for a **free account** and obtain an API key. This key is required for all endpoints and must be included as a query parameter in your request:\n",
    "\n",
    "```http\n",
    "GET /v2/everything?q=python&page=1&apiKey=YOUR_API_KEY\n",
    "```\n",
    "\n",
    "\n"
   ]
  },
  {
   "cell_type": "markdown",
   "metadata": {
    "id": "5DIaaG2qNJpM"
   },
   "source": [
    "\n",
    "**Prerequisites:**\n",
    "\n",
    "To securely access the NewsAPI in your dlt project:\n",
    "\n",
    "1. **Sign up** at [https://newsapi.org/register](https://newsapi.org/register)\n",
    "2. Copy your **API key** from your dashboard\n",
    "3. Save your **API key** in Colab Secrets (side-bar on the right) as NEWS_API_KEY\n",
    "\n",
    "\n",
    "### **How we chose the right authenticator for NewsAPI**\n",
    "\n",
    "NewsAPI uses a **simple API key-based scheme**. You sign up, get a key, and send it with every request.\n",
    "\n",
    "There are two supported ways to send this key:\n",
    "\n",
    "- In a **query string**, like `?apiKey=...`\n",
    "- Or in the **Authorization header**, as a Bearer token\n",
    "\n",
    "We are using the **query string method**, because:\n",
    "\n",
    "- It's supported on **all plans**, including the free tier\n",
    "- It's more transparent — you can inspect the request URL and see the key\n",
    "- It's easier to test manually in a browser or terminal\n",
    "\n",
    "\n",
    "**Using `APIKeyAuth` simplifies request setup**\n",
    "\n",
    "Instead of manually appending the key to every URL, we use dlt’s built-in `APIKeyAuth`:\n",
    "\n",
    "```python\n",
    "APIKeyAuth(name=\"apiKey\", api_key=api_key, location=\"query\")\n",
    "```\n",
    "\n",
    "This means:\n",
    "\n",
    "- `name=\"apiKey\"` tells it what the key is called (NewsAPI expects `apiKey`)\n",
    "- `location=\"query\"` means the key will be added to the URL as a query parameter:\n",
    "  \n",
    "  ```\n",
    "  https://newsapi.org/v2/everything?q=python&apiKey=your_key\n",
    "  ```\n",
    "\n",
    "\n"
   ]
  },
  {
   "cell_type": "code",
   "execution_count": null,
   "metadata": {
    "id": "CI3txWPO5s3q"
   },
   "outputs": [],
   "source": [
    "%%capture\n",
    "!pip install dlt[duckdb]"
   ]
  },
  {
   "cell_type": "code",
   "execution_count": null,
   "metadata": {
    "id": "NZTlkE_WG3PW"
   },
   "outputs": [],
   "source": [
    "import os\n",
    "from dlt.sources.helpers.rest_client import RESTClient\n",
    "from dlt.sources.helpers.rest_client.auth import APIKeyAuth\n",
    "from google.colab import userdata\n",
    "\n",
    "api_key = userdata.get(\"NEWS_API_KEY\")\n",
    "\n",
    "client = RESTClient(\n",
    "    base_url=\"https://newsapi.org/v2/\",\n",
    "    auth=APIKeyAuth(name=\"apiKey\", api_key=api_key, location=\"query\"),\n",
    ")\n",
    "\n",
    "response = client.get(\"everything\", params={\"q\": \"python\", \"page\": 1})\n",
    "print(response.json())"
   ]
  },
  {
   "cell_type": "markdown",
   "metadata": {
    "id": "pua_cIbVQ5kh"
   },
   "source": [
    "This authenticates every request by adding `?apiKey=your_key` to the URL."
   ]
  },
  {
   "cell_type": "markdown",
   "metadata": {
    "id": "y0wx5juj3Ul5"
   },
   "source": [
    "## **3. Add pagination**\n",
    "\n",
    "The `RESTClient` supports automatic pagination of API responses via the `paginate()` method, which can be customized using a built-in or custom paginator.\n",
    "\n",
    "You specify the paginator using the `paginator` parameter of the `RESTClient` or directly in the `paginate()` method.\n",
    "\n",
    "The **available pagination strategies** are defined in the `dlt.sources.helpers.rest_client.paginators` module and cover the most common pagination patterns used in REST APIs:\n",
    "\n",
    "- [`PageNumberPaginator`](https://dlthub.com/docs/general-usage/http/rest-client#pagenumberpaginator) – uses `page=N`, optionally with `pageSize` or `limit`\n",
    "- [`OffsetPaginator`](https://dlthub.com/docs/general-usage/http/rest-client#offsetpaginator) – uses `offset` and `limit`\n",
    "- [`JSONLinkPaginator`](https://dlthub.com/docs/general-usage/http/rest-client#jsonresponsepaginator) – follows a `next` URL in the response body\n",
    "- [`HeaderLinkPaginator`](https://dlthub.com/docs/general-usage/http/rest-client#headerlinkpaginator) – follows a `Link` header (used by GitHub and others)\n",
    "- [`JSONResponseCursorPaginator`](https://dlthub.com/docs/general-usage/http/rest-client#jsonresponsecursorpaginator) – uses a cursor from the response body\n",
    "\n",
    "Each paginator knows how to update the request to get the next page of results, and will continue until:\n",
    "\n",
    "- no more pages are available,\n",
    "- a configurable `maximum_page` or `maximum_offset` is reached,\n",
    "- or the API response is empty (depending on paginator behavior).\n",
    "\n",
    "\n",
    "> If a `paginator` is not specified, the `paginate()` method will attempt to **automatically detect** the pagination mechanism used by the API. If the API uses a standard pagination mechanism like having a `next` link in the response's headers or JSON body, the `paginate()` method will handle this automatically. Otherwise, you can specify a paginator object explicitly or implement a custom paginator.\n",
    "\n"
   ]
  },
  {
   "cell_type": "markdown",
   "metadata": {
    "id": "Q8_9PsbSyrpp"
   },
   "source": [
    "### **PageData**\n",
    "\n",
    "When using `client.paginate(...)` in dlt, you don’t just get a stream of data — each **page** returned is a rich object called `PageData`, and it gives you full access to the internals of the request, response, and pagination state.\n",
    "\n",
    "This is especially useful for **debugging**, **tracing**, or building custom logic.\n",
    "\n",
    "\n",
    "The `PageData` is a list-like object that contains the following attributes:\n",
    "\n",
    "- `request`: The original request object.\n",
    "- `response`: The response object.\n",
    "- `paginator`: The paginator object used to paginate the response.\n",
    "- `auth`: The authentication object used for the request.\n",
    "\n",
    "Let’s walk through an example."
   ]
  },
  {
   "cell_type": "code",
   "execution_count": null,
   "metadata": {
    "id": "_1s_uYn1TQB7"
   },
   "outputs": [],
   "source": [
    "page_iterator = client.paginate(\"everything\", params={\"q\": \"python\", \"page\": 1})\n",
    "# prints the original request object\n",
    "print(next(page_iterator).request)\n",
    "page_iterator = client.paginate(\"everything\", params={\"q\": \"python\", \"page\": 1})\n",
    "# prints the raw HTTP response\n",
    "print(next(page_iterator).response)\n",
    "page_iterator = client.paginate(\"everything\", params={\"q\": \"python\", \"page\": 1})\n",
    "# prints the paginator that was used\n",
    "print(next(page_iterator).paginator)\n",
    "page_iterator = client.paginate(\"everything\", params={\"q\": \"python\", \"page\": 1})\n",
    "# prints the authentication class used\n",
    "print(next(page_iterator).auth)"
   ]
  },
  {
   "cell_type": "markdown",
   "metadata": {
    "id": "aQMrcYXTRAdP"
   },
   "source": [
    "**Log Warning explained**\n",
    "\n",
    "```\n",
    "[WARNING] Fallback paginator used: SinglePagePaginator...\n",
    "```\n",
    "\n",
    "This warning means:\n",
    "\n",
    "- dlt tried to guess the pagination method but failed\n",
    "- It will make only **one request**\n",
    "- You won’t get multiple pages of data unless you configure a paginator explicitly"
   ]
  },
  {
   "cell_type": "markdown",
   "metadata": {
    "id": "2P2y_ya_LD5X"
   },
   "source": [
    "### **Question 1:**\n",
    "\n",
    "\n",
    "Which paginator is used by `client.paginate()` by default in the example above?\n",
    "\n",
    "\n",
    ">Answer this question and select the correct option in the homework Google Form.\n"
   ]
  },
  {
   "cell_type": "markdown",
   "metadata": {
    "id": "H8uKuQ6ISs3u"
   },
   "source": [
    "### **How we chose the right paginator for NewsAPI**\n",
    "\n",
    "When using `RESTClient` to extract data from paginated APIs, one of the first decisions you must make is:  \n",
    "**\"What type of pagination does this API use?\"**  \n",
    "This determines which paginator to plug into the client.\n",
    "\n",
    "---\n",
    "\n",
    "**Step 1: Read the API docs**\n",
    "\n",
    "From the [NewsAPI documentation](https://newsapi.org/docs/endpoints/everything), we learn:\n",
    "\n",
    "- Pagination is done via two query parameters:\n",
    "  - `page` → page number (starts at 1)\n",
    "  - `pageSize` → how many articles per page (max 100)\n",
    "- Example request:\n",
    "  ```\n",
    "  GET /v2/everything?q=bitcoin&page=2&pageSize=20&apiKey=...\n",
    "  ```\n",
    "\n",
    "There is **no \"next\" URL**, no cursor, no `offset`.\n",
    "\n",
    "This is **classic page-number pagination.**\n",
    "\n",
    "---\n",
    "\n",
    "**Step 2: Understand response behavior**\n",
    "\n",
    "Each response includes:\n",
    "\n",
    "```json\n",
    "{\n",
    "  \"status\": \"ok\",\n",
    "  \"totalResults\": 1532,\n",
    "  \"articles\": [ ... ]\n",
    "}\n",
    "```\n",
    "\n",
    "But:\n",
    "- The API **does not tell us how many total pages exist**.\n",
    "- We only know how many total results there are.\n",
    "\n",
    "So we either:\n",
    "- Compute total pages: `ceil(totalResults / pageSize)`  \n",
    "  *(But that requires looking into the first page’s body)*  \n",
    "- **Or we keep requesting pages until we get an empty list.**\n",
    "\n",
    "---\n",
    "\n",
    "**Step 3: Choose `PageNumberPaginator`**\n",
    "\n",
    "This is exactly what `PageNumberPaginator` is made for:\n"
   ]
  },
  {
   "cell_type": "code",
   "execution_count": null,
   "metadata": {
    "id": "EoIZvs1sKKJM"
   },
   "outputs": [],
   "source": [
    "from dlt.sources.helpers.rest_client.paginators import PageNumberPaginator\n",
    "from dlt.sources.helpers.rest_client import RESTClient\n",
    "from dlt.sources.helpers.rest_client.auth import APIKeyAuth\n",
    "from google.colab import userdata\n",
    "\n",
    "api_key = userdata.get(\"NEWS_API_KEY\")\n",
    "\n",
    "\n",
    "client = RESTClient(\n",
    "    base_url=\"https://newsapi.org/v2/\",\n",
    "    auth=APIKeyAuth(name=\"apiKey\", api_key=api_key, location=\"query\"),\n",
    "    paginator=PageNumberPaginator(\n",
    "        base_page=1,  # NewsAPI starts paging from 1\n",
    "        page_param=\"page\",  # Matches the API spec\n",
    "        total_path=None,  # Set it to None explicitly\n",
    "        stop_after_empty_page=True,  # Stop if no articles returned\n",
    "        maximum_page=4,  # Optional limit for dev/testing\n",
    "    ),\n",
    ")\n",
    "\n",
    "for page in client.paginate(\n",
    "    \"everything\", params={\"q\": \"python\", \"pageSize\": 5, \"language\": \"en\"}\n",
    "):\n",
    "    for article in page:\n",
    "        print(article[\"title\"])"
   ]
  },
  {
   "cell_type": "markdown",
   "metadata": {
    "id": "k8X8F2rZRDSE"
   },
   "source": [
    "## **4. Wrap into a dlt Resource**\n",
    "\n",
    "Let’s turn this into a dlt pipeline resource:\n"
   ]
  },
  {
   "cell_type": "code",
   "execution_count": null,
   "metadata": {
    "id": "9xAiyW40RCqB"
   },
   "outputs": [],
   "source": [
    "import os\n",
    "import dlt\n",
    "from dlt.sources.helpers.rest_client import RESTClient\n",
    "from dlt.sources.helpers.rest_client.auth import APIKeyAuth\n",
    "\n",
    "os.environ[\"API_KEY\"] = userdata.get(\"NEWS_API_KEY\")\n",
    "\n",
    "\n",
    "@dlt.resource(write_disposition=\"replace\", name=\"python_articles\")\n",
    "def get_articles(api_key: str = dlt.secrets.value) -> Iterator[TDataItems]:\n",
    "    client = RESTClient(\n",
    "        base_url=\"https://newsapi.org/v2/\",\n",
    "        auth=APIKeyAuth(name=\"apiKey\", api_key=api_key, location=\"query\"),\n",
    "        paginator=PageNumberPaginator(\n",
    "            base_page=1,\n",
    "            page_param=\"page\",\n",
    "            total_path=None,\n",
    "            stop_after_empty_page=True,\n",
    "            maximum_page=4,\n",
    "        ),\n",
    "    )\n",
    "\n",
    "    for page in client.paginate(\n",
    "        \"everything\", params={\"q\": \"python\", \"pageSize\": 5, \"language\": \"en\"}\n",
    "    ):\n",
    "        yield page"
   ]
  },
  {
   "cell_type": "markdown",
   "metadata": {
    "id": "t53csiFLRX82"
   },
   "source": [
    "## **5. Add `top-headlines` Resource**\n"
   ]
  },
  {
   "cell_type": "code",
   "execution_count": null,
   "metadata": {
    "id": "wjelK9BpRc1h"
   },
   "outputs": [],
   "source": [
    "import os\n",
    "import dlt\n",
    "from dlt.sources.helpers.rest_client import RESTClient\n",
    "from dlt.sources.helpers.rest_client.auth import APIKeyAuth\n",
    "\n",
    "os.environ[\"API_KEY\"] = userdata.get(\"NEWS_API_KEY\")\n",
    "\n",
    "\n",
    "@dlt.resource(write_disposition=\"replace\", name=\"top_articles\")\n",
    "def get_top_articles(api_key: str = dlt.secrets.value) -> Iterator[TDataItems]:\n",
    "    client = RESTClient(\n",
    "        base_url=\"https://newsapi.org/v2/\",\n",
    "        auth=APIKeyAuth(name=\"apiKey\", api_key=api_key, location=\"query\"),\n",
    "        paginator=PageNumberPaginator(\n",
    "            base_page=1,\n",
    "            page_param=\"page\",\n",
    "            total_path=None,\n",
    "            stop_after_empty_page=True,\n",
    "            maximum_page=4,\n",
    "        ),\n",
    "    )\n",
    "\n",
    "    for page in client.paginate(\n",
    "        \"top-headlines\", params={\"pageSize\": 5, \"language\": \"en\"}\n",
    "    ):\n",
    "        yield page"
   ]
  },
  {
   "cell_type": "markdown",
   "metadata": {
    "id": "xW5YHeeNRrkJ"
   },
   "source": [
    "\n",
    "## **6. Create a reusable Source**\n",
    "\n",
    "Now bundle both resources into a single `@dlt.source`:"
   ]
  },
  {
   "cell_type": "code",
   "execution_count": null,
   "metadata": {
    "id": "UUxKPDDCRwj4"
   },
   "outputs": [],
   "source": [
    "@dlt.source\n",
    "def newsapi_source(api_key: str = dlt.secrets.value) -> Iterable[DltResource]:\n",
    "    return [get_articles(api_key=api_key), get_top_articles(api_key=api_key)]"
   ]
  },
  {
   "cell_type": "markdown",
   "metadata": {
    "id": "JhfCFKuOR0LS"
   },
   "source": [
    "## **7. Run the pipeline**"
   ]
  },
  {
   "cell_type": "code",
   "execution_count": null,
   "metadata": {
    "id": "o97AzsDZR5oR"
   },
   "outputs": [],
   "source": [
    "import dlt\n",
    "\n",
    "pipeline = dlt.pipeline(\n",
    "    pipeline_name=\"newsapi_pipeline\", destination=\"duckdb\", dataset_name=\"news_data\"\n",
    ")\n",
    "\n",
    "info = pipeline.run(newsapi_source())\n",
    "print(info)"
   ]
  },
  {
   "cell_type": "markdown",
   "metadata": {
    "id": "JjsW51LRSEsO"
   },
   "source": [
    "## **8. Explore data**"
   ]
  },
  {
   "cell_type": "code",
   "execution_count": null,
   "metadata": {
    "id": "hbesRXsDSENw"
   },
   "outputs": [],
   "source": [
    "pipeline.dataset().python_articles.df().head()"
   ]
  },
  {
   "cell_type": "code",
   "execution_count": null,
   "metadata": {
    "id": "1eH1xg-cXWYH"
   },
   "outputs": [],
   "source": [
    "pipeline.dataset().top_articles.df().head()"
   ]
  },
  {
   "cell_type": "markdown",
   "metadata": {
    "id": "3Euqj4MyMrNW"
   },
   "source": [
    "\n",
    "# **Create custom source using `dlt` and [`rest_api` source](https://dlthub.com/docs/dlt-ecosystem/verified-sources/rest_api/basic)**\n",
    "\n",
    "`rest_api` is a generic source that you can use to create a `dlt` source from a REST API using a declarative configuration. The majority of REST APIs behave in a similar way; this `dlt` source attempts to provide a declarative way to define a `dlt` source for those APIs.\n",
    "\n",
    "Using a [declarative configuration](https://dlthub.com/docs/dlt-ecosystem/verified-sources/rest_api/basic#source-configuration), you can define:\n",
    "\n",
    "- the API endpoints to pull data from,\n",
    "- their relationships,\n",
    "- how to handle pagination,\n",
    "- authentication,\n",
    "- data transformation,\n",
    "- incremental loading.\n",
    "\n",
    "dlt will take care of the rest: **unnesting the data, inferring the schema**, etc., and **writing to the destination**\n",
    "\n",
    "In previous section you've already met Rest API Client. `dlt`’s **[RESTClient](https://dlthub.com/docs/general-usage/http/rest-client)** is the **low level abstraction** that powers the REST API Source.\n",
    "\n",
    "\n"
   ]
  },
  {
   "cell_type": "markdown",
   "metadata": {
    "id": "u8Ok-tRgaU84"
   },
   "source": [
    "## **What you’ll learn**\n",
    "\n",
    "This section will teach you how to create a reusable, authenticated, and paginated pipeline using the `rest_api_source` module in dlt. Our example will use the [NewsAPI](https://newsapi.org), which provides access to thousands of news articles via a REST API.\n",
    "\n",
    "We'll walk step-by-step through:\n",
    "- Setting up the source configuration\n",
    "- Authenticating with an API key\n",
    "- Configuring pagination\n",
    "- Building a working `dlt` pipeline\n",
    "- Inspecting and transforming the response"
   ]
  },
  {
   "cell_type": "markdown",
   "metadata": {
    "id": "md50baSW_fyW"
   },
   "source": [
    "## Reminder: **About NewsAPI**\n",
    "\n",
    "- **Base URL:** `https://newsapi.org/v2/`\n",
    "- **Authentication:** API key passed in query string as `apiKey`\n",
    "- **Documentation:** [NewsAPI Docs](https://newsapi.org/docs)\n",
    "\n",
    "| Endpoint          | Description                              | Auth Required | Response     |\n",
    "|-------------------|------------------------------------------|---------------|--------------|\n",
    "| `/everything`     | Search for news articles by keyword      | ✅ Yes        | JSON with `articles[]` |\n",
    "| `/top-headlines`  | Latest headlines filtered by region/topic| ✅ Yes        | JSON with `articles[]` |\n",
    "| `/sources`        | List of available news sources           | ✅ Yes        | JSON with `sources[]`  |\n",
    "\n",
    "To access the API, register for a **free account** at [newsapi.org](https://newsapi.org/register) and copy your personal API key.\n",
    "\n",
    "Add this key to your Colab secrets.\n"
   ]
  },
  {
   "cell_type": "markdown",
   "metadata": {
    "id": "bI5WjPgncFcz"
   },
   "source": [
    "## **1. Define the source configuration**\n",
    "\n",
    "We'll now build the complete configuration step-by-step. This gives you control over authentication, pagination, filters, and even incremental loading.\n",
    "\n"
   ]
  },
  {
   "cell_type": "markdown",
   "metadata": {
    "id": "MCa4tzTxddYp"
   },
   "source": [
    "### **RESTAPIConfig**\n",
    "\n",
    "The central object when working with `rest_api_source` is the `RESTAPIConfig`. This is a declarative Python dictionary that tells dlt everything it needs to know about the API you are connecting to.\n",
    "\n",
    "It defines:\n",
    "- how to connect to the API (base URL, authentication)\n",
    "- what endpoints to call (resources)\n",
    "- how to paginate\n",
    "- how to filter or sort the data\n",
    "- how to extract the actual data from responses\n",
    "\n",
    "```python\n",
    "import dlt\n",
    "from dlt.sources.rest_api import rest_api_source\n",
    "\n",
    "# Define config\n",
    "news_config = {\n",
    "    \"client\": {\n",
    "        \"base_url\": ...,\n",
    "        \"auth\": ...\n",
    "    },\n",
    "    \"resources\": [\n",
    "            ...\n",
    "    ]\n",
    "}\n",
    "\n",
    "# Create source\n",
    "news_source = rest_api_source(news_config)\n",
    "\n",
    "# Create pipeline\n",
    "pipeline = dlt.pipeline(\n",
    "  pipeline_name=\"news_pipeline\",\n",
    "  destination=\"duckdb\",\n",
    "  dataset_name=\"news\"\n",
    ")\n",
    "\n",
    "# Run it\n",
    "load_info = pipeline.run(news_source)\n",
    "```"
   ]
  },
  {
   "cell_type": "markdown",
   "metadata": {
    "id": "SC_Ul1Xben5w"
   },
   "source": [
    "You can start with just these fields and then add pagination, schema hints, transformations, and more as needed.\n",
    "\n",
    "To extract data from a REST API using `dlt`, we define a configuration dictionary that follows the `RESTAPIConfig` structure.\n",
    "This configuration describes:\n",
    "\n",
    "- how to connect to the API (base URL, headers, auth)\n",
    "- what resources to extract (endpoints)\n",
    "- how to paginate, filter, and process responses\n",
    "\n",
    "At a high level, the configuration has two required keys:"
   ]
  },
  {
   "cell_type": "markdown",
   "metadata": {
    "id": "Ge_Cn4Qaepiw"
   },
   "source": [
    "\n",
    "### **`client`**\n",
    "This defines the shared connection details for all requests:\n",
    "- `base_url`: The root URL for the API\n",
    "- `auth`: (Optional) Authentication method to use — such as API key or token\n",
    "- `headers`: (Optional) Custom headers for requests\n",
    "- `paginator`: (Optional) Default paginator for all resources\n"
   ]
  },
  {
   "cell_type": "markdown",
   "metadata": {
    "id": "AJ9vpPVWeeuy"
   },
   "source": [
    "\n",
    "\n",
    "### **`resources`**\n",
    "A list of resource definitions. Each resource becomes a table in your destination.\n",
    "A resource includes:\n",
    "- `name`: Table name for the resource\n",
    "- `endpoint`: Path to the endpoint, query parameters, pagination config\n",
    "- `write_disposition`: How to load the data (`append`, `merge`, `replace`)\n",
    "- `primary_key`: Optional key used when merging\n",
    "- `data_selector`: JSONPath to extract data from the response (e.g., \"articles\")\n",
    "- `processing_steps`: Optional filters and transformations\n",
    "- `response_actions`: Optional hooks to inspect or alter the HTTP response\n",
    "\n",
    "Let’s build a real-world configuration step-by-step using NewsAPI."
   ]
  },
  {
   "cell_type": "code",
   "execution_count": null,
   "metadata": {
    "id": "LKQYL2L1JLsu"
   },
   "outputs": [],
   "source": [
    "%%capture\n",
    "!pip install dlt[duckdb]"
   ]
  },
  {
   "cell_type": "code",
   "execution_count": null,
   "metadata": {
    "id": "MVzPMBateFgg"
   },
   "outputs": [],
   "source": [
    "import dlt\n",
    "from dlt.sources.rest_api import rest_api_source\n",
    "\n",
    "\n",
    "news_config: RESTAPIConfig = {\n",
    "    \"client\": {\n",
    "        \"base_url\": \"https://newsapi.org/v2/\",\n",
    "    },\n",
    "    \"resources\": [\n",
    "        {\n",
    "            \"name\": \"news_articles\",\n",
    "            \"endpoint\": {\"path\": \"everything\", \"params\": {\"q\": \"python\"}},\n",
    "        }\n",
    "    ],\n",
    "}\n",
    "\n",
    "news_source = rest_api_source(news_config)\n",
    "\n",
    "pipeline = dlt.pipeline(\n",
    "    pipeline_name=\"news_pipeline\", destination=\"duckdb\", dataset_name=\"news\"\n",
    ")\n",
    "\n",
    "load_info = pipeline.run(news_source)\n",
    "print(pipeline.last_trace)"
   ]
  },
  {
   "cell_type": "markdown",
   "metadata": {
    "id": "-YePPpjKMmX4"
   },
   "source": [
    "### Question 2:\n",
    "\n",
    "What error was thrown in the example above?\n",
    "\n",
    ">Answer this question and select the correct option in the homework Google Form."
   ]
  },
  {
   "cell_type": "markdown",
   "metadata": {
    "id": "V7g_V1v2xt1L"
   },
   "source": [
    "## **2. Add authentication**\n",
    "\n",
    "NewsAPI requires an API key to be sent with every request. We use dlt's built-in `api_key` authentication method, which places the key into the query string automatically:\n",
    "\n",
    "```python\n",
    "\"auth\": {\n",
    "    \"type\": \"api_key\",\n",
    "    \"name\": \"apiKey\",\n",
    "    \"api_key\": \"your_key\",\n",
    "    \"location\": \"query\",\n",
    "}\n",
    "```\n",
    "\n",
    "This ensures every request has `?apiKey=...` added. It's simple and secure, especially when storing the key in ENVs or Colab's secret manager.\n",
    "\n",
    "\n",
    "The available authentication methods you can find in [dlt documentation](https://dlthub.com/docs/general-usage/http/rest-client#authentication)."
   ]
  },
  {
   "cell_type": "code",
   "execution_count": null,
   "metadata": {
    "id": "pIsnhKAo0-bU"
   },
   "outputs": [],
   "source": [
    "import dlt\n",
    "from dlt.sources.rest_api import rest_api_source\n",
    "from google.colab import userdata\n",
    "\n",
    "api_key = userdata.get(\"NEWS_API_KEY\")\n",
    "\n",
    "\n",
    "news_config = {\n",
    "    \"client\": {\n",
    "        \"base_url\": \"https://newsapi.org/v2/\",\n",
    "        \"auth\": {\n",
    "            \"type\": \"api_key\",\n",
    "            \"name\": \"apiKey\",\n",
    "            \"api_key\": api_key,\n",
    "            \"location\": \"query\",\n",
    "        },\n",
    "    },\n",
    "    \"resources\": [\n",
    "        {\n",
    "            \"name\": \"news_articles\",\n",
    "            \"endpoint\": {\"path\": \"everything\", \"params\": {\"q\": \"python\"}},\n",
    "        }\n",
    "    ],\n",
    "}\n",
    "\n",
    "news_source = rest_api_source(news_config)\n",
    "\n",
    "pipeline = dlt.pipeline(\n",
    "    pipeline_name=\"news_pipeline\", destination=\"duckdb\", dataset_name=\"news\"\n",
    ")\n",
    "\n",
    "load_info = pipeline.run(news_source)\n",
    "print(pipeline.last_trace)"
   ]
  },
  {
   "cell_type": "markdown",
   "metadata": {
    "id": "Ohc-78khYPz8"
   },
   "source": [
    "## **3. Add pagination**\n",
    "\n",
    "The REST API source will try to automatically handle pagination for you. This works by detecting the pagination details from the first API response. Unfortunately, it doesn't work for NewsAPI.\n",
    "\n",
    "NewsAPI uses page-based pagination. We use the built-in `PageNumberPaginator` to automatically paginate through pages until results run out:\n",
    "\n",
    "\n",
    "```python\n",
    "\"paginator\": {\n",
    "    \"type\": \"page_number\",\n",
    "    \"page_param\": \"page\",\n",
    "    \"stop_after_empty_page\": True,\n",
    "    \"total_path\": None,\n",
    "    \"maximum_page\": 3,\n",
    "},\n",
    "```\n",
    "\n",
    "This will fetch up to 3 pages of results, stopping early if a page is empty."
   ]
  },
  {
   "cell_type": "code",
   "execution_count": null,
   "metadata": {
    "id": "SeYld6yLYU2H"
   },
   "outputs": [],
   "source": [
    "import dlt\n",
    "from dlt.sources.rest_api import rest_api_source\n",
    "from google.colab import userdata\n",
    "\n",
    "api_key = userdata.get(\"NEWS_API_KEY\")\n",
    "\n",
    "\n",
    "news_config = {\n",
    "    \"client\": {\n",
    "        \"base_url\": \"https://newsapi.org/v2/\",\n",
    "        \"auth\": {\n",
    "            \"type\": \"api_key\",\n",
    "            \"name\": \"apiKey\",\n",
    "            \"api_key\": api_key,\n",
    "            \"location\": \"query\",\n",
    "        },\n",
    "        \"paginator\": {\n",
    "            \"base_page\": 1,\n",
    "            \"type\": \"page_number\",\n",
    "            \"page_param\": \"page\",\n",
    "            \"total_path\": None,\n",
    "            \"maximum_page\": 3,\n",
    "        },\n",
    "    },\n",
    "    \"resources\": [\n",
    "        {\n",
    "            \"name\": \"news_articles\",\n",
    "            \"endpoint\": {\"path\": \"everything\", \"params\": {\"q\": \"python\"}},\n",
    "        }\n",
    "    ],\n",
    "}\n",
    "\n",
    "news_source = rest_api_source(news_config)\n",
    "\n",
    "pipeline = dlt.pipeline(\n",
    "    pipeline_name=\"news_pipeline\", destination=\"duckdb\", dataset_name=\"news\"\n",
    ")\n",
    "\n",
    "load_info = pipeline.run(news_source)\n",
    "print(pipeline.last_trace)"
   ]
  },
  {
   "cell_type": "code",
   "execution_count": null,
   "metadata": {
    "id": "GXxNygRFjJbo"
   },
   "outputs": [],
   "source": [
    "pipeline.dataset().news_articles.df().head()"
   ]
  },
  {
   "cell_type": "markdown",
   "metadata": {
    "id": "n-tcsvgbBdr6"
   },
   "source": [
    "## **4. Add order, filtering via params**\n",
    "We can filter articles using query parameters supported by NewsAPI:\n",
    "\n",
    "```python\n",
    "\"params\": {\n",
    "    \"q\": \"python\",\n",
    "    \"language\": \"en\",\n",
    "    \"pageSize\": 20,\n",
    "},\n",
    "```\n",
    "\n",
    "- `q`: search keyword (e.g. \"python\")\n",
    "- `language`: filter by article language\n",
    "- `pageSize`: number of articles per page (max 100)\n"
   ]
  },
  {
   "cell_type": "code",
   "execution_count": null,
   "metadata": {
    "id": "TvSLrij37WCw"
   },
   "outputs": [],
   "source": [
    "import dlt\n",
    "from dlt.sources.rest_api import rest_api_source\n",
    "from google.colab import userdata\n",
    "\n",
    "api_key = userdata.get(\"NEWS_API_KEY\")\n",
    "\n",
    "\n",
    "news_config = {\n",
    "    \"client\": {\n",
    "        \"base_url\": \"https://newsapi.org/v2/\",\n",
    "        \"auth\": {\n",
    "            \"type\": \"api_key\",\n",
    "            \"name\": \"apiKey\",\n",
    "            \"api_key\": api_key,\n",
    "            \"location\": \"query\",\n",
    "        },\n",
    "        \"paginator\": {\n",
    "            \"base_page\": 1,\n",
    "            \"type\": \"page_number\",\n",
    "            \"page_param\": \"page\",\n",
    "            \"total_path\": None,\n",
    "            \"maximum_page\": 3,\n",
    "        },\n",
    "    },\n",
    "    \"resources\": [\n",
    "        {\n",
    "            \"name\": \"news_articles\",\n",
    "            \"endpoint\": {\n",
    "                \"path\": \"everything\",\n",
    "                \"params\": {\n",
    "                    \"q\": \"python\",\n",
    "                    \"language\": \"en\",\n",
    "                    \"pageSize\": 20,\n",
    "                },\n",
    "            },\n",
    "        }\n",
    "    ],\n",
    "}\n",
    "\n",
    "news_source = rest_api_source(news_config)\n",
    "\n",
    "pipeline = dlt.pipeline(\n",
    "    pipeline_name=\"news_pipeline\", destination=\"duckdb\", dataset_name=\"news\"\n",
    ")\n",
    "\n",
    "load_info = pipeline.run(news_source)\n",
    "print(pipeline.last_trace)"
   ]
  },
  {
   "cell_type": "markdown",
   "metadata": {
    "id": "fsd_SPZD7nBj"
   },
   "source": [
    "## **5. Incremental loading**\n",
    "\n",
    "Although NewsAPI does not support true incremental loading via cursors, you can simulate it using the `from` or `to` date filters and dlt's `incremental` loader:\n",
    "\n",
    "```python\n",
    "\"from\": {\n",
    "    \"type\": \"incremental\",\n",
    "    \"cursor_path\": \"publishedAt\",\n",
    "    \"initial_value\": \"2024-01-01T00:00:00Z\",\n",
    "},\n",
    "```\n",
    "\n",
    "This setup means:\n",
    "- dlt will remember the last `publishedAt` seen\n",
    "- On the next run, it will only request articles newer than that\n",
    "\n",
    "This is optional and depends on your usage pattern.\n"
   ]
  },
  {
   "cell_type": "code",
   "execution_count": null,
   "metadata": {
    "id": "snTSLaT17l97"
   },
   "outputs": [],
   "source": [
    "import dlt\n",
    "from dlt.sources.rest_api import rest_api_source\n",
    "from google.colab import userdata\n",
    "\n",
    "api_key = userdata.get(\"NEWS_API_KEY\")\n",
    "\n",
    "\n",
    "news_config = {\n",
    "    \"client\": {\n",
    "        \"base_url\": \"https://newsapi.org/v2/\",\n",
    "        \"auth\": {\n",
    "            \"type\": \"api_key\",\n",
    "            \"name\": \"apiKey\",\n",
    "            \"api_key\": api_key,\n",
    "            \"location\": \"query\",\n",
    "        },\n",
    "        \"paginator\": {\n",
    "            \"base_page\": 1,\n",
    "            \"type\": \"page_number\",\n",
    "            \"page_param\": \"page\",\n",
    "            \"total_path\": None,\n",
    "            \"maximum_page\": 3,\n",
    "        },\n",
    "    },\n",
    "    \"resources\": [\n",
    "        {\n",
    "            \"name\": \"news_articles\",\n",
    "            \"endpoint\": {\n",
    "                \"path\": \"everything\",\n",
    "                \"params\": {\n",
    "                    \"q\": \"python\",\n",
    "                    \"language\": \"en\",\n",
    "                    \"pageSize\": 20,\n",
    "                    \"from\": {\n",
    "                        \"type\": \"incremental\",\n",
    "                        \"cursor_path\": \"publishedAt\",\n",
    "                        \"initial_value\": \"2025-04-15T00:00:00Z\",\n",
    "                    },\n",
    "                },\n",
    "            },\n",
    "        }\n",
    "    ],\n",
    "}\n",
    "\n",
    "news_source = rest_api_source(news_config)\n",
    "\n",
    "pipeline = dlt.pipeline(\n",
    "    pipeline_name=\"news_pipeline\", destination=\"duckdb\", dataset_name=\"news\"\n",
    ")\n",
    "\n",
    "load_info = pipeline.run(news_source)\n",
    "print(pipeline.last_trace)\n",
    "\n",
    "# Run the pipeline one more time\n",
    "load_info = pipeline.run(news_source)\n",
    "print(pipeline.last_trace)"
   ]
  },
  {
   "cell_type": "markdown",
   "metadata": {
    "id": "DRQZ2oswli2m"
   },
   "source": [
    "## **6. Add more endpoints**\n",
    "\n"
   ]
  },
  {
   "cell_type": "markdown",
   "metadata": {
    "id": "fr0yYE_or4T7"
   },
   "source": [
    "### Set defaults\n",
    "\n",
    "First, set some defaults for all endpoints:\n",
    "\n",
    "```python\n",
    "\"resource_defaults\": {\n",
    "    \"primary_key\": \"id\",\n",
    "    \"write_disposition\": \"merge\",\n",
    "    \"endpoint\": {\n",
    "        \"params\": {\n",
    "            \"per_page\": 100,\n",
    "        },\n",
    "    },\n",
    "},\n",
    "```"
   ]
  },
  {
   "cell_type": "code",
   "execution_count": null,
   "metadata": {
    "id": "gOM5_YfumelO"
   },
   "outputs": [],
   "source": [
    "import dlt\n",
    "from dlt.sources.rest_api import rest_api_source\n",
    "from google.colab import userdata\n",
    "\n",
    "api_key = userdata.get(\"NEWS_API_KEY\")\n",
    "\n",
    "\n",
    "news_config = {\n",
    "    \"client\": {\n",
    "        \"base_url\": \"https://newsapi.org/v2/\",\n",
    "        \"auth\": {\n",
    "            \"type\": \"api_key\",\n",
    "            \"name\": \"apiKey\",\n",
    "            \"api_key\": api_key,\n",
    "            \"location\": \"query\",\n",
    "        },\n",
    "        \"paginator\": {\n",
    "            \"base_page\": 1,\n",
    "            \"type\": \"page_number\",\n",
    "            \"page_param\": \"page\",\n",
    "            \"total_path\": None,\n",
    "            \"maximum_page\": 3,\n",
    "        },\n",
    "    },\n",
    "    \"resource_defaults\": {\n",
    "        \"write_disposition\": \"append\",\n",
    "        \"endpoint\": {\n",
    "            \"params\": {\n",
    "                \"language\": \"en\",\n",
    "                \"pageSize\": 20,\n",
    "            },\n",
    "        },\n",
    "    },\n",
    "    \"resources\": [\n",
    "        {\n",
    "            \"name\": \"news_articles\",\n",
    "            \"endpoint\": {\n",
    "                \"path\": \"everything\",\n",
    "                \"params\": {\n",
    "                    \"q\": \"python\",\n",
    "                    \"from\": {\n",
    "                        \"type\": \"incremental\",\n",
    "                        \"cursor_path\": \"publishedAt\",\n",
    "                        \"initial_value\": \"2025-04-15T00:00:00Z\",\n",
    "                    },\n",
    "                },\n",
    "            },\n",
    "        }\n",
    "    ],\n",
    "}\n",
    "\n",
    "news_source = rest_api_source(news_config)\n",
    "\n",
    "pipeline = dlt.pipeline(\n",
    "    pipeline_name=\"news_pipeline\", destination=\"duckdb\", dataset_name=\"news\"\n",
    ")\n",
    "\n",
    "load_info = pipeline.run(news_source)\n",
    "print(pipeline.last_trace)\n",
    "\n",
    "# Run the pipeline one more time\n",
    "load_info = pipeline.run(news_source)\n",
    "print(pipeline.last_trace)"
   ]
  },
  {
   "cell_type": "markdown",
   "metadata": {
    "id": "PB2O6j_bp9kH"
   },
   "source": [
    "`resource_defaults` contains the default values to configure the dlt resources returned by this source.\n",
    "\n",
    "`resources` object contains the configuration for each resource.\n",
    "\n"
   ]
  },
  {
   "cell_type": "markdown",
   "metadata": {
    "id": "F48BwIHZrhFm"
   },
   "source": [
    "### Add same level endpoint\n",
    "\n",
    "To load additional endpoints like `/top-headlines` or `/sources`, you can simply add more entries to the `resources` list:\n",
    "```python\n",
    "{\n",
    "  \"name\": \"top_headlines\",\n",
    "  \"endpoint\": {\n",
    "    \"path\": \"top-headlines\",\n",
    "    \"params\": {\"country\": \"us\", \"pageSize\": 10},\n",
    "    \"paginator\": {\"type\": \"page_number\", \"page_param\": \"page\"}\n",
    "  },\n",
    "  \"primary_key\": \"url\",\n",
    "  \"write_disposition\": \"append\",\n",
    "  \"data_selector\": \"articles\"\n",
    "}\n",
    "```"
   ]
  },
  {
   "cell_type": "code",
   "execution_count": null,
   "metadata": {
    "id": "xTB801pPsJ6_"
   },
   "outputs": [],
   "source": [
    "import dlt\n",
    "from dlt.sources.rest_api import rest_api_source\n",
    "from google.colab import userdata\n",
    "\n",
    "api_key = userdata.get(\"NEWS_API_KEY\")\n",
    "\n",
    "\n",
    "news_config = {\n",
    "    \"client\": {\n",
    "        \"base_url\": \"https://newsapi.org/v2/\",\n",
    "        \"auth\": {\n",
    "            \"type\": \"api_key\",\n",
    "            \"name\": \"apiKey\",\n",
    "            \"api_key\": api_key,\n",
    "            \"location\": \"query\",\n",
    "        },\n",
    "        \"paginator\": {\n",
    "            \"base_page\": 1,\n",
    "            \"type\": \"page_number\",\n",
    "            \"page_param\": \"page\",\n",
    "            \"total_path\": None,\n",
    "            \"maximum_page\": 3,\n",
    "        },\n",
    "    },\n",
    "    \"resource_defaults\": {\n",
    "        \"write_disposition\": \"append\",\n",
    "        \"endpoint\": {\n",
    "            \"params\": {\n",
    "                \"language\": \"en\",\n",
    "                \"pageSize\": 20,\n",
    "            },\n",
    "        },\n",
    "    },\n",
    "    \"resources\": [\n",
    "        {\n",
    "            \"name\": \"news_articles\",\n",
    "            \"endpoint\": {\n",
    "                \"path\": \"everything\",\n",
    "                \"params\": {\n",
    "                    \"q\": \"python\",\n",
    "                    \"from\": {\n",
    "                        \"type\": \"incremental\",\n",
    "                        \"cursor_path\": \"publishedAt\",\n",
    "                        \"initial_value\": \"2025-04-15T00:00:00Z\",\n",
    "                    },\n",
    "                },\n",
    "            },\n",
    "        },\n",
    "        {\n",
    "            \"name\": \"top_headlines\",\n",
    "            \"endpoint\": {\n",
    "                \"path\": \"top-headlines\",\n",
    "                \"params\": {\"country\": \"us\"},\n",
    "            },\n",
    "        },\n",
    "    ],\n",
    "}\n",
    "\n",
    "news_source = rest_api_source(news_config)\n",
    "\n",
    "pipeline = dlt.pipeline(\n",
    "    pipeline_name=\"news_pipeline\", destination=\"duckdb\", dataset_name=\"news\"\n",
    ")\n",
    "\n",
    "load_info = pipeline.run(news_source)\n",
    "print(pipeline.last_trace)\n",
    "\n",
    "pipeline.dataset().top_headlines.df().head()"
   ]
  },
  {
   "cell_type": "markdown",
   "metadata": {
    "id": "Fwb3Zq4eH51Y"
   },
   "source": [
    "## Advanced"
   ]
  },
  {
   "cell_type": "markdown",
   "metadata": {
    "id": "G8vqkmnHMOu1"
   },
   "source": [
    "### Response actions\n",
    "\n",
    "The `response_actions` field in the endpoint configuration allows you to specify how to **handle specific responses** or all responses from the API.\n",
    "\n",
    "For example:\n",
    "- Responses with specific status codes or content substrings can be ignored.\n",
    "- All responses or only responses with specific status codes or content substrings can be transformed with a custom callable, such as a function. This callable is passed on to the requests library as a response hook. The callable can modify the response object and has to return it for the modifications to take effect."
   ]
  },
  {
   "cell_type": "markdown",
   "metadata": {
    "id": "vqaM75U9IQmW"
   },
   "source": [
    "```python\n",
    "\"resources\": [\n",
    "    {\n",
    "        \"name\": \"news_articles\",\n",
    "        \"endpoint\": {\n",
    "            \"path\": \"everything\",\n",
    "            \"response_actions\": [\n",
    "                {\n",
    "                    \"status_code\": 200,\n",
    "                    \"content\": \"some text\",\n",
    "                    \"action\": do_something,\n",
    "                },\n",
    "            ],\n",
    "        },\n",
    "    },\n",
    "```\n",
    "\n",
    "Fields:\n",
    "\n",
    "* `status_code` (int, optional): The HTTP status code to match.\n",
    "* `content` (str, optional): A substring to search for in the response content.\n",
    "* `action` (str or Callable or List[Callable], optional): The action to take when the condition is met. Currently supported actions:\n",
    "\"ignore\": Ignore the response.\n",
    "a callable accepting and returning the response object.\n",
    "a list of callables, each accepting and returning the response object.\n"
   ]
  },
  {
   "cell_type": "code",
   "execution_count": null,
   "metadata": {
    "id": "XOa-wwPEIope"
   },
   "outputs": [],
   "source": [
    "def debug_response(\n",
    "    response: requests.Response, *args: Any, **kwargs: Any\n",
    ") -> requests.Response:\n",
    "    print(\"Intercepted:\", response.status_code)\n",
    "    return response"
   ]
  },
  {
   "cell_type": "code",
   "execution_count": null,
   "metadata": {
    "id": "M93o6LrepBf1"
   },
   "outputs": [],
   "source": [
    "import dlt\n",
    "from dlt.sources.rest_api import rest_api_source\n",
    "from google.colab import userdata\n",
    "\n",
    "api_key = userdata.get(\"NEWS_API_KEY\")\n",
    "\n",
    "\n",
    "news_config = {\n",
    "    \"client\": {\n",
    "        \"base_url\": \"https://newsapi.org/v2/\",\n",
    "        \"auth\": {\n",
    "            \"type\": \"api_key\",\n",
    "            \"name\": \"apiKey\",\n",
    "            \"api_key\": api_key,\n",
    "            \"location\": \"query\",\n",
    "        },\n",
    "        \"paginator\": {\n",
    "            \"base_page\": 1,\n",
    "            \"type\": \"page_number\",\n",
    "            \"page_param\": \"page\",\n",
    "            \"total_path\": None,\n",
    "            \"maximum_page\": 3,\n",
    "        },\n",
    "    },\n",
    "    \"resource_defaults\": {\n",
    "        \"write_disposition\": \"append\",\n",
    "        \"endpoint\": {\n",
    "            \"params\": {\n",
    "                \"language\": \"en\",\n",
    "                \"pageSize\": 20,\n",
    "            },\n",
    "        },\n",
    "    },\n",
    "    \"resources\": [\n",
    "        {\n",
    "            \"name\": \"news_articles\",\n",
    "            \"endpoint\": {\n",
    "                \"path\": \"everything\",\n",
    "                \"response_actions\": [\n",
    "                    {\n",
    "                        \"status_code\": 200,\n",
    "                        \"action\": debug_response,  # <--- add some action\n",
    "                    },\n",
    "                ],\n",
    "                \"params\": {\n",
    "                    \"q\": \"python\",\n",
    "                    \"from\": {\n",
    "                        \"type\": \"incremental\",\n",
    "                        \"cursor_path\": \"publishedAt\",\n",
    "                        \"initial_value\": \"2025-04-15T00:00:00Z\",\n",
    "                    },\n",
    "                },\n",
    "            },\n",
    "        },\n",
    "        {\n",
    "            \"name\": \"top_headlines\",\n",
    "            \"endpoint\": {\n",
    "                \"path\": \"top-headlines\",\n",
    "                \"params\": {\"country\": \"us\"},\n",
    "            },\n",
    "        },\n",
    "    ],\n",
    "}\n",
    "\n",
    "news_source = rest_api_source(news_config)\n",
    "\n",
    "pipeline = dlt.pipeline(\n",
    "    pipeline_name=\"news_pipeline\", destination=\"duckdb\", dataset_name=\"news\"\n",
    ")\n",
    "\n",
    "load_info = pipeline.run(news_source)\n",
    "print(pipeline.last_trace)\n",
    "\n",
    "pipeline.dataset().news_articles.df().head()"
   ]
  },
  {
   "cell_type": "markdown",
   "metadata": {
    "id": "8Ua6sYLsMLO_"
   },
   "source": [
    "### Processing steps: filter and transform data\n",
    "The `processing_steps` field in the resource configuration allows you to **apply transformations** to the data fetched from the API before it is loaded into your destination.\n",
    "\n",
    "This is useful when you need to\n",
    "- **filter out** certain records,\n",
    "- **modify the data** structure,\n",
    "- **anonymize** sensitive information.\n",
    "\n",
    "Each processing step is a dictionary specifying the type of operation (filter or map) and the function to apply. Steps apply in the order they are listed."
   ]
  },
  {
   "cell_type": "markdown",
   "metadata": {
    "id": "_j9a6utVMFP3"
   },
   "source": [
    "```python\n",
    " \"resources\": [\n",
    "        {\n",
    "            \"name\": \"news_articles\",\n",
    "            \"processing_steps\": [\n",
    "                {\"filter\": lambda x: len(x[\"author\"]) > 0},\n",
    "                {\"map\": lower_title},\n",
    "            ],\n",
    "        },\n",
    "    ],\n",
    "```"
   ]
  },
  {
   "cell_type": "code",
   "execution_count": null,
   "metadata": {
    "id": "w7VUsTmUMo67"
   },
   "outputs": [],
   "source": [
    "def lower_title(record: TDataItem) -> TDataItem:\n",
    "    record[\"title\"] = record[\"title\"].lower()\n",
    "    return record"
   ]
  },
  {
   "cell_type": "code",
   "execution_count": null,
   "metadata": {
    "id": "2b2uZ5WvqbSO"
   },
   "outputs": [],
   "source": [
    "import dlt\n",
    "from dlt.sources.rest_api import rest_api_source\n",
    "from google.colab import userdata\n",
    "\n",
    "api_key = userdata.get(\"NEWS_API_KEY\")\n",
    "\n",
    "\n",
    "news_config = {\n",
    "    \"client\": {\n",
    "        \"base_url\": \"https://newsapi.org/v2/\",\n",
    "        \"auth\": {\n",
    "            \"type\": \"api_key\",\n",
    "            \"name\": \"apiKey\",\n",
    "            \"api_key\": api_key,\n",
    "            \"location\": \"query\",\n",
    "        },\n",
    "        \"paginator\": {\n",
    "            \"base_page\": 1,\n",
    "            \"type\": \"page_number\",\n",
    "            \"page_param\": \"page\",\n",
    "            \"total_path\": None,\n",
    "            \"maximum_page\": 3,\n",
    "        },\n",
    "    },\n",
    "    \"resource_defaults\": {\n",
    "        \"write_disposition\": \"append\",\n",
    "        \"endpoint\": {\n",
    "            \"params\": {\n",
    "                \"language\": \"en\",\n",
    "                \"pageSize\": 20,\n",
    "            },\n",
    "        },\n",
    "    },\n",
    "    \"resources\": [\n",
    "        {\n",
    "            \"name\": \"news_articles\",\n",
    "            \"processing_steps\": [\n",
    "                {\"filter\": lambda x: len(x[\"author\"]) > 0},  # <--- add filter\n",
    "                {\"map\": lower_title},  # <--- add some transformation\n",
    "            ],\n",
    "            \"endpoint\": {\n",
    "                \"path\": \"everything\",\n",
    "                \"response_actions\": [\n",
    "                    {\n",
    "                        \"status_code\": 200,\n",
    "                        \"action\": debug_response,\n",
    "                    },\n",
    "                ],\n",
    "                \"params\": {\n",
    "                    \"q\": \"python\",\n",
    "                    \"from\": {\n",
    "                        \"type\": \"incremental\",\n",
    "                        \"cursor_path\": \"publishedAt\",\n",
    "                        \"initial_value\": \"2025-04-15T00:00:00Z\",\n",
    "                    },\n",
    "                },\n",
    "            },\n",
    "        },\n",
    "        {\n",
    "            \"name\": \"top_headlines\",\n",
    "            \"endpoint\": {\n",
    "                \"path\": \"top-headlines\",\n",
    "                \"params\": {\"country\": \"us\"},\n",
    "            },\n",
    "        },\n",
    "    ],\n",
    "}\n",
    "\n",
    "news_source = rest_api_source(news_config)\n",
    "\n",
    "pipeline = dlt.pipeline(\n",
    "    pipeline_name=\"news_pipeline\", destination=\"duckdb\", dataset_name=\"news\"\n",
    ")\n",
    "\n",
    "load_info = pipeline.run(news_source)\n",
    "print(pipeline.last_trace)\n",
    "\n",
    "pipeline.dataset().news_articles.df().head()"
   ]
  },
  {
   "cell_type": "markdown",
   "metadata": {
    "id": "jeYM5yu6ejuq"
   },
   "source": [
    "# Links\n",
    "\n",
    "More Information about how to build efficient data pipelines you can find in our official documentation:\n",
    "- `dlt` [Getting Started](https://dlthub.com/docs/getting-started),\n",
    "- [REST API Source](https://dlthub.com/docs/dlt-ecosystem/verified-sources/rest_api),\n",
    "- [REST API Client](https://dlthub.com/docs/general-usage/http/rest-client),\n",
    "- `dlt` [Sources](https://dlthub.com/docs/general-usage/source) and [Resources](https://dlthub.com/docs/general-usage/resource),\n",
    "- [Incremental loading](https://dlthub.com/docs/general-usage/incremental-loading),\n",
    "- Our pre-built [Verified Sources](https://dlthub.com/docs/dlt-ecosystem/verified-sources/),\n",
    "- Available [Destinations](https://dlthub.com/docs/dlt-ecosystem/destinations/)."
   ]
  },
  {
   "cell_type": "markdown",
   "metadata": {},
   "source": [
    "![Lesson_1_Custom_sources_RestAPI_source_and_RESTClient_img2](https://storage.googleapis.com/dlt-blog-images/dlt-advanced-course/Lesson_1_Custom_sources_RestAPI_source_and_RESTClient_img2.jpeg)"
   ]
  },
  {
   "cell_type": "markdown",
   "metadata": {
    "id": "JwUVbvi0D6Tp"
   },
   "source": [
    "# Exercise 1\n",
    "\n",
    "Your task is to create a `rest_api_source` configuration for the public **Jaffle Shop API**. This exercise will help you apply what you’ve learned:\n",
    "\n",
    "### API details:\n",
    "- **Base URL:** `https://jaffle-shop.scalevector.ai/api/v1`\n",
    "- **Docs:** [https://jaffle-shop.scalevector.ai/docs](https://jaffle-shop.scalevector.ai/docs)\n",
    "\n",
    "### Endpoints to load:\n",
    "- `/orders`\n",
    "\n",
    "### Requirements:\n",
    "1. Use `rest_api_source` to define your source config.\n",
    "2. This API uses **pagination**. Figure out what type is it.\n",
    "3. Add incremental loading to `orders`, starting from `2017-08-01` and using `ordered_at` as the cursor.\n",
    "4. Add `processing_steps` to `orders`:\n",
    "  - Remove records from orders which `order_total` > 500.\n",
    "\n",
    "\n",
    "\n",
    "### Question:\n",
    "How many rows does resulted table `orders` contain?\n"
   ]
  },
  {
   "cell_type": "code",
   "execution_count": null,
   "metadata": {
    "id": "0uOnw1KOGLTx"
   },
   "outputs": [],
   "source": [
    "pipeline.dataset().orders.df()"
   ]
  },
  {
   "cell_type": "markdown",
   "metadata": {
    "id": "70D6czgeId7F"
   },
   "source": [
    "✅ ▶ Well done! Go to [the next lesson.](https://colab.research.google.com/drive/1lQ8VkrGJwZMsVtbkuYympcvbv0_CCgYo#forceEdit=true&sandboxMode=true)"
   ]
  },
  {
   "cell_type": "code",
   "execution_count": null,
   "metadata": {
    "id": "JTCuVPaqIy2o"
   },
   "outputs": [],
   "source": []
  }
 ],
 "metadata": {
  "colab": {
   "provenance": [],
   "toc_visible": true
  },
  "kernelspec": {
   "display_name": "Python 3",
   "name": "python3"
  },
  "language_info": {
   "name": "python"
  }
 },
 "nbformat": 4,
 "nbformat_minor": 0
}
